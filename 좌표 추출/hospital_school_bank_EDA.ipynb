{
 "cells": [
  {
   "cell_type": "markdown",
   "metadata": {},
   "source": [
    "# [은행]"
   ]
  },
  {
   "cell_type": "code",
   "execution_count": 2,
   "metadata": {},
   "outputs": [],
   "source": [
    "import pandas as pd\n",
    "import numpy as np"
   ]
  },
  {
   "cell_type": "code",
   "execution_count": 53,
   "metadata": {},
   "outputs": [],
   "source": [
    "column = ['은행점포코드','은행점포명','은행코드','은행명','원천주소','점포시작일','점포구분명','지번코드','도로명주소건물관리번호',\n",
    "           '지번 주소','도로명 주소','X좌표','Y좌표','블록코드']\n",
    "bank = pd.read_csv('C:/Users/swc08/Desktop/대학/비어플/프로젝트1/은행/은행.csv', names=column)"
   ]
  },
  {
   "cell_type": "code",
   "execution_count": 54,
   "metadata": {},
   "outputs": [],
   "source": [
    "bank.drop(['은행점포코드','은행코드','원천주소','점포시작일','점포구분명','지번코드','도로명주소건물관리번호','지번 주소','블록코드'], axis=1, inplace=True)"
   ]
  },
  {
   "cell_type": "code",
   "execution_count": 55,
   "metadata": {},
   "outputs": [],
   "source": [
    "bank['은행명'] = bank.은행명.astype('category')"
   ]
  },
  {
   "cell_type": "code",
   "execution_count": 56,
   "metadata": {},
   "outputs": [
    {
     "name": "stdout",
     "output_type": "stream",
     "text": [
      "<class 'pandas.core.frame.DataFrame'>\n",
      "RangeIndex: 477 entries, 0 to 476\n",
      "Data columns (total 5 columns):\n",
      " #   Column  Non-Null Count  Dtype   \n",
      "---  ------  --------------  -----   \n",
      " 0   은행점포명   477 non-null    object  \n",
      " 1   은행명     477 non-null    category\n",
      " 2   도로명 주소  477 non-null    object  \n",
      " 3   X좌표     477 non-null    int64   \n",
      " 4   Y좌표     477 non-null    int64   \n",
      "dtypes: category(1), int64(2), object(2)\n",
      "memory usage: 16.2+ KB\n"
     ]
    }
   ],
   "source": [
    "bank.info()"
   ]
  },
  {
   "cell_type": "code",
   "execution_count": 57,
   "metadata": {},
   "outputs": [
    {
     "data": {
      "text/html": [
       "<div>\n",
       "<style scoped>\n",
       "    .dataframe tbody tr th:only-of-type {\n",
       "        vertical-align: middle;\n",
       "    }\n",
       "\n",
       "    .dataframe tbody tr th {\n",
       "        vertical-align: top;\n",
       "    }\n",
       "\n",
       "    .dataframe thead th {\n",
       "        text-align: right;\n",
       "    }\n",
       "</style>\n",
       "<table border=\"1\" class=\"dataframe\">\n",
       "  <thead>\n",
       "    <tr style=\"text-align: right;\">\n",
       "      <th></th>\n",
       "      <th>은행점포명</th>\n",
       "      <th>은행명</th>\n",
       "      <th>도로명 주소</th>\n",
       "      <th>X좌표</th>\n",
       "      <th>Y좌표</th>\n",
       "    </tr>\n",
       "  </thead>\n",
       "  <tbody>\n",
       "    <tr>\n",
       "      <th>0</th>\n",
       "      <td>증미역지점</td>\n",
       "      <td>우리은행</td>\n",
       "      <td>서울특별시 강서구 양천로 583</td>\n",
       "      <td>299857</td>\n",
       "      <td>551147</td>\n",
       "    </tr>\n",
       "    <tr>\n",
       "      <th>1</th>\n",
       "      <td>서염창</td>\n",
       "      <td>KB국민은행</td>\n",
       "      <td>서울특별시 강서구 양천로 643</td>\n",
       "      <td>300267</td>\n",
       "      <td>550751</td>\n",
       "    </tr>\n",
       "    <tr>\n",
       "      <th>2</th>\n",
       "      <td>경인북부수협 염창동지점</td>\n",
       "      <td>단위수협</td>\n",
       "      <td>서울특별시 강서구 양천로 657</td>\n",
       "      <td>300388</td>\n",
       "      <td>550642</td>\n",
       "    </tr>\n",
       "  </tbody>\n",
       "</table>\n",
       "</div>"
      ],
      "text/plain": [
       "          은행점포명     은행명             도로명 주소     X좌표     Y좌표\n",
       "0         증미역지점    우리은행  서울특별시 강서구 양천로 583  299857  551147\n",
       "1           서염창  KB국민은행  서울특별시 강서구 양천로 643  300267  550751\n",
       "2  경인북부수협 염창동지점    단위수협  서울특별시 강서구 양천로 657  300388  550642"
      ]
     },
     "execution_count": 57,
     "metadata": {},
     "output_type": "execute_result"
    }
   ],
   "source": [
    "bank.head(3)"
   ]
  },
  {
   "cell_type": "code",
   "execution_count": 58,
   "metadata": {},
   "outputs": [],
   "source": [
    "bank.to_csv('./은행/seoul_bank.csv')"
   ]
  },
  {
   "cell_type": "markdown",
   "metadata": {},
   "source": [
    "# [병원]"
   ]
  },
  {
   "cell_type": "code",
   "execution_count": 14,
   "metadata": {},
   "outputs": [],
   "source": [
    "hospi = pd.read_csv('./병원/서울시 병원 인허가 정보.csv', encoding='cp949')"
   ]
  },
  {
   "cell_type": "code",
   "execution_count": 15,
   "metadata": {},
   "outputs": [
    {
     "data": {
      "text/plain": [
       "Index(['개방자치단체코드', '관리번호', '인허가일자', '인허가취소일자', '영업상태코드', '영업상태명', '상세영업상태코드',\n",
       "       '상세영업상태명', '폐업일자', '휴업시작일자', '휴업종료일자', '재개업일자', '전화번호', '소재지면적',\n",
       "       '소재지우편번호', '지번주소', '도로명주소', '도로명우편번호', '사업장명', '최종수정일자', '데이터갱신구분',\n",
       "       '데이터갱신일자', '업태구분명', '좌표정보(X)', '좌표정보(Y)', '의료기관종별명', '의료인수', '입원실수',\n",
       "       '병상수', '총면적', '진료과목내용', '진료과목내용명', '지정취소일자', '완화의료지정형태', '완화의료담당부서명',\n",
       "       '구급차특수', '구급차일반', '총인원', '구조사수', '허가병상수', '최초지정일자'],\n",
       "      dtype='object')"
      ]
     },
     "execution_count": 15,
     "metadata": {},
     "output_type": "execute_result"
    }
   ],
   "source": [
    "hospi.columns"
   ]
  },
  {
   "cell_type": "code",
   "execution_count": 16,
   "metadata": {},
   "outputs": [],
   "source": [
    "hospi.drop(['개방자치단체코드','관리번호','상세영업상태코드','전화번호','소재지우편번호','지번주소','도로명우편번호',\n",
    "            '최종수정일자','데이터갱신구분','데이터갱신일자','입원실수','병상수','진료과목내용','진료과목내용명','지정취소일자','완화의료지정형태',\n",
    "            '완화의료담당부서명','구급차특수','구급차일반','총인원','구조사수','허가병상수','최초지정일자','의료기관종별명','의료인수','총면적'], axis=1, inplace=True)"
   ]
  },
  {
   "cell_type": "code",
   "execution_count": 18,
   "metadata": {},
   "outputs": [
    {
     "data": {
      "text/html": [
       "<div>\n",
       "<style scoped>\n",
       "    .dataframe tbody tr th:only-of-type {\n",
       "        vertical-align: middle;\n",
       "    }\n",
       "\n",
       "    .dataframe tbody tr th {\n",
       "        vertical-align: top;\n",
       "    }\n",
       "\n",
       "    .dataframe thead th {\n",
       "        text-align: right;\n",
       "    }\n",
       "</style>\n",
       "<table border=\"1\" class=\"dataframe\">\n",
       "  <thead>\n",
       "    <tr style=\"text-align: right;\">\n",
       "      <th></th>\n",
       "      <th>인허가일자</th>\n",
       "      <th>인허가취소일자</th>\n",
       "      <th>영업상태코드</th>\n",
       "      <th>영업상태명</th>\n",
       "      <th>상세영업상태명</th>\n",
       "      <th>폐업일자</th>\n",
       "      <th>휴업시작일자</th>\n",
       "      <th>휴업종료일자</th>\n",
       "      <th>재개업일자</th>\n",
       "      <th>소재지면적</th>\n",
       "      <th>도로명주소</th>\n",
       "      <th>사업장명</th>\n",
       "      <th>업태구분명</th>\n",
       "      <th>좌표정보(X)</th>\n",
       "      <th>좌표정보(Y)</th>\n",
       "    </tr>\n",
       "  </thead>\n",
       "  <tbody>\n",
       "    <tr>\n",
       "      <th>0</th>\n",
       "      <td>2005-12-07</td>\n",
       "      <td>NaN</td>\n",
       "      <td>1</td>\n",
       "      <td>영업/정상</td>\n",
       "      <td>영업중</td>\n",
       "      <td>NaN</td>\n",
       "      <td>NaN</td>\n",
       "      <td>NaN</td>\n",
       "      <td>NaN</td>\n",
       "      <td>4755.54</td>\n",
       "      <td>서울특별시 성북구 화랑로 271 (장위동)</td>\n",
       "      <td>의료법인유라의료재단 온누리요양병원</td>\n",
       "      <td>요양병원(일반요양병원)</td>\n",
       "      <td>205115.270098</td>\n",
       "      <td>456653.347260</td>\n",
       "    </tr>\n",
       "    <tr>\n",
       "      <th>1</th>\n",
       "      <td>2007-10-23</td>\n",
       "      <td>NaN</td>\n",
       "      <td>1</td>\n",
       "      <td>영업/정상</td>\n",
       "      <td>영업중</td>\n",
       "      <td>NaN</td>\n",
       "      <td>NaN</td>\n",
       "      <td>NaN</td>\n",
       "      <td>NaN</td>\n",
       "      <td>2337.69</td>\n",
       "      <td>서울특별시 동작구 시흥대로 634 (신대방동)</td>\n",
       "      <td>의료법인에이치엠피의료재단녹십초요양병원</td>\n",
       "      <td>요양병원(일반요양병원)</td>\n",
       "      <td>191677.374890</td>\n",
       "      <td>442912.575898</td>\n",
       "    </tr>\n",
       "    <tr>\n",
       "      <th>2</th>\n",
       "      <td>2022-09-23</td>\n",
       "      <td>NaN</td>\n",
       "      <td>1</td>\n",
       "      <td>영업/정상</td>\n",
       "      <td>영업중</td>\n",
       "      <td>NaN</td>\n",
       "      <td>NaN</td>\n",
       "      <td>NaN</td>\n",
       "      <td>NaN</td>\n",
       "      <td>2544.15</td>\n",
       "      <td>서울특별시 도봉구 덕릉로 215, 3~7층 (창동)</td>\n",
       "      <td>자향한방병원</td>\n",
       "      <td>한방병원</td>\n",
       "      <td>203151.226589</td>\n",
       "      <td>459468.169735</td>\n",
       "    </tr>\n",
       "    <tr>\n",
       "      <th>3</th>\n",
       "      <td>2013-04-10</td>\n",
       "      <td>NaN</td>\n",
       "      <td>3</td>\n",
       "      <td>폐업</td>\n",
       "      <td>폐업</td>\n",
       "      <td>2024-08-18</td>\n",
       "      <td>NaN</td>\n",
       "      <td>NaN</td>\n",
       "      <td>NaN</td>\n",
       "      <td>166.27</td>\n",
       "      <td>서울특별시 강남구 밤고개로1길 10, 315호 (수서동, 수서현대벤쳐빌)</td>\n",
       "      <td>기쁨정원치과병원</td>\n",
       "      <td>치과병원</td>\n",
       "      <td>208937.760652</td>\n",
       "      <td>442873.588040</td>\n",
       "    </tr>\n",
       "    <tr>\n",
       "      <th>4</th>\n",
       "      <td>1993-01-09</td>\n",
       "      <td>NaN</td>\n",
       "      <td>1</td>\n",
       "      <td>영업/정상</td>\n",
       "      <td>영업중</td>\n",
       "      <td>NaN</td>\n",
       "      <td>NaN</td>\n",
       "      <td>NaN</td>\n",
       "      <td>NaN</td>\n",
       "      <td>958.25</td>\n",
       "      <td>서울특별시 송파구 문정로 65, 인애가한방병원 1,2,4,5,6층 (문정동)</td>\n",
       "      <td>의료법인일맥의료재단 송파인애가한방병원</td>\n",
       "      <td>한방병원</td>\n",
       "      <td>211382.026862</td>\n",
       "      <td>442795.708067</td>\n",
       "    </tr>\n",
       "    <tr>\n",
       "      <th>...</th>\n",
       "      <td>...</td>\n",
       "      <td>...</td>\n",
       "      <td>...</td>\n",
       "      <td>...</td>\n",
       "      <td>...</td>\n",
       "      <td>...</td>\n",
       "      <td>...</td>\n",
       "      <td>...</td>\n",
       "      <td>...</td>\n",
       "      <td>...</td>\n",
       "      <td>...</td>\n",
       "      <td>...</td>\n",
       "      <td>...</td>\n",
       "      <td>...</td>\n",
       "      <td>...</td>\n",
       "    </tr>\n",
       "    <tr>\n",
       "      <th>886</th>\n",
       "      <td>2020-07-28</td>\n",
       "      <td>NaN</td>\n",
       "      <td>1</td>\n",
       "      <td>영업/정상</td>\n",
       "      <td>영업중</td>\n",
       "      <td>NaN</td>\n",
       "      <td>NaN</td>\n",
       "      <td>NaN</td>\n",
       "      <td>NaN</td>\n",
       "      <td>NaN</td>\n",
       "      <td>서울특별시 노원구 노원로 461, 대감프라자빌딩 3,4,5,6층 (상계동)</td>\n",
       "      <td>그레이스힐 요양병원</td>\n",
       "      <td>요양병원(일반요양병원)</td>\n",
       "      <td>205705.736650</td>\n",
       "      <td>461663.539093</td>\n",
       "    </tr>\n",
       "    <tr>\n",
       "      <th>887</th>\n",
       "      <td>2013-01-04</td>\n",
       "      <td>NaN</td>\n",
       "      <td>1</td>\n",
       "      <td>영업/정상</td>\n",
       "      <td>영업중</td>\n",
       "      <td>NaN</td>\n",
       "      <td>NaN</td>\n",
       "      <td>NaN</td>\n",
       "      <td>NaN</td>\n",
       "      <td>1956.52</td>\n",
       "      <td>서울특별시 노원구 노해로 507, 7,8층 (상계동, 와우쇼핑몰)</td>\n",
       "      <td>노원자생한방병원</td>\n",
       "      <td>한방병원</td>\n",
       "      <td>205557.013356</td>\n",
       "      <td>461441.687971</td>\n",
       "    </tr>\n",
       "    <tr>\n",
       "      <th>888</th>\n",
       "      <td>2016-03-23</td>\n",
       "      <td>NaN</td>\n",
       "      <td>1</td>\n",
       "      <td>영업/정상</td>\n",
       "      <td>영업중</td>\n",
       "      <td>NaN</td>\n",
       "      <td>NaN</td>\n",
       "      <td>NaN</td>\n",
       "      <td>NaN</td>\n",
       "      <td>8301.63</td>\n",
       "      <td>서울특별시 마포구 월드컵북로 494, 지하1층~7층 (상암동, 푸르메재단넥슨어린이재...</td>\n",
       "      <td>푸르메재단 넥슨어린이재활병원</td>\n",
       "      <td>요양병원(장애인의료재활시설)</td>\n",
       "      <td>189380.940593</td>\n",
       "      <td>453602.251632</td>\n",
       "    </tr>\n",
       "    <tr>\n",
       "      <th>889</th>\n",
       "      <td>2012-09-05</td>\n",
       "      <td>NaN</td>\n",
       "      <td>1</td>\n",
       "      <td>영업/정상</td>\n",
       "      <td>영업중</td>\n",
       "      <td>NaN</td>\n",
       "      <td>NaN</td>\n",
       "      <td>NaN</td>\n",
       "      <td>NaN</td>\n",
       "      <td>1999.50</td>\n",
       "      <td>서울특별시 노원구 노해로 502, 2층, 3층, 5층 (상계동)</td>\n",
       "      <td>참튼튼병원</td>\n",
       "      <td>병원</td>\n",
       "      <td>205550.908408</td>\n",
       "      <td>461343.062227</td>\n",
       "    </tr>\n",
       "    <tr>\n",
       "      <th>890</th>\n",
       "      <td>2010-02-19</td>\n",
       "      <td>NaN</td>\n",
       "      <td>1</td>\n",
       "      <td>영업/정상</td>\n",
       "      <td>영업중</td>\n",
       "      <td>NaN</td>\n",
       "      <td>NaN</td>\n",
       "      <td>NaN</td>\n",
       "      <td>NaN</td>\n",
       "      <td>1207.20</td>\n",
       "      <td>서울특별시 양천구 신목로 102, 3,5,6층 (목동, 대경프라자)</td>\n",
       "      <td>목동자생한방병원</td>\n",
       "      <td>한방병원</td>\n",
       "      <td>188954.524397</td>\n",
       "      <td>446824.338405</td>\n",
       "    </tr>\n",
       "  </tbody>\n",
       "</table>\n",
       "<p>891 rows × 15 columns</p>\n",
       "</div>"
      ],
      "text/plain": [
       "          인허가일자  인허가취소일자  영업상태코드  영업상태명 상세영업상태명        폐업일자 휴업시작일자 휴업종료일자  \\\n",
       "0    2005-12-07      NaN       1  영업/정상     영업중         NaN    NaN    NaN   \n",
       "1    2007-10-23      NaN       1  영업/정상     영업중         NaN    NaN    NaN   \n",
       "2    2022-09-23      NaN       1  영업/정상     영업중         NaN    NaN    NaN   \n",
       "3    2013-04-10      NaN       3     폐업      폐업  2024-08-18    NaN    NaN   \n",
       "4    1993-01-09      NaN       1  영업/정상     영업중         NaN    NaN    NaN   \n",
       "..          ...      ...     ...    ...     ...         ...    ...    ...   \n",
       "886  2020-07-28      NaN       1  영업/정상     영업중         NaN    NaN    NaN   \n",
       "887  2013-01-04      NaN       1  영업/정상     영업중         NaN    NaN    NaN   \n",
       "888  2016-03-23      NaN       1  영업/정상     영업중         NaN    NaN    NaN   \n",
       "889  2012-09-05      NaN       1  영업/정상     영업중         NaN    NaN    NaN   \n",
       "890  2010-02-19      NaN       1  영업/정상     영업중         NaN    NaN    NaN   \n",
       "\n",
       "     재개업일자    소재지면적                                              도로명주소  \\\n",
       "0      NaN  4755.54                            서울특별시 성북구 화랑로 271 (장위동)   \n",
       "1      NaN  2337.69                          서울특별시 동작구 시흥대로 634 (신대방동)   \n",
       "2      NaN  2544.15                       서울특별시 도봉구 덕릉로 215, 3~7층 (창동)   \n",
       "3      NaN   166.27           서울특별시 강남구 밤고개로1길 10, 315호 (수서동, 수서현대벤쳐빌)   \n",
       "4      NaN   958.25         서울특별시 송파구 문정로 65, 인애가한방병원 1,2,4,5,6층 (문정동)   \n",
       "..     ...      ...                                                ...   \n",
       "886    NaN      NaN          서울특별시 노원구 노원로 461, 대감프라자빌딩 3,4,5,6층 (상계동)   \n",
       "887    NaN  1956.52               서울특별시 노원구 노해로 507, 7,8층 (상계동, 와우쇼핑몰)   \n",
       "888    NaN  8301.63  서울특별시 마포구 월드컵북로 494, 지하1층~7층 (상암동, 푸르메재단넥슨어린이재...   \n",
       "889    NaN  1999.50                서울특별시 노원구 노해로 502, 2층, 3층, 5층 (상계동)   \n",
       "890    NaN  1207.20              서울특별시 양천구 신목로 102, 3,5,6층 (목동, 대경프라자)   \n",
       "\n",
       "                     사업장명            업태구분명        좌표정보(X)        좌표정보(Y)  \n",
       "0      의료법인유라의료재단 온누리요양병원     요양병원(일반요양병원)  205115.270098  456653.347260  \n",
       "1    의료법인에이치엠피의료재단녹십초요양병원     요양병원(일반요양병원)  191677.374890  442912.575898  \n",
       "2                  자향한방병원             한방병원  203151.226589  459468.169735  \n",
       "3                기쁨정원치과병원             치과병원  208937.760652  442873.588040  \n",
       "4    의료법인일맥의료재단 송파인애가한방병원             한방병원  211382.026862  442795.708067  \n",
       "..                    ...              ...            ...            ...  \n",
       "886            그레이스힐 요양병원     요양병원(일반요양병원)  205705.736650  461663.539093  \n",
       "887              노원자생한방병원             한방병원  205557.013356  461441.687971  \n",
       "888       푸르메재단 넥슨어린이재활병원  요양병원(장애인의료재활시설)  189380.940593  453602.251632  \n",
       "889                 참튼튼병원               병원  205550.908408  461343.062227  \n",
       "890              목동자생한방병원             한방병원  188954.524397  446824.338405  \n",
       "\n",
       "[891 rows x 15 columns]"
      ]
     },
     "execution_count": 18,
     "metadata": {},
     "output_type": "execute_result"
    }
   ],
   "source": [
    "hospi"
   ]
  },
  {
   "cell_type": "code",
   "execution_count": 13,
   "metadata": {},
   "outputs": [
    {
     "data": {
      "text/plain": [
       "0     NaN\n",
       "1     NaN\n",
       "2     NaN\n",
       "3     NaN\n",
       "4     NaN\n",
       "       ..\n",
       "886   NaN\n",
       "887   NaN\n",
       "888   NaN\n",
       "889   NaN\n",
       "890   NaN\n",
       "Name: 인허가취소일자, Length: 891, dtype: float64"
      ]
     },
     "execution_count": 13,
     "metadata": {},
     "output_type": "execute_result"
    }
   ],
   "source": [
    "hospi['인허가취소일자'].sort_values()"
   ]
  },
  {
   "cell_type": "code",
   "execution_count": 63,
   "metadata": {},
   "outputs": [],
   "source": [
    "hospi.to_csv('./병원/seoul_hospital.csv', encoding='cp949')"
   ]
  },
  {
   "cell_type": "markdown",
   "metadata": {},
   "source": [
    "# [학교]"
   ]
  },
  {
   "cell_type": "code",
   "execution_count": 64,
   "metadata": {},
   "outputs": [
    {
     "name": "stdout",
     "output_type": "stream",
     "text": [
      "Index(['학교종류명', '설립구분', '표준학교코드', '학교명', '영문학교명', '관할조직명', '도로명우편번호', '도로명주소',\n",
      "       '도로명상세주소', '전화번호', '홈페이지주소', '팩스번호', '남녀공학구분명', '고등학교구분명',\n",
      "       '산업체특별학급존재여부', '고등학교일반실업구분명', '특수목적고등학교계열명', '입시전후기구분명', '주야구분명',\n",
      "       '설립일자', '개교기념일', '시도교육청코드', '시도교육청명', '소재지명', '적재일시'],\n",
      "      dtype='object')\n",
      "610\n"
     ]
    }
   ],
   "source": [
    "element = pd.read_csv('./학교/서울시 초등학교 기본정보.csv', encoding='cp949')\n",
    "print(element.columns)\n",
    "print(len(element))"
   ]
  },
  {
   "cell_type": "code",
   "execution_count": 65,
   "metadata": {},
   "outputs": [
    {
     "name": "stdout",
     "output_type": "stream",
     "text": [
      "Index(['학교종류명', '설립구분', '표준학교코드', '학교명', '영문학교명', '관할조직명', '도로명우편번호', '도로명주소',\n",
      "       '도로명상세주소', '전화번호', '홈페이지주소', '팩스번호', '남녀공학구분명', '고등학교구분명',\n",
      "       '산업체특별학급존재여부', '고등학교일반실업구분명', '특수목적고등학교계열명', '입시전후기구분명', '주야구분명',\n",
      "       '설립일자', '개교기념일', '시도교육청코드', '시도교육청명', '소재지명', '적재일시'],\n",
      "      dtype='object')\n",
      "390\n"
     ]
    }
   ],
   "source": [
    "middle = pd.read_csv('./학교/서울시 중학교 기본정보.csv', encoding='cp949')\n",
    "print(middle.columns)\n",
    "print(len(middle))"
   ]
  },
  {
   "cell_type": "code",
   "execution_count": 66,
   "metadata": {},
   "outputs": [
    {
     "name": "stdout",
     "output_type": "stream",
     "text": [
      "Index(['학교종류명', '설립구분', '표준학교코드', '학교명', '영문학교명', '관할조직명', '도로명우편번호', '도로명주소',\n",
      "       '도로명상세주소', '전화번호', '홈페이지주소', '팩스번호', '남녀공학구분명', '고등학교구분명',\n",
      "       '산업체특별학급존재여부', '고등학교일반실업구분명', '특수목적고등학교계열명', '입시전후기구분명', '주야구분명',\n",
      "       '설립일자', '개교기념일', '시도교육청코드', '시도교육청명', '소재지명', '적재일시'],\n",
      "      dtype='object')\n",
      "318\n"
     ]
    }
   ],
   "source": [
    "high = pd.read_csv('./학교/서울시 고등학교 기본정보.csv', encoding='cp949')\n",
    "print(high.columns)\n",
    "print(len(high))"
   ]
  },
  {
   "cell_type": "code",
   "execution_count": 67,
   "metadata": {},
   "outputs": [],
   "source": [
    "# 초, 중, 고 합치기\n",
    "school = pd.concat([element, middle, high], ignore_index=True)"
   ]
  },
  {
   "cell_type": "code",
   "execution_count": 68,
   "metadata": {},
   "outputs": [
    {
     "data": {
      "text/plain": [
       "학교종류명\n",
       "초등학교    610\n",
       "중학교     390\n",
       "고등학교    318\n",
       "Name: count, dtype: int64"
      ]
     },
     "execution_count": 68,
     "metadata": {},
     "output_type": "execute_result"
    }
   ],
   "source": [
    "school.학교종류명.value_counts()"
   ]
  },
  {
   "cell_type": "code",
   "execution_count": 69,
   "metadata": {},
   "outputs": [],
   "source": [
    "school.drop(['설립구분','표준학교코드','영문학교명','관할조직명','도로명우편번호','도로명상세주소','전화번호','홈페이지주소','팩스번호','남녀공학구분명','고등학교구분명','산업체특별학급존재여부',\n",
    "             '고등학교일반실업구분명','특수목적고등학교계열명','입시전후기구분명','주야구분명','설립일자','개교기념일','시도교육청코드','시도교육청명','소재지명','적재일시'],\n",
    "             axis=1, inplace=True)"
   ]
  },
  {
   "cell_type": "code",
   "execution_count": 70,
   "metadata": {},
   "outputs": [],
   "source": [
    "school.columns = ['학교종류명','학교명','주소']"
   ]
  },
  {
   "cell_type": "code",
   "execution_count": 71,
   "metadata": {},
   "outputs": [
    {
     "data": {
      "text/html": [
       "<div>\n",
       "<style scoped>\n",
       "    .dataframe tbody tr th:only-of-type {\n",
       "        vertical-align: middle;\n",
       "    }\n",
       "\n",
       "    .dataframe tbody tr th {\n",
       "        vertical-align: top;\n",
       "    }\n",
       "\n",
       "    .dataframe thead th {\n",
       "        text-align: right;\n",
       "    }\n",
       "</style>\n",
       "<table border=\"1\" class=\"dataframe\">\n",
       "  <thead>\n",
       "    <tr style=\"text-align: right;\">\n",
       "      <th></th>\n",
       "      <th>학교종류명</th>\n",
       "      <th>학교명</th>\n",
       "      <th>주소</th>\n",
       "    </tr>\n",
       "  </thead>\n",
       "  <tbody>\n",
       "    <tr>\n",
       "      <th>0</th>\n",
       "      <td>초등학교</td>\n",
       "      <td>서울숭신초등학교</td>\n",
       "      <td>서울특별시 성동구 마장로 161</td>\n",
       "    </tr>\n",
       "    <tr>\n",
       "      <th>1</th>\n",
       "      <td>초등학교</td>\n",
       "      <td>한양초등학교</td>\n",
       "      <td>서울특별시 성동구 살곶이길 208</td>\n",
       "    </tr>\n",
       "    <tr>\n",
       "      <th>2</th>\n",
       "      <td>초등학교</td>\n",
       "      <td>세종초등학교</td>\n",
       "      <td>서울특별시 광진구 군자로 114</td>\n",
       "    </tr>\n",
       "    <tr>\n",
       "      <th>3</th>\n",
       "      <td>초등학교</td>\n",
       "      <td>성동초등학교</td>\n",
       "      <td>서울특별시 광진구 자양로4길 63</td>\n",
       "    </tr>\n",
       "    <tr>\n",
       "      <th>4</th>\n",
       "      <td>초등학교</td>\n",
       "      <td>서울행현초등학교</td>\n",
       "      <td>서울특별시 성동구 행당로 95</td>\n",
       "    </tr>\n",
       "    <tr>\n",
       "      <th>...</th>\n",
       "      <td>...</td>\n",
       "      <td>...</td>\n",
       "      <td>...</td>\n",
       "    </tr>\n",
       "    <tr>\n",
       "      <th>1313</th>\n",
       "      <td>고등학교</td>\n",
       "      <td>경기고등학교</td>\n",
       "      <td>서울특별시 강남구 영동대로 643</td>\n",
       "    </tr>\n",
       "    <tr>\n",
       "      <th>1314</th>\n",
       "      <td>고등학교</td>\n",
       "      <td>개포고등학교</td>\n",
       "      <td>서울특별시 강남구 개포로 402</td>\n",
       "    </tr>\n",
       "    <tr>\n",
       "      <th>1315</th>\n",
       "      <td>고등학교</td>\n",
       "      <td>가락고등학교</td>\n",
       "      <td>서울특별시 송파구 송이로 42</td>\n",
       "    </tr>\n",
       "    <tr>\n",
       "      <th>1316</th>\n",
       "      <td>고등학교</td>\n",
       "      <td>국립전통예술고등학교</td>\n",
       "      <td>서울특별시 금천구 시흥대로38길 62</td>\n",
       "    </tr>\n",
       "    <tr>\n",
       "      <th>1317</th>\n",
       "      <td>고등학교</td>\n",
       "      <td>국립국악고등학교</td>\n",
       "      <td>서울특별시 강남구 개포로22길 65</td>\n",
       "    </tr>\n",
       "  </tbody>\n",
       "</table>\n",
       "<p>1318 rows × 3 columns</p>\n",
       "</div>"
      ],
      "text/plain": [
       "     학교종류명         학교명                    주소\n",
       "0     초등학교    서울숭신초등학교     서울특별시 성동구 마장로 161\n",
       "1     초등학교      한양초등학교    서울특별시 성동구 살곶이길 208\n",
       "2     초등학교      세종초등학교     서울특별시 광진구 군자로 114\n",
       "3     초등학교      성동초등학교    서울특별시 광진구 자양로4길 63\n",
       "4     초등학교    서울행현초등학교      서울특별시 성동구 행당로 95\n",
       "...    ...         ...                   ...\n",
       "1313  고등학교      경기고등학교    서울특별시 강남구 영동대로 643\n",
       "1314  고등학교      개포고등학교     서울특별시 강남구 개포로 402\n",
       "1315  고등학교      가락고등학교      서울특별시 송파구 송이로 42\n",
       "1316  고등학교  국립전통예술고등학교  서울특별시 금천구 시흥대로38길 62\n",
       "1317  고등학교    국립국악고등학교   서울특별시 강남구 개포로22길 65\n",
       "\n",
       "[1318 rows x 3 columns]"
      ]
     },
     "execution_count": 71,
     "metadata": {},
     "output_type": "execute_result"
    }
   ],
   "source": [
    "school"
   ]
  },
  {
   "cell_type": "code",
   "execution_count": 72,
   "metadata": {},
   "outputs": [
    {
     "data": {
      "text/plain": [
       "Index(['키값', '연도', '학교종류', '학교명', '본분교', '학교상태', '설립', '우편번호', '주소', '도로명주소',\n",
       "       '행정시', '행정구', '행정동', '전화번호', '팩스번호', '홈페이지'],\n",
       "      dtype='object')"
      ]
     },
     "execution_count": 72,
     "metadata": {},
     "output_type": "execute_result"
    }
   ],
   "source": [
    "univer = pd.read_csv('./학교/서울시 대학 및 전문대학 DB 정보 (한국어).csv', encoding='cp949')\n",
    "univer.columns"
   ]
  },
  {
   "cell_type": "code",
   "execution_count": 73,
   "metadata": {},
   "outputs": [],
   "source": [
    "univer.drop(['키값','연도','본분교','학교상태','설립','우편번호','행정시','행정구','행정동','전화번호','팩스번호','홈페이지','도로명주소'], axis=1, inplace=True)"
   ]
  },
  {
   "cell_type": "code",
   "execution_count": 74,
   "metadata": {},
   "outputs": [],
   "source": [
    "univer.columns = ['학교종류명','학교명','주소']"
   ]
  },
  {
   "cell_type": "code",
   "execution_count": 75,
   "metadata": {},
   "outputs": [
    {
     "data": {
      "text/html": [
       "<div>\n",
       "<style scoped>\n",
       "    .dataframe tbody tr th:only-of-type {\n",
       "        vertical-align: middle;\n",
       "    }\n",
       "\n",
       "    .dataframe tbody tr th {\n",
       "        vertical-align: top;\n",
       "    }\n",
       "\n",
       "    .dataframe thead th {\n",
       "        text-align: right;\n",
       "    }\n",
       "</style>\n",
       "<table border=\"1\" class=\"dataframe\">\n",
       "  <thead>\n",
       "    <tr style=\"text-align: right;\">\n",
       "      <th></th>\n",
       "      <th>학교종류명</th>\n",
       "      <th>학교명</th>\n",
       "      <th>주소</th>\n",
       "    </tr>\n",
       "  </thead>\n",
       "  <tbody>\n",
       "    <tr>\n",
       "      <th>0</th>\n",
       "      <td>일반대학</td>\n",
       "      <td>서울시립대학교</td>\n",
       "      <td>서울 동대문구 서울시립대로 163 (전농동 90번지)</td>\n",
       "    </tr>\n",
       "    <tr>\n",
       "      <th>1</th>\n",
       "      <td>전문대학(3년제)</td>\n",
       "      <td>서울여자간호대학교</td>\n",
       "      <td>서울 서대문구 홍제3동 서울여자간호대학</td>\n",
       "    </tr>\n",
       "    <tr>\n",
       "      <th>2</th>\n",
       "      <td>일반대학</td>\n",
       "      <td>서울여자대학교</td>\n",
       "      <td>서울특별시 노원구 화랑로 621 서울여자대학교</td>\n",
       "    </tr>\n",
       "    <tr>\n",
       "      <th>3</th>\n",
       "      <td>전문대학(2년제)</td>\n",
       "      <td>서일대학교</td>\n",
       "      <td>서울 중랑구 서일대학길 22(면목동 49-3) 서일대학교</td>\n",
       "    </tr>\n",
       "    <tr>\n",
       "      <th>4</th>\n",
       "      <td>일반대학</td>\n",
       "      <td>성공회대학교</td>\n",
       "      <td>서울 구로구 항동 성공회대학교</td>\n",
       "    </tr>\n",
       "    <tr>\n",
       "      <th>...</th>\n",
       "      <td>...</td>\n",
       "      <td>...</td>\n",
       "      <td>...</td>\n",
       "    </tr>\n",
       "    <tr>\n",
       "      <th>59</th>\n",
       "      <td>교육대학</td>\n",
       "      <td>서울교육대학교</td>\n",
       "      <td>서울 서초구 서초중앙로 96(서초동 1650)</td>\n",
       "    </tr>\n",
       "    <tr>\n",
       "      <th>60</th>\n",
       "      <td>일반대학</td>\n",
       "      <td>서울기독대학교</td>\n",
       "      <td>서울 은평구 갈현로 4길 26-2호</td>\n",
       "    </tr>\n",
       "    <tr>\n",
       "      <th>61</th>\n",
       "      <td>일반대학</td>\n",
       "      <td>서울대학교</td>\n",
       "      <td>서울 관악구 관악로 1 서울대학교</td>\n",
       "    </tr>\n",
       "    <tr>\n",
       "      <th>62</th>\n",
       "      <td>사이버대학(대학)</td>\n",
       "      <td>서울디지털대학교</td>\n",
       "      <td>서울 마포구 도화동 560번지</td>\n",
       "    </tr>\n",
       "    <tr>\n",
       "      <th>63</th>\n",
       "      <td>사이버대학(대학)</td>\n",
       "      <td>서울사이버대학교</td>\n",
       "      <td>서울 강북구 솔매로49길 60(미아동 193-15) 서울사이버대학교</td>\n",
       "    </tr>\n",
       "  </tbody>\n",
       "</table>\n",
       "<p>64 rows × 3 columns</p>\n",
       "</div>"
      ],
      "text/plain": [
       "        학교종류명        학교명                                     주소\n",
       "0        일반대학    서울시립대학교         서울 동대문구 서울시립대로 163 (전농동 90번지) \n",
       "1   전문대학(3년제)  서울여자간호대학교                  서울 서대문구 홍제3동 서울여자간호대학\n",
       "2        일반대학    서울여자대학교              서울특별시 노원구 화랑로 621 서울여자대학교\n",
       "3   전문대학(2년제)      서일대학교        서울 중랑구 서일대학길 22(면목동 49-3) 서일대학교\n",
       "4        일반대학     성공회대학교                       서울 구로구 항동 성공회대학교\n",
       "..        ...        ...                                    ...\n",
       "59       교육대학    서울교육대학교              서울 서초구 서초중앙로 96(서초동 1650)\n",
       "60       일반대학    서울기독대학교                    서울 은평구 갈현로 4길 26-2호\n",
       "61       일반대학      서울대학교                     서울 관악구 관악로 1 서울대학교\n",
       "62  사이버대학(대학)   서울디지털대학교                       서울 마포구 도화동 560번지\n",
       "63  사이버대학(대학)   서울사이버대학교  서울 강북구 솔매로49길 60(미아동 193-15) 서울사이버대학교\n",
       "\n",
       "[64 rows x 3 columns]"
      ]
     },
     "execution_count": 75,
     "metadata": {},
     "output_type": "execute_result"
    }
   ],
   "source": [
    "univer"
   ]
  },
  {
   "cell_type": "code",
   "execution_count": 76,
   "metadata": {},
   "outputs": [],
   "source": [
    "seoul_school = pd.concat([school, univer], ignore_index=True)"
   ]
  },
  {
   "cell_type": "code",
   "execution_count": 77,
   "metadata": {},
   "outputs": [
    {
     "data": {
      "text/html": [
       "<div>\n",
       "<style scoped>\n",
       "    .dataframe tbody tr th:only-of-type {\n",
       "        vertical-align: middle;\n",
       "    }\n",
       "\n",
       "    .dataframe tbody tr th {\n",
       "        vertical-align: top;\n",
       "    }\n",
       "\n",
       "    .dataframe thead th {\n",
       "        text-align: right;\n",
       "    }\n",
       "</style>\n",
       "<table border=\"1\" class=\"dataframe\">\n",
       "  <thead>\n",
       "    <tr style=\"text-align: right;\">\n",
       "      <th></th>\n",
       "      <th>학교종류명</th>\n",
       "      <th>학교명</th>\n",
       "      <th>주소</th>\n",
       "    </tr>\n",
       "  </thead>\n",
       "  <tbody>\n",
       "    <tr>\n",
       "      <th>0</th>\n",
       "      <td>초등학교</td>\n",
       "      <td>서울숭신초등학교</td>\n",
       "      <td>서울특별시 성동구 마장로 161</td>\n",
       "    </tr>\n",
       "    <tr>\n",
       "      <th>1</th>\n",
       "      <td>초등학교</td>\n",
       "      <td>한양초등학교</td>\n",
       "      <td>서울특별시 성동구 살곶이길 208</td>\n",
       "    </tr>\n",
       "    <tr>\n",
       "      <th>2</th>\n",
       "      <td>초등학교</td>\n",
       "      <td>세종초등학교</td>\n",
       "      <td>서울특별시 광진구 군자로 114</td>\n",
       "    </tr>\n",
       "    <tr>\n",
       "      <th>3</th>\n",
       "      <td>초등학교</td>\n",
       "      <td>성동초등학교</td>\n",
       "      <td>서울특별시 광진구 자양로4길 63</td>\n",
       "    </tr>\n",
       "    <tr>\n",
       "      <th>4</th>\n",
       "      <td>초등학교</td>\n",
       "      <td>서울행현초등학교</td>\n",
       "      <td>서울특별시 성동구 행당로 95</td>\n",
       "    </tr>\n",
       "    <tr>\n",
       "      <th>...</th>\n",
       "      <td>...</td>\n",
       "      <td>...</td>\n",
       "      <td>...</td>\n",
       "    </tr>\n",
       "    <tr>\n",
       "      <th>1377</th>\n",
       "      <td>교육대학</td>\n",
       "      <td>서울교육대학교</td>\n",
       "      <td>서울 서초구 서초중앙로 96(서초동 1650)</td>\n",
       "    </tr>\n",
       "    <tr>\n",
       "      <th>1378</th>\n",
       "      <td>일반대학</td>\n",
       "      <td>서울기독대학교</td>\n",
       "      <td>서울 은평구 갈현로 4길 26-2호</td>\n",
       "    </tr>\n",
       "    <tr>\n",
       "      <th>1379</th>\n",
       "      <td>일반대학</td>\n",
       "      <td>서울대학교</td>\n",
       "      <td>서울 관악구 관악로 1 서울대학교</td>\n",
       "    </tr>\n",
       "    <tr>\n",
       "      <th>1380</th>\n",
       "      <td>사이버대학(대학)</td>\n",
       "      <td>서울디지털대학교</td>\n",
       "      <td>서울 마포구 도화동 560번지</td>\n",
       "    </tr>\n",
       "    <tr>\n",
       "      <th>1381</th>\n",
       "      <td>사이버대학(대학)</td>\n",
       "      <td>서울사이버대학교</td>\n",
       "      <td>서울 강북구 솔매로49길 60(미아동 193-15) 서울사이버대학교</td>\n",
       "    </tr>\n",
       "  </tbody>\n",
       "</table>\n",
       "<p>1382 rows × 3 columns</p>\n",
       "</div>"
      ],
      "text/plain": [
       "          학교종류명       학교명                                     주소\n",
       "0          초등학교  서울숭신초등학교                      서울특별시 성동구 마장로 161\n",
       "1          초등학교    한양초등학교                     서울특별시 성동구 살곶이길 208\n",
       "2          초등학교    세종초등학교                      서울특별시 광진구 군자로 114\n",
       "3          초등학교    성동초등학교                     서울특별시 광진구 자양로4길 63\n",
       "4          초등학교  서울행현초등학교                       서울특별시 성동구 행당로 95\n",
       "...         ...       ...                                    ...\n",
       "1377       교육대학   서울교육대학교              서울 서초구 서초중앙로 96(서초동 1650)\n",
       "1378       일반대학   서울기독대학교                    서울 은평구 갈현로 4길 26-2호\n",
       "1379       일반대학     서울대학교                     서울 관악구 관악로 1 서울대학교\n",
       "1380  사이버대학(대학)  서울디지털대학교                       서울 마포구 도화동 560번지\n",
       "1381  사이버대학(대학)  서울사이버대학교  서울 강북구 솔매로49길 60(미아동 193-15) 서울사이버대학교\n",
       "\n",
       "[1382 rows x 3 columns]"
      ]
     },
     "execution_count": 77,
     "metadata": {},
     "output_type": "execute_result"
    }
   ],
   "source": [
    "seoul_school"
   ]
  },
  {
   "cell_type": "code",
   "execution_count": 78,
   "metadata": {},
   "outputs": [],
   "source": [
    "seoul_school.to_csv('./학교/seoul_school.csv', encoding='cp949')"
   ]
  },
  {
   "cell_type": "markdown",
   "metadata": {},
   "source": [
    "## 주소 -> 좌표"
   ]
  },
  {
   "cell_type": "code",
   "execution_count": 79,
   "metadata": {},
   "outputs": [],
   "source": [
    "from korean_geocoding.geocoding import KoreanGeocoding as Kg\n",
    "kg = Kg()"
   ]
  },
  {
   "cell_type": "markdown",
   "metadata": {},
   "source": [
    "get_coordinates(query: str, delimiter=' ', just_fit=True)\\\n",
    "- 주어진 행정구역의 위도/경도 좌표를 반환합니다. (<위도>, <경도>)의 Tuple 형태로 반환됩니다.\n",
    "- query(Required) : 검색할 행정구역명. 각 구역은 기본적으로 띄어쓰기 하나로 구분하며 현재는 시군구/리 까지만 지원합니다. (Ex: 부산광역시 동구 범일동, 부산광역시 기장군 일광면 용천리) 도로명까지의 세부 주소를 넣지 말아주세요.\n",
    "- 0.4.0부터는 시도명에 '서울특별시'와 같이 정식 명칭을 넣지 않고, '서울시' '전북' 등과 같이 축약된 명칭을 넣어도 인식합니다.\n",
    "- delimiter : 각 행정구별 구분자. 기본적으로 공백 하나로 구분합니다. 만약 '부산광역시|동구|범일동' 이라는 쿼리를 넣고 싶다면, delimiter='|'로 값을 넣음으로써 정상적으로 \n",
    "['부산광역시', '동구', '범일동'] 으로 인식됩니다.\n",
    "- just_fit : T/F 값을 가집니다. False라면 중간에 알 수 없는 행정구역 이름이 들어온 경우, 여기까지 인식된 곳의 주소만 가지고 좌표를 계산합니다. \"부산광역시 동구 알수없는동\"이라고 입력한다면, '알수없는동'은 인식할 수 없으므로 \"부산광역시 동구\"의 좌표를 반환합니다."
   ]
  },
  {
   "cell_type": "markdown",
   "metadata": {},
   "source": [
    "get_under_districts(query, delimiter=' ', just_fit=True)\n",
    "- 주어진 행정구역의 하위 행정구역의 list를 반환합니다."
   ]
  },
  {
   "cell_type": "markdown",
   "metadata": {},
   "source": [
    "get_distance(query1, query2, delimiter=' ', just_fit=True)\n",
    "- 주어진 두 점 간의 거리를 km 단위로 반환합니다. 지구는 구형이므로, 구형의 표면에서의 두 점간의 거리를 구할 수 있는 haversine 공식을 이용하여 구합니다. query1과 query2는 (위도, 경도) 형태의 Tuple이나, get_coordinates()와 동일한 방식으로 행정구역명을 담은 문자열을 받습니다. 문자열과 튜플의 방식을 혼용해도 됩니다. 튜플에 담긴 좌표는 특정 행정구역의 좌표가 아닌 임의의 좌표여도 됩니다. 이외의 just_fit이나 delimiter는 문자열 형태의 주소를 받을 때에만 사용되며, 사용법은 위와 동일합니다. 결과값은 소수 셋째자리까지 표시됩니다."
   ]
  },
  {
   "cell_type": "code",
   "execution_count": 80,
   "metadata": {},
   "outputs": [
    {
     "data": {
      "text/html": [
       "<div>\n",
       "<style scoped>\n",
       "    .dataframe tbody tr th:only-of-type {\n",
       "        vertical-align: middle;\n",
       "    }\n",
       "\n",
       "    .dataframe tbody tr th {\n",
       "        vertical-align: top;\n",
       "    }\n",
       "\n",
       "    .dataframe thead th {\n",
       "        text-align: right;\n",
       "    }\n",
       "</style>\n",
       "<table border=\"1\" class=\"dataframe\">\n",
       "  <thead>\n",
       "    <tr style=\"text-align: right;\">\n",
       "      <th></th>\n",
       "      <th>학교종류명</th>\n",
       "      <th>학교명</th>\n",
       "      <th>주소</th>\n",
       "      <th>x</th>\n",
       "      <th>y</th>\n",
       "    </tr>\n",
       "  </thead>\n",
       "  <tbody>\n",
       "    <tr>\n",
       "      <th>0</th>\n",
       "      <td>초등학교</td>\n",
       "      <td>서울숭신초등학교</td>\n",
       "      <td>서울특별시 성동구 마장로 161</td>\n",
       "      <td>127.0278272</td>\n",
       "      <td>37.5679349</td>\n",
       "    </tr>\n",
       "    <tr>\n",
       "      <th>1</th>\n",
       "      <td>초등학교</td>\n",
       "      <td>한양초등학교</td>\n",
       "      <td>서울특별시 성동구 살곶이길 208</td>\n",
       "      <td>127.0503868</td>\n",
       "      <td>37.5576113</td>\n",
       "    </tr>\n",
       "    <tr>\n",
       "      <th>2</th>\n",
       "      <td>초등학교</td>\n",
       "      <td>세종초등학교</td>\n",
       "      <td>서울특별시 광진구 군자로 114</td>\n",
       "      <td>127.0729061</td>\n",
       "      <td>37.5530324</td>\n",
       "    </tr>\n",
       "    <tr>\n",
       "      <th>3</th>\n",
       "      <td>초등학교</td>\n",
       "      <td>성동초등학교</td>\n",
       "      <td>서울특별시 광진구 자양로4길 63</td>\n",
       "      <td>127.0895265</td>\n",
       "      <td>37.5331782</td>\n",
       "    </tr>\n",
       "    <tr>\n",
       "      <th>4</th>\n",
       "      <td>초등학교</td>\n",
       "      <td>서울행현초등학교</td>\n",
       "      <td>서울특별시 성동구 행당로 95</td>\n",
       "      <td>127.0294047</td>\n",
       "      <td>37.5576916</td>\n",
       "    </tr>\n",
       "  </tbody>\n",
       "</table>\n",
       "</div>"
      ],
      "text/plain": [
       "  학교종류명       학교명                  주소            x           y\n",
       "0  초등학교  서울숭신초등학교   서울특별시 성동구 마장로 161  127.0278272  37.5679349\n",
       "1  초등학교    한양초등학교  서울특별시 성동구 살곶이길 208  127.0503868  37.5576113\n",
       "2  초등학교    세종초등학교   서울특별시 광진구 군자로 114  127.0729061  37.5530324\n",
       "3  초등학교    성동초등학교  서울특별시 광진구 자양로4길 63  127.0895265  37.5331782\n",
       "4  초등학교  서울행현초등학교    서울특별시 성동구 행당로 95  127.0294047  37.5576916"
      ]
     },
     "execution_count": 80,
     "metadata": {},
     "output_type": "execute_result"
    }
   ],
   "source": [
    "import requests\n",
    "import pandas as pd\n",
    "\n",
    "# 네이버 API 클라이언트 정보\n",
    "client_id = \"3fmd7xia0h\"\n",
    "client_secret = \"uy5gOT87pjBgIeAmXCH2dpXVBKK090HceaprqeKL\"\n",
    "\n",
    "# API 요청 함수 정의\n",
    "def get_coordinates(address):\n",
    "    endpoint = \"https://naveropenapi.apigw.ntruss.com/map-geocode/v2/geocode\"\n",
    "    url = f\"{endpoint}?query={address}\"\n",
    "\n",
    "    # API 요청 헤더\n",
    "    headers = {\n",
    "        \"X-NCP-APIGW-API-KEY-ID\": client_id,\n",
    "        \"X-NCP-APIGW-API-KEY\": client_secret,\n",
    "    }\n",
    "\n",
    "    # API 호출 및 좌표 추출\n",
    "    res = requests.get(url, headers=headers)\n",
    "    if res.status_code == 200:\n",
    "        data = res.json()\n",
    "        if data['status'] == 'OK' and data['meta']['totalCount'] > 0:\n",
    "            x = data['addresses'][0]['x']\n",
    "            y = data['addresses'][0]['y']\n",
    "            return pd.Series([x, y])\n",
    "    return pd.Series([None, None])\n",
    "\n",
    "# 주소 열에 대해 좌표를 적용하여 x, y 좌표 열 추가\n",
    "seoul_school[['x', 'y']] = seoul_school['주소'].apply(get_coordinates)\n",
    "\n",
    "# 결과 확인\n",
    "seoul_school.head()\n"
   ]
  },
  {
   "cell_type": "code",
   "execution_count": 89,
   "metadata": {},
   "outputs": [],
   "source": [
    "from korean_geocoding.geocoding import KoreanGeocoding as Kg\n",
    "kg = Kg()\n",
    "kg.set_naver_api(\"3fmd7xia0h\", \"uy5gOT87pjBgIeAmXCH2dpXVBKK090HceaprqeKL\")\n",
    "xy = kg.get_coordinates_by_api(\"서울특별시 중구 소파로2길 24\")\n",
    "seoul_school.iloc[1169,3] = xy[0]\n",
    "seoul_school.iloc[1169,4] = xy[1]"
   ]
  },
  {
   "cell_type": "code",
   "execution_count": 90,
   "metadata": {},
   "outputs": [],
   "source": [
    "def xxyy(adress, row):\n",
    "    xy = kg.get_coordinates_by_api(adress)\n",
    "    seoul_school.iloc[row,3] = xy[0]\n",
    "    seoul_school.iloc[row,4] = xy[1]"
   ]
  },
  {
   "cell_type": "code",
   "execution_count": 115,
   "metadata": {},
   "outputs": [
    {
     "data": {
      "text/html": [
       "<div>\n",
       "<style scoped>\n",
       "    .dataframe tbody tr th:only-of-type {\n",
       "        vertical-align: middle;\n",
       "    }\n",
       "\n",
       "    .dataframe tbody tr th {\n",
       "        vertical-align: top;\n",
       "    }\n",
       "\n",
       "    .dataframe thead th {\n",
       "        text-align: right;\n",
       "    }\n",
       "</style>\n",
       "<table border=\"1\" class=\"dataframe\">\n",
       "  <thead>\n",
       "    <tr style=\"text-align: right;\">\n",
       "      <th></th>\n",
       "      <th>학교종류명</th>\n",
       "      <th>학교명</th>\n",
       "      <th>주소</th>\n",
       "      <th>x</th>\n",
       "      <th>y</th>\n",
       "    </tr>\n",
       "  </thead>\n",
       "  <tbody>\n",
       "  </tbody>\n",
       "</table>\n",
       "</div>"
      ],
      "text/plain": [
       "Empty DataFrame\n",
       "Columns: [학교종류명, 학교명, 주소, x, y]\n",
       "Index: []"
      ]
     },
     "execution_count": 115,
     "metadata": {},
     "output_type": "execute_result"
    }
   ],
   "source": [
    "seoul_school[seoul_school['x'].isna()]"
   ]
  },
  {
   "cell_type": "code",
   "execution_count": 122,
   "metadata": {},
   "outputs": [],
   "source": [
    "seoul_school.to_csv('./학교/seoul_school_xy.csv', encoding='cp949')"
   ]
  }
 ],
 "metadata": {
  "kernelspec": {
   "display_name": "BAF_kernel",
   "language": "python",
   "name": "baf"
  },
  "language_info": {
   "codemirror_mode": {
    "name": "ipython",
    "version": 3
   },
   "file_extension": ".py",
   "mimetype": "text/x-python",
   "name": "python",
   "nbconvert_exporter": "python",
   "pygments_lexer": "ipython3",
   "version": "3.12.4"
  }
 },
 "nbformat": 4,
 "nbformat_minor": 2
}
