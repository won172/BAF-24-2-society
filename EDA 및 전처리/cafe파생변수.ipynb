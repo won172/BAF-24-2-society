{
 "cells": [
  {
   "cell_type": "code",
   "execution_count": 1,
   "metadata": {},
   "outputs": [],
   "source": [
    "import numpy as np\n",
    "import pandas as pd\n",
    "import matplotlib.pyplot as plt\n",
    "import seaborn as sns"
   ]
  },
  {
   "cell_type": "markdown",
   "metadata": {},
   "source": [
    "[파생변수 만들기]\n",
    "메인카페 데이터셋 확정 후 **데이터셋 변경**"
   ]
  },
  {
   "cell_type": "code",
   "execution_count": 2,
   "metadata": {},
   "outputs": [],
   "source": [
    "cafe2010 = pd.read_csv(\"./seoul_filtered_cafe_2010이후.csv\")"
   ]
  },
  {
   "cell_type": "code",
   "execution_count": 3,
   "metadata": {},
   "outputs": [],
   "source": [
    "cafe2010 = cafe2010.dropna(subset=['x']) "
   ]
  },
  {
   "cell_type": "code",
   "execution_count": 4,
   "metadata": {},
   "outputs": [
    {
     "name": "stdout",
     "output_type": "stream",
     "text": [
      "<class 'pandas.core.frame.DataFrame'>\n",
      "Index: 49342 entries, 0 to 49929\n",
      "Data columns (total 14 columns):\n",
      " #   Column  Non-Null Count  Dtype  \n",
      "---  ------  --------------  -----  \n",
      " 0   업소명     49342 non-null  object \n",
      " 1   행정동명    49244 non-null  object \n",
      " 2   소재지도로명  49342 non-null  object \n",
      " 3   소재지지번   49244 non-null  object \n",
      " 4   영업자시작일  49342 non-null  object \n",
      " 5   소재지시작일  49342 non-null  object \n",
      " 6   폐업일자    20879 non-null  object \n",
      " 7   업소위치    44775 non-null  object \n",
      " 8   총면적     49342 non-null  float64\n",
      " 9   카페명     49342 non-null  object \n",
      " 10  최신시작일   28463 non-null  object \n",
      " 11  복층여부    49342 non-null  int64  \n",
      " 12  x       49342 non-null  float64\n",
      " 13  y       49342 non-null  float64\n",
      "dtypes: float64(3), int64(1), object(10)\n",
      "memory usage: 5.6+ MB\n"
     ]
    }
   ],
   "source": [
    "cafe2010.info()"
   ]
  },
  {
   "cell_type": "code",
   "execution_count": 5,
   "metadata": {},
   "outputs": [
    {
     "data": {
      "text/plain": [
       "업소명           0\n",
       "행정동명         98\n",
       "소재지도로명        0\n",
       "소재지지번        98\n",
       "영업자시작일        0\n",
       "소재지시작일        0\n",
       "폐업일자      28463\n",
       "업소위치       4567\n",
       "총면적           0\n",
       "카페명           0\n",
       "최신시작일     20879\n",
       "복층여부          0\n",
       "x             0\n",
       "y             0\n",
       "dtype: int64"
      ]
     },
     "execution_count": 5,
     "metadata": {},
     "output_type": "execute_result"
    }
   ],
   "source": [
    "cafe2010.isna().sum()"
   ]
  },
  {
   "cell_type": "markdown",
   "metadata": {},
   "source": [
    "- 업소명           0\n",
    "- 행정동명         98  > \n",
    "- 소재지도로명        0\n",
    "- 소재지지번        98 >  \n",
    "- 영업자시작일        0\n",
    "- 소재지시작일        0\n",
    "- 폐업일자      28463 > 결측치는 영업중\n",
    "- 업소위치       4567 > 모두 지상으로 바꾸거나, 변수 삭제 \n",
    "- 총면적           0\n",
    "- 카페명           0\n",
    "- 최신시작일     20879 > ??\n",
    "- 복층여부          0\n",
    "- x             0\n",
    "- y             0"
   ]
  },
  {
   "cell_type": "code",
   "execution_count": 6,
   "metadata": {},
   "outputs": [
    {
     "data": {
      "text/html": [
       "<div>\n",
       "<style scoped>\n",
       "    .dataframe tbody tr th:only-of-type {\n",
       "        vertical-align: middle;\n",
       "    }\n",
       "\n",
       "    .dataframe tbody tr th {\n",
       "        vertical-align: top;\n",
       "    }\n",
       "\n",
       "    .dataframe thead th {\n",
       "        text-align: right;\n",
       "    }\n",
       "</style>\n",
       "<table border=\"1\" class=\"dataframe\">\n",
       "  <thead>\n",
       "    <tr style=\"text-align: right;\">\n",
       "      <th></th>\n",
       "      <th>업소명</th>\n",
       "      <th>행정동명</th>\n",
       "      <th>소재지도로명</th>\n",
       "      <th>소재지지번</th>\n",
       "      <th>영업자시작일</th>\n",
       "      <th>소재지시작일</th>\n",
       "      <th>폐업일자</th>\n",
       "      <th>업소위치</th>\n",
       "      <th>총면적</th>\n",
       "      <th>카페명</th>\n",
       "      <th>최신시작일</th>\n",
       "      <th>복층여부</th>\n",
       "      <th>x</th>\n",
       "      <th>y</th>\n",
       "    </tr>\n",
       "  </thead>\n",
       "  <tbody>\n",
       "    <tr>\n",
       "      <th>0</th>\n",
       "      <td>!(느낌)</td>\n",
       "      <td>서교동</td>\n",
       "      <td>서울특별시 마포구 동교로17안길 10, (서교동,1층)</td>\n",
       "      <td>서울특별시 마포구 서교동  461번지 2호  1층</td>\n",
       "      <td>2010-12-10</td>\n",
       "      <td>2010-12-10</td>\n",
       "      <td>2017-02-07</td>\n",
       "      <td>지상</td>\n",
       "      <td>96.70</td>\n",
       "      <td>!(느낌)</td>\n",
       "      <td>NaN</td>\n",
       "      <td>0</td>\n",
       "      <td>126.916749</td>\n",
       "      <td>37.555387</td>\n",
       "    </tr>\n",
       "    <tr>\n",
       "      <th>1</th>\n",
       "      <td># (샵)</td>\n",
       "      <td>서교동</td>\n",
       "      <td>서울특별시 마포구 독막로7길 45, (서교동, 3층)</td>\n",
       "      <td>서울특별시 마포구 서교동  395번지 23호</td>\n",
       "      <td>2013-02-14</td>\n",
       "      <td>2012-01-16</td>\n",
       "      <td>2014-01-28</td>\n",
       "      <td>지상</td>\n",
       "      <td>57.12</td>\n",
       "      <td># (샵)</td>\n",
       "      <td>NaN</td>\n",
       "      <td>0</td>\n",
       "      <td>126.919585</td>\n",
       "      <td>37.549846</td>\n",
       "    </tr>\n",
       "    <tr>\n",
       "      <th>2</th>\n",
       "      <td>#1 shot in coffee(원샷)</td>\n",
       "      <td>방이1동</td>\n",
       "      <td>서울특별시 송파구 올림픽로 424, 올림픽공원 올림픽수영장 1층 (방이동)</td>\n",
       "      <td>서울특별시 송파구 방이동  88번지  올림픽공원</td>\n",
       "      <td>2019-04-01</td>\n",
       "      <td>2019-04-01</td>\n",
       "      <td>NaN</td>\n",
       "      <td>지상</td>\n",
       "      <td>101.44</td>\n",
       "      <td>#1 shot in coffee(원샷)</td>\n",
       "      <td>2019-04-01</td>\n",
       "      <td>0</td>\n",
       "      <td>127.122959</td>\n",
       "      <td>37.520934</td>\n",
       "    </tr>\n",
       "    <tr>\n",
       "      <th>3</th>\n",
       "      <td>#113</td>\n",
       "      <td>신림동</td>\n",
       "      <td>서울특별시 관악구 봉천로12길 39, 1층 113호 (신림동)</td>\n",
       "      <td>서울특별시 관악구 신림동  1426번지 7호</td>\n",
       "      <td>2016-09-12</td>\n",
       "      <td>2015-11-12</td>\n",
       "      <td>NaN</td>\n",
       "      <td>지상</td>\n",
       "      <td>49.50</td>\n",
       "      <td>#113</td>\n",
       "      <td>2016-09-12</td>\n",
       "      <td>0</td>\n",
       "      <td>126.930207</td>\n",
       "      <td>37.486910</td>\n",
       "    </tr>\n",
       "    <tr>\n",
       "      <th>4</th>\n",
       "      <td>#52랩</td>\n",
       "      <td>명동</td>\n",
       "      <td>서울특별시 중구 퇴계로14길 19, 1층 (회현동3가)</td>\n",
       "      <td>서울특별시 중구 회현동3가  9번지 15호  1층</td>\n",
       "      <td>2016-11-09</td>\n",
       "      <td>2016-11-09</td>\n",
       "      <td>2018-07-20</td>\n",
       "      <td>지상</td>\n",
       "      <td>20.27</td>\n",
       "      <td>#52랩</td>\n",
       "      <td>NaN</td>\n",
       "      <td>0</td>\n",
       "      <td>126.983780</td>\n",
       "      <td>37.559687</td>\n",
       "    </tr>\n",
       "  </tbody>\n",
       "</table>\n",
       "</div>"
      ],
      "text/plain": [
       "                     업소명  행정동명                                     소재지도로명  \\\n",
       "0                  !(느낌)   서교동             서울특별시 마포구 동교로17안길 10, (서교동,1층)   \n",
       "1                  # (샵)   서교동              서울특별시 마포구 독막로7길 45, (서교동, 3층)   \n",
       "2  #1 shot in coffee(원샷)  방이1동  서울특별시 송파구 올림픽로 424, 올림픽공원 올림픽수영장 1층 (방이동)   \n",
       "3                   #113   신림동         서울특별시 관악구 봉천로12길 39, 1층 113호 (신림동)   \n",
       "4                   #52랩    명동             서울특별시 중구 퇴계로14길 19, 1층 (회현동3가)   \n",
       "\n",
       "                         소재지지번      영업자시작일      소재지시작일        폐업일자 업소위치  \\\n",
       "0  서울특별시 마포구 서교동  461번지 2호  1층  2010-12-10  2010-12-10  2017-02-07   지상   \n",
       "1   서울특별시 마포구 서교동  395번지 23호    2013-02-14  2012-01-16  2014-01-28   지상   \n",
       "2   서울특별시 송파구 방이동  88번지  올림픽공원  2019-04-01  2019-04-01         NaN   지상   \n",
       "3   서울특별시 관악구 신림동  1426번지 7호    2016-09-12  2015-11-12         NaN   지상   \n",
       "4  서울특별시 중구 회현동3가  9번지 15호  1층  2016-11-09  2016-11-09  2018-07-20   지상   \n",
       "\n",
       "      총면적                    카페명       최신시작일  복층여부           x          y  \n",
       "0   96.70                  !(느낌)         NaN     0  126.916749  37.555387  \n",
       "1   57.12                  # (샵)         NaN     0  126.919585  37.549846  \n",
       "2  101.44  #1 shot in coffee(원샷)  2019-04-01     0  127.122959  37.520934  \n",
       "3   49.50                   #113  2016-09-12     0  126.930207  37.486910  \n",
       "4   20.27                   #52랩         NaN     0  126.983780  37.559687  "
      ]
     },
     "execution_count": 6,
     "metadata": {},
     "output_type": "execute_result"
    }
   ],
   "source": [
    "cafe2010.head()"
   ]
  },
  {
   "cell_type": "code",
   "execution_count": 7,
   "metadata": {},
   "outputs": [],
   "source": [
    "df = cafe2010.copy()"
   ]
  },
  {
   "cell_type": "markdown",
   "metadata": {},
   "source": [
    "# 파생변수 생성1 - 카페 데이터셋\n",
    "- 카페유형\n",
    "- 폐업여부\n",
    "- 총영업일\n",
    "- 계절\n",
    "- 월"
   ]
  },
  {
   "cell_type": "markdown",
   "metadata": {},
   "source": [
    "### 카페유형\n",
    "- 카페유형 분류\n",
    "- 행 뽑기 : 고가프차, 저가프차, 중가프차, 개인카페 ('카페유형'으로), 스타벅스('카페명'으로)"
   ]
  },
  {
   "cell_type": "code",
   "execution_count": 42,
   "metadata": {},
   "outputs": [
    {
     "data": {
      "text/plain": [
       "(269, 15)"
      ]
     },
     "execution_count": 42,
     "metadata": {},
     "output_type": "execute_result"
    }
   ],
   "source": [
    "df[df['업소명'].str.contains('커피베이', regex=True)].shape"
   ]
  },
  {
   "cell_type": "code",
   "execution_count": 43,
   "metadata": {},
   "outputs": [],
   "source": [
    "# 저가 프랜차이즈 - 메가,빽다방,컴포즈,더벤티,매머드\n",
    "df.loc[df['업소명'].str.contains('메가.*커피|커피.*메가|컴포즈|매머드|메머드|더벤티|빽다방', regex=True), '카페유형'] = '저가 프랜차이즈'\n",
    "\n",
    "# 고가 프랜차이즈 - 스타벅스,투썸,할리스,파스쿠찌,폴바셋\n",
    "df.loc[df['업소명'].str.contains('스타벅스|투썸플|할리스|파스쿠찌|파스쿠치|폴바셋|폴 바셋', regex=True), '카페유형'] = '고가 프랜차이즈'\n",
    "\n",
    "# 중가 프랜차이즈\n",
    "df.loc[df['업소명'].str.contains('이디야|셀렉토|커피베이|디저트39|디저트 39|바나프레소', regex=True), '카페유형'] = '중가 프랜차이즈'\n",
    "\n",
    "# 스타벅스만 추출\n",
    "df.loc[df['업소명'].str.contains('스타벅스', regex=True), '카페명'] = '스타벅스'\n"
   ]
  },
  {
   "cell_type": "code",
   "execution_count": 47,
   "metadata": {},
   "outputs": [],
   "source": [
    "# 그 외 카페 > 개인 카페 \n",
    "df['카페유형'].fillna('개인 카페', inplace=True)"
   ]
  },
  {
   "cell_type": "code",
   "execution_count": 48,
   "metadata": {},
   "outputs": [
    {
     "data": {
      "text/plain": [
       "0"
      ]
     },
     "execution_count": 48,
     "metadata": {},
     "output_type": "execute_result"
    }
   ],
   "source": [
    "df['카페유형'].isna().sum()"
   ]
  },
  {
   "cell_type": "code",
   "execution_count": 49,
   "metadata": {},
   "outputs": [
    {
     "data": {
      "text/html": [
       "<div>\n",
       "<style scoped>\n",
       "    .dataframe tbody tr th:only-of-type {\n",
       "        vertical-align: middle;\n",
       "    }\n",
       "\n",
       "    .dataframe tbody tr th {\n",
       "        vertical-align: top;\n",
       "    }\n",
       "\n",
       "    .dataframe thead th {\n",
       "        text-align: right;\n",
       "    }\n",
       "</style>\n",
       "<table border=\"1\" class=\"dataframe\">\n",
       "  <thead>\n",
       "    <tr style=\"text-align: right;\">\n",
       "      <th></th>\n",
       "      <th>업소명</th>\n",
       "      <th>행정동명</th>\n",
       "      <th>소재지도로명</th>\n",
       "      <th>소재지지번</th>\n",
       "      <th>영업자시작일</th>\n",
       "      <th>소재지시작일</th>\n",
       "      <th>폐업일자</th>\n",
       "      <th>업소위치</th>\n",
       "      <th>총면적</th>\n",
       "      <th>카페명</th>\n",
       "      <th>최신시작일</th>\n",
       "      <th>복층여부</th>\n",
       "      <th>x</th>\n",
       "      <th>y</th>\n",
       "      <th>카페유형</th>\n",
       "    </tr>\n",
       "  </thead>\n",
       "  <tbody>\n",
       "    <tr>\n",
       "      <th>0</th>\n",
       "      <td>!(느낌)</td>\n",
       "      <td>서교동</td>\n",
       "      <td>서울특별시 마포구 동교로17안길 10, (서교동,1층)</td>\n",
       "      <td>서울특별시 마포구 서교동  461번지 2호  1층</td>\n",
       "      <td>2010-12-10</td>\n",
       "      <td>2010-12-10</td>\n",
       "      <td>2017-02-07</td>\n",
       "      <td>지상</td>\n",
       "      <td>96.70</td>\n",
       "      <td>!(느낌)</td>\n",
       "      <td>NaN</td>\n",
       "      <td>0</td>\n",
       "      <td>126.916749</td>\n",
       "      <td>37.555387</td>\n",
       "      <td>개인 카페</td>\n",
       "    </tr>\n",
       "    <tr>\n",
       "      <th>1</th>\n",
       "      <td># (샵)</td>\n",
       "      <td>서교동</td>\n",
       "      <td>서울특별시 마포구 독막로7길 45, (서교동, 3층)</td>\n",
       "      <td>서울특별시 마포구 서교동  395번지 23호</td>\n",
       "      <td>2013-02-14</td>\n",
       "      <td>2012-01-16</td>\n",
       "      <td>2014-01-28</td>\n",
       "      <td>지상</td>\n",
       "      <td>57.12</td>\n",
       "      <td># (샵)</td>\n",
       "      <td>NaN</td>\n",
       "      <td>0</td>\n",
       "      <td>126.919585</td>\n",
       "      <td>37.549846</td>\n",
       "      <td>개인 카페</td>\n",
       "    </tr>\n",
       "    <tr>\n",
       "      <th>2</th>\n",
       "      <td>#1 shot in coffee(원샷)</td>\n",
       "      <td>방이1동</td>\n",
       "      <td>서울특별시 송파구 올림픽로 424, 올림픽공원 올림픽수영장 1층 (방이동)</td>\n",
       "      <td>서울특별시 송파구 방이동  88번지  올림픽공원</td>\n",
       "      <td>2019-04-01</td>\n",
       "      <td>2019-04-01</td>\n",
       "      <td>NaN</td>\n",
       "      <td>지상</td>\n",
       "      <td>101.44</td>\n",
       "      <td>#1 shot in coffee(원샷)</td>\n",
       "      <td>2019-04-01</td>\n",
       "      <td>0</td>\n",
       "      <td>127.122959</td>\n",
       "      <td>37.520934</td>\n",
       "      <td>개인 카페</td>\n",
       "    </tr>\n",
       "    <tr>\n",
       "      <th>3</th>\n",
       "      <td>#113</td>\n",
       "      <td>신림동</td>\n",
       "      <td>서울특별시 관악구 봉천로12길 39, 1층 113호 (신림동)</td>\n",
       "      <td>서울특별시 관악구 신림동  1426번지 7호</td>\n",
       "      <td>2016-09-12</td>\n",
       "      <td>2015-11-12</td>\n",
       "      <td>NaN</td>\n",
       "      <td>지상</td>\n",
       "      <td>49.50</td>\n",
       "      <td>#113</td>\n",
       "      <td>2016-09-12</td>\n",
       "      <td>0</td>\n",
       "      <td>126.930207</td>\n",
       "      <td>37.486910</td>\n",
       "      <td>개인 카페</td>\n",
       "    </tr>\n",
       "    <tr>\n",
       "      <th>4</th>\n",
       "      <td>#52랩</td>\n",
       "      <td>명동</td>\n",
       "      <td>서울특별시 중구 퇴계로14길 19, 1층 (회현동3가)</td>\n",
       "      <td>서울특별시 중구 회현동3가  9번지 15호  1층</td>\n",
       "      <td>2016-11-09</td>\n",
       "      <td>2016-11-09</td>\n",
       "      <td>2018-07-20</td>\n",
       "      <td>지상</td>\n",
       "      <td>20.27</td>\n",
       "      <td>#52랩</td>\n",
       "      <td>NaN</td>\n",
       "      <td>0</td>\n",
       "      <td>126.983780</td>\n",
       "      <td>37.559687</td>\n",
       "      <td>개인 카페</td>\n",
       "    </tr>\n",
       "  </tbody>\n",
       "</table>\n",
       "</div>"
      ],
      "text/plain": [
       "                     업소명  행정동명                                     소재지도로명  \\\n",
       "0                  !(느낌)   서교동             서울특별시 마포구 동교로17안길 10, (서교동,1층)   \n",
       "1                  # (샵)   서교동              서울특별시 마포구 독막로7길 45, (서교동, 3층)   \n",
       "2  #1 shot in coffee(원샷)  방이1동  서울특별시 송파구 올림픽로 424, 올림픽공원 올림픽수영장 1층 (방이동)   \n",
       "3                   #113   신림동         서울특별시 관악구 봉천로12길 39, 1층 113호 (신림동)   \n",
       "4                   #52랩    명동             서울특별시 중구 퇴계로14길 19, 1층 (회현동3가)   \n",
       "\n",
       "                         소재지지번      영업자시작일      소재지시작일        폐업일자 업소위치  \\\n",
       "0  서울특별시 마포구 서교동  461번지 2호  1층  2010-12-10  2010-12-10  2017-02-07   지상   \n",
       "1   서울특별시 마포구 서교동  395번지 23호    2013-02-14  2012-01-16  2014-01-28   지상   \n",
       "2   서울특별시 송파구 방이동  88번지  올림픽공원  2019-04-01  2019-04-01         NaN   지상   \n",
       "3   서울특별시 관악구 신림동  1426번지 7호    2016-09-12  2015-11-12         NaN   지상   \n",
       "4  서울특별시 중구 회현동3가  9번지 15호  1층  2016-11-09  2016-11-09  2018-07-20   지상   \n",
       "\n",
       "      총면적                    카페명       최신시작일  복층여부           x          y  \\\n",
       "0   96.70                  !(느낌)         NaN     0  126.916749  37.555387   \n",
       "1   57.12                  # (샵)         NaN     0  126.919585  37.549846   \n",
       "2  101.44  #1 shot in coffee(원샷)  2019-04-01     0  127.122959  37.520934   \n",
       "3   49.50                   #113  2016-09-12     0  126.930207  37.486910   \n",
       "4   20.27                   #52랩         NaN     0  126.983780  37.559687   \n",
       "\n",
       "    카페유형  \n",
       "0  개인 카페  \n",
       "1  개인 카페  \n",
       "2  개인 카페  \n",
       "3  개인 카페  \n",
       "4  개인 카페  "
      ]
     },
     "execution_count": 49,
     "metadata": {},
     "output_type": "execute_result"
    }
   ],
   "source": [
    "df.head()"
   ]
  },
  {
   "cell_type": "code",
   "execution_count": 50,
   "metadata": {},
   "outputs": [],
   "source": [
    "data1 = df.copy()"
   ]
  },
  {
   "cell_type": "markdown",
   "metadata": {},
   "source": [
    "#### 행 뽑아서 데이터셋 만들기\n",
    "- 고가 프차\n",
    "- 중가 프차\n",
    "- 저가 프차 \n",
    "- 개인카페\n",
    "- 스타벅스"
   ]
  },
  {
   "cell_type": "code",
   "execution_count": 62,
   "metadata": {},
   "outputs": [],
   "source": [
    "cafe_fren_high = df[df['카페유형']=='고가 프랜차이즈']\n",
    "\n",
    "cafe_fren_mid = df[df['카페유형']=='중가 프랜차이즈']\n",
    "\n",
    "cafe_fren_low = df[df['카페유형']=='저가 프랜차이즈']\n",
    "\n",
    "cafe_nonfren = df[df['카페유형']=='개인 카페']\n",
    "\n",
    "cafe_starbucks = df[df['카페명']=='스타벅스']"
   ]
  },
  {
   "cell_type": "code",
   "execution_count": 64,
   "metadata": {},
   "outputs": [
    {
     "name": "stdout",
     "output_type": "stream",
     "text": [
      "<class 'pandas.core.frame.DataFrame'>\n",
      "Index: 691 entries, 354 to 24685\n",
      "Data columns (total 15 columns):\n",
      " #   Column  Non-Null Count  Dtype  \n",
      "---  ------  --------------  -----  \n",
      " 0   업소명     691 non-null    object \n",
      " 1   행정동명    690 non-null    object \n",
      " 2   소재지도로명  691 non-null    object \n",
      " 3   소재지지번   690 non-null    object \n",
      " 4   영업자시작일  691 non-null    object \n",
      " 5   소재지시작일  691 non-null    object \n",
      " 6   폐업일자    41 non-null     object \n",
      " 7   업소위치    638 non-null    object \n",
      " 8   총면적     691 non-null    float64\n",
      " 9   카페명     691 non-null    object \n",
      " 10  최신시작일   650 non-null    object \n",
      " 11  복층여부    691 non-null    int64  \n",
      " 12  x       691 non-null    float64\n",
      " 13  y       691 non-null    float64\n",
      " 14  카페유형    691 non-null    object \n",
      "dtypes: float64(3), int64(1), object(11)\n",
      "memory usage: 86.4+ KB\n"
     ]
    }
   ],
   "source": [
    "#cafe_fren_high.info() #1724\n",
    "#cafe_fren_mid.info() #1373\n",
    "#cafe_fren_low.info() #1848\n",
    "#cafe_nonfren.info() #44397\n",
    "cafe_starbucks.info() #691"
   ]
  },
  {
   "cell_type": "code",
   "execution_count": 66,
   "metadata": {},
   "outputs": [],
   "source": [
    "cafe_fren_high.to_csv('cafe_fren_high.csv' , index=False, encoding='utf-8-sig')\n",
    "cafe_fren_mid.to_csv('cafe_fren_mid.csv' , index=False, encoding='utf-8-sig')\n",
    "cafe_fren_low.to_csv('cafe_fren_low.csv' , index=False, encoding='utf-8-sig')\n",
    "cafe_nonfren.to_csv('cafe_nonfren.csv' , index=False, encoding='utf-8-sig')\n",
    "cafe_starbucks.to_csv('cafe_starbucks.csv' , index=False, encoding='utf-8-sig')"
   ]
  },
  {
   "cell_type": "markdown",
   "metadata": {},
   "source": [
    "### 폐업여부"
   ]
  },
  {
   "cell_type": "code",
   "execution_count": null,
   "metadata": {},
   "outputs": [],
   "source": []
  },
  {
   "cell_type": "markdown",
   "metadata": {},
   "source": [
    "# 파생변수 생성2 - 주변 상권 변수\n",
    "- "
   ]
  },
  {
   "cell_type": "code",
   "execution_count": null,
   "metadata": {},
   "outputs": [],
   "source": []
  },
  {
   "cell_type": "markdown",
   "metadata": {},
   "source": [
    "# 파생변수 생성3 - 지역 특성 변수"
   ]
  }
 ],
 "metadata": {
  "kernelspec": {
   "display_name": "base",
   "language": "python",
   "name": "python3"
  },
  "language_info": {
   "codemirror_mode": {
    "name": "ipython",
    "version": 3
   },
   "file_extension": ".py",
   "mimetype": "text/x-python",
   "name": "python",
   "nbconvert_exporter": "python",
   "pygments_lexer": "ipython3",
   "version": "3.12.3"
  }
 },
 "nbformat": 4,
 "nbformat_minor": 2
}
