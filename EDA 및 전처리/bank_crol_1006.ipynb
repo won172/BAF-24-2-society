{
 "cells": [
  {
   "cell_type": "code",
   "execution_count": 19,
   "metadata": {},
   "outputs": [
    {
     "name": "stdout",
     "output_type": "stream",
     "text": [
      "Page 1 data collected\n",
      "Page 2 data collected\n",
      "Page 3 data collected\n",
      "Page 4 data collected\n",
      "Page 5 data collected\n",
      "Page 6 data collected\n",
      "Page 7 data collected\n",
      "Page 8 data collected\n",
      "Page 9 data collected\n",
      "Page 10 data collected\n",
      "Page 11 data collected\n",
      "Page 12 data collected\n",
      "Page 13 data collected\n",
      "Page 14 data collected\n",
      "Page 15 data collected\n",
      "Page 16 data collected\n",
      "Page 17 data collected\n",
      "Page 18 data collected\n",
      "Page 19 data collected\n",
      "Page 20 data collected\n",
      "Page 21 data collected\n",
      "Page 22 data collected\n",
      "Page 23 data collected\n",
      "Page 24 data collected\n",
      "Page 25 data collected\n",
      "Page 26 data collected\n",
      "Page 27 data collected\n",
      "Page 28 data collected\n",
      "Page 29 data collected\n",
      "Page 30 data collected\n",
      "Page 31 data collected\n",
      "Page 32 data collected\n",
      "Page 33 data collected\n",
      "Page 34 data collected\n",
      "Page 35 data collected\n",
      "Page 36 data collected\n",
      "Page 37 data collected\n",
      "Page 38 data collected\n",
      "Page 39 data collected\n",
      "Page 40 data collected\n",
      "Page 41 data collected\n",
      "Page 42 data collected\n",
      "Page 43 data collected\n",
      "Page 44 data collected\n",
      "Page 45 data collected\n",
      "Page 46 data collected\n",
      "Page 47 data collected\n",
      "Page 48 data collected\n",
      "Page 49 data collected\n",
      "Page 50 data collected\n",
      "Page 51 data collected\n",
      "Page 52 data collected\n",
      "Page 53 data collected\n",
      "Page 54 data collected\n",
      "Page 55 data collected\n",
      "Page 56 data collected\n",
      "Page 57 data collected\n",
      "Page 58 data collected\n",
      "Page 59 data collected\n",
      "Page 60 data collected\n",
      "Page 61 data collected\n",
      "Page 62 data collected\n",
      "Page 63 data collected\n",
      "Page 64 data collected\n",
      "Page 65 data collected\n",
      "Page 66 data collected\n",
      "Page 67 data collected\n",
      "Page 68 data collected\n",
      "Page 69 data collected\n",
      "Page 70 data collected\n",
      "No more pages.\n",
      "           은행            지점                                       주소  \\\n",
      "0     BNK경남은행         가산디지털        서울특별시 금천구 가산동   가산디지털 1로 가산디지털 1로   \n",
      "1     BNK경남은행            강남        서울특별시 강남구 대치동   영동대로 421 영동대로 421   \n",
      "2     BNK경남은행            마곡        서울특별시 강서구 마곡동   공항대로 227 공항대로 227   \n",
      "3     BNK경남은행         서울영업부      서울특별시 중구 서소문동   세종대로9길 42 세종대로9길 42   \n",
      "4     BNK경남은행           여의도  서울특별시 영등포구 여의도동   국제금융로2길 36 국제금융로2길 36   \n",
      "...       ...           ...                                      ...   \n",
      "1376   한국씨티은행          청담센터                서울특별시 강남구 청담동   압구정로 압구정로   \n",
      "1377   한국씨티은행  커머셜글로벌기업금융센터              서울특별시 종로구 신문로2가   새문안로 새문안로   \n",
      "1378   한국씨티은행    커머셜기업금융1센터              서울특별시 종로구 신문로2가   새문안로 새문안로   \n",
      "1379   한국씨티은행    커머셜기업금융2센터                서울특별시 강남구 대치동   테헤란로 테헤란로   \n",
      "1380   한국씨티은행  커머셜디지털기업금융센터                서울특별시 강남구 대치동   테헤란로 테헤란로   \n",
      "\n",
      "              전화번호  \n",
      "0     02-2623-5120  \n",
      "1      02-561-5500  \n",
      "2     02-2623-5070  \n",
      "3     02-3455-1900  \n",
      "4      02-785-1271  \n",
      "...            ...  \n",
      "1376  02-2156-8300  \n",
      "1377  02-3455-2415  \n",
      "1378  02-3455-2275  \n",
      "1379   02-520-7311  \n",
      "1380   02-539-4950  \n",
      "\n",
      "[1381 rows x 4 columns]\n"
     ]
    }
   ],
   "source": [
    "from selenium import webdriver\n",
    "from selenium.webdriver.common.by import By\n",
    "from selenium.webdriver.common.keys import Keys\n",
    "from bs4 import BeautifulSoup\n",
    "import pandas as pd\n",
    "import time\n",
    "\n",
    "# 크롬 드라이버 경로 설정\n",
    "driver = webdriver.Chrome()\n",
    "\n",
    "# 웹페이지로 이동\n",
    "driver.get('https://portal.kfb.or.kr/consumer/branch.php')\n",
    "\n",
    "# 페이지 로드 대기\n",
    "time.sleep(3)\n",
    "\n",
    "searchloc = '서울특별시'\n",
    "\n",
    "search_area = driver.find_element(By.XPATH, r'//*[@id=\"s_que3\"]')\n",
    "search_area.send_keys(searchloc)\n",
    "driver.find_element(By.XPATH, r'//*[@id=\"Content\"]/div[3]/form/div/ul/li[2]/span[5]/a').send_keys(Keys.ENTER)  # 돋보기 클릭\n",
    "\n",
    "time.sleep(5)\n",
    "\n",
    "# 3. 검색 결과가 있는 표 찾기\n",
    "# 데이터를 저장할 리스트 생성\n",
    "all_data = []\n",
    "\n",
    "# 2. 페이지 수집 루프\n",
    "page = 1\n",
    "while True:\n",
    "    # 페이지가 로드될 시간을 확보\n",
    "    time.sleep(3)\n",
    "    \n",
    "    # 3. 현재 페이지의 표 데이터를 가져오기\n",
    "    try:\n",
    "        table = driver.find_element(By.XPATH, '/html/body/div[1]/div[3]/div[3]/div[3]/table')\n",
    "        html_content = table.get_attribute('outerHTML')\n",
    "        soup = BeautifulSoup(html_content, 'html.parser')\n",
    "        rows = soup.find_all('tr')\n",
    "        \n",
    "        # 행에서 데이터를 추출하여 리스트에 저장\n",
    "        for row in rows:\n",
    "            cells = row.find_all('td')\n",
    "            if len(cells) > 0:\n",
    "                bank = cells[0].text.strip()\n",
    "                branch = cells[1].text.strip()\n",
    "                address = cells[2].text.strip()\n",
    "                phone = cells[3].text.strip()\n",
    "                all_data.append([bank, branch, address, phone])\n",
    "        \n",
    "        print(f\"Page {page} data collected\")\n",
    "    except:\n",
    "        print(f\"Error occurred on page {page}\")\n",
    "        break\n",
    "\n",
    "    # 4. 다음 페이지로 이동\n",
    "    try:\n",
    "        # 페이지 번호 10 이후에는 '다음' 버튼 클릭\n",
    "        if page % 10 == 0:\n",
    "            next_button = driver.find_element(By.LINK_TEXT, '다음')\n",
    "        else:\n",
    "            next_button = driver.find_element(By.LINK_TEXT, str(page + 1))\n",
    "        \n",
    "        next_button.click()\n",
    "        page += 1\n",
    "    \n",
    "    except:\n",
    "        # 더 이상 '다음' 버튼이 없으면 종료\n",
    "        print(\"No more pages.\")\n",
    "        break\n",
    "\n",
    "# 5. pandas 데이터프레임으로 변환\n",
    "df = pd.DataFrame(all_data, columns=['은행', '지점', '주소', '전화번호'])\n",
    "\n",
    "# 데이터프레임 출력\n",
    "print(df)\n",
    "\n",
    "# 크롬 드라이버 종료\n",
    "driver.quit()\n",
    "\n"
   ]
  },
  {
   "cell_type": "code",
   "execution_count": 32,
   "metadata": {},
   "outputs": [],
   "source": [
    "df.drop('전화번호', axis=1, inplace=True)"
   ]
  },
  {
   "cell_type": "code",
   "execution_count": 34,
   "metadata": {},
   "outputs": [],
   "source": [
    "df.to_csv('bank_crol.csv')"
   ]
  },
  {
   "cell_type": "markdown",
   "metadata": {},
   "source": [
    "## 크롤링한 은행 지점 데이터 전처리"
   ]
  },
  {
   "cell_type": "code",
   "execution_count": 1,
   "metadata": {},
   "outputs": [],
   "source": [
    "import pandas as pd"
   ]
  },
  {
   "cell_type": "code",
   "execution_count": 18,
   "metadata": {},
   "outputs": [],
   "source": [
    "df = pd.read_csv('bank_crol.csv', index_col='Unnamed: 0')"
   ]
  },
  {
   "cell_type": "code",
   "execution_count": 3,
   "metadata": {},
   "outputs": [
    {
     "data": {
      "text/html": [
       "<div>\n",
       "<style scoped>\n",
       "    .dataframe tbody tr th:only-of-type {\n",
       "        vertical-align: middle;\n",
       "    }\n",
       "\n",
       "    .dataframe tbody tr th {\n",
       "        vertical-align: top;\n",
       "    }\n",
       "\n",
       "    .dataframe thead th {\n",
       "        text-align: right;\n",
       "    }\n",
       "</style>\n",
       "<table border=\"1\" class=\"dataframe\">\n",
       "  <thead>\n",
       "    <tr style=\"text-align: right;\">\n",
       "      <th></th>\n",
       "      <th>은행</th>\n",
       "      <th>지점</th>\n",
       "      <th>주소</th>\n",
       "    </tr>\n",
       "  </thead>\n",
       "  <tbody>\n",
       "    <tr>\n",
       "      <th>0</th>\n",
       "      <td>BNK경남은행</td>\n",
       "      <td>가산디지털</td>\n",
       "      <td>서울특별시 금천구 가산동 가산디지털 1로</td>\n",
       "    </tr>\n",
       "    <tr>\n",
       "      <th>1</th>\n",
       "      <td>BNK경남은행</td>\n",
       "      <td>강남</td>\n",
       "      <td>서울특별시 강남구 대치동 영동대로 421</td>\n",
       "    </tr>\n",
       "    <tr>\n",
       "      <th>2</th>\n",
       "      <td>BNK경남은행</td>\n",
       "      <td>마곡</td>\n",
       "      <td>서울특별시 강서구 마곡동 공항대로 227</td>\n",
       "    </tr>\n",
       "    <tr>\n",
       "      <th>3</th>\n",
       "      <td>BNK경남은행</td>\n",
       "      <td>서울영업부</td>\n",
       "      <td>서울특별시 중구 서소문동 세종대로9길 42</td>\n",
       "    </tr>\n",
       "    <tr>\n",
       "      <th>4</th>\n",
       "      <td>BNK경남은행</td>\n",
       "      <td>여의도</td>\n",
       "      <td>서울특별시 영등포구 여의도동 국제금융로2길 36</td>\n",
       "    </tr>\n",
       "    <tr>\n",
       "      <th>...</th>\n",
       "      <td>...</td>\n",
       "      <td>...</td>\n",
       "      <td>...</td>\n",
       "    </tr>\n",
       "    <tr>\n",
       "      <th>1376</th>\n",
       "      <td>한국씨티은행</td>\n",
       "      <td>청담센터</td>\n",
       "      <td>서울특별시 강남구 청담동 압구정로</td>\n",
       "    </tr>\n",
       "    <tr>\n",
       "      <th>1377</th>\n",
       "      <td>한국씨티은행</td>\n",
       "      <td>커머셜글로벌기업금융센터</td>\n",
       "      <td>서울특별시 종로구 신문로2가 새문안로</td>\n",
       "    </tr>\n",
       "    <tr>\n",
       "      <th>1378</th>\n",
       "      <td>한국씨티은행</td>\n",
       "      <td>커머셜기업금융1센터</td>\n",
       "      <td>서울특별시 종로구 신문로2가 새문안로</td>\n",
       "    </tr>\n",
       "    <tr>\n",
       "      <th>1379</th>\n",
       "      <td>한국씨티은행</td>\n",
       "      <td>커머셜기업금융2센터</td>\n",
       "      <td>서울특별시 강남구 대치동 테헤란로</td>\n",
       "    </tr>\n",
       "    <tr>\n",
       "      <th>1380</th>\n",
       "      <td>한국씨티은행</td>\n",
       "      <td>커머셜디지털기업금융센터</td>\n",
       "      <td>서울특별시 강남구 대치동 테헤란로</td>\n",
       "    </tr>\n",
       "  </tbody>\n",
       "</table>\n",
       "<p>1381 rows × 3 columns</p>\n",
       "</div>"
      ],
      "text/plain": [
       "           은행            지점                          주소\n",
       "0     BNK경남은행         가산디지털      서울특별시 금천구 가산동 가산디지털 1로\n",
       "1     BNK경남은행            강남      서울특별시 강남구 대치동 영동대로 421\n",
       "2     BNK경남은행            마곡      서울특별시 강서구 마곡동 공항대로 227\n",
       "3     BNK경남은행         서울영업부     서울특별시 중구 서소문동 세종대로9길 42\n",
       "4     BNK경남은행           여의도  서울특별시 영등포구 여의도동 국제금융로2길 36\n",
       "...       ...           ...                         ...\n",
       "1376   한국씨티은행          청담센터          서울특별시 강남구 청담동 압구정로\n",
       "1377   한국씨티은행  커머셜글로벌기업금융센터        서울특별시 종로구 신문로2가 새문안로\n",
       "1378   한국씨티은행    커머셜기업금융1센터        서울특별시 종로구 신문로2가 새문안로\n",
       "1379   한국씨티은행    커머셜기업금융2센터          서울특별시 강남구 대치동 테헤란로\n",
       "1380   한국씨티은행  커머셜디지털기업금융센터          서울특별시 강남구 대치동 테헤란로\n",
       "\n",
       "[1381 rows x 3 columns]"
      ]
     },
     "execution_count": 3,
     "metadata": {},
     "output_type": "execute_result"
    }
   ],
   "source": [
    "df"
   ]
  },
  {
   "cell_type": "code",
   "execution_count": 4,
   "metadata": {},
   "outputs": [
    {
     "data": {
      "text/plain": [
       "array(['BNK경남은행', 'BNK부산은행', 'IBK기업은행', 'KB국민은행', 'KDB산업은행', 'NH농협은행',\n",
       "       'SC제일은행', 'Sh수협은행', 'iM뱅크(구 대구은행)', '광주은행', '우리은행', '전북은행', '제주은행',\n",
       "       '하나은행', '한국씨티은행'], dtype=object)"
      ]
     },
     "execution_count": 4,
     "metadata": {},
     "output_type": "execute_result"
    }
   ],
   "source": [
    "import pandas as pd\n",
    "import numpy as np\n",
    "\n",
    "df['은행'].unique()"
   ]
  },
  {
   "cell_type": "code",
   "execution_count": 5,
   "metadata": {},
   "outputs": [
    {
     "data": {
      "text/plain": [
       "은행    0\n",
       "지점    0\n",
       "주소    0\n",
       "dtype: int64"
      ]
     },
     "execution_count": 5,
     "metadata": {},
     "output_type": "execute_result"
    }
   ],
   "source": [
    "df.isna().sum()"
   ]
  },
  {
   "cell_type": "code",
   "execution_count": 6,
   "metadata": {},
   "outputs": [],
   "source": [
    "\n",
    "# 중복된 단어 제거 함수\n",
    "def remove_duplicates(address):\n",
    "    words = address.split()  # 공백을 기준으로 단어를 나눔\n",
    "    seen = set()  # 이미 본 단어를 저장할 집합\n",
    "    result = []  # 결과를 저장할 리스트\n",
    "    \n",
    "    for word in words:\n",
    "        if word not in seen:  # 단어가 처음 나타나면 리스트에 추가\n",
    "            result.append(word)\n",
    "            seen.add(word)\n",
    "    \n",
    "    return ' '.join(result)  # 다시 공백을 기준으로 단어를 합침\n",
    "\n"
   ]
  },
  {
   "cell_type": "code",
   "execution_count": 7,
   "metadata": {},
   "outputs": [],
   "source": [
    "# '주소' 열에 대해 중복 단어 제거 적용\n",
    "df['주소'] = df['주소'].apply(remove_duplicates)"
   ]
  },
  {
   "cell_type": "code",
   "execution_count": 19,
   "metadata": {},
   "outputs": [],
   "source": [
    "def remove_dong_words(address):\n",
    "    words = address.split()  # 공백을 기준으로 단어를 나눔\n",
    "    result = []  # 결과를 저장할 리스트\n",
    "    \n",
    "    for word in words:\n",
    "        if '동' not in word:  # '동'이 포함되지 않은 단어만 추가\n",
    "            result.append(word)\n",
    "    \n",
    "    return ' '.join(result)  # 다시 공백을 기준으로 단어를 합침\n",
    "\n",
    "# 동 이름 제거\n",
    "df['주소'] = df['주소'].apply(remove_dong_words)"
   ]
  },
  {
   "cell_type": "code",
   "execution_count": 20,
   "metadata": {},
   "outputs": [
    {
     "data": {
      "text/html": [
       "<div>\n",
       "<style scoped>\n",
       "    .dataframe tbody tr th:only-of-type {\n",
       "        vertical-align: middle;\n",
       "    }\n",
       "\n",
       "    .dataframe tbody tr th {\n",
       "        vertical-align: top;\n",
       "    }\n",
       "\n",
       "    .dataframe thead th {\n",
       "        text-align: right;\n",
       "    }\n",
       "</style>\n",
       "<table border=\"1\" class=\"dataframe\">\n",
       "  <thead>\n",
       "    <tr style=\"text-align: right;\">\n",
       "      <th></th>\n",
       "      <th>은행</th>\n",
       "      <th>지점</th>\n",
       "      <th>주소</th>\n",
       "    </tr>\n",
       "  </thead>\n",
       "  <tbody>\n",
       "    <tr>\n",
       "      <th>0</th>\n",
       "      <td>BNK경남은행</td>\n",
       "      <td>가산디지털</td>\n",
       "      <td>서울특별시 금천구 가산디지털 1로</td>\n",
       "    </tr>\n",
       "    <tr>\n",
       "      <th>1</th>\n",
       "      <td>BNK경남은행</td>\n",
       "      <td>강남</td>\n",
       "      <td>서울특별시 강남구 421</td>\n",
       "    </tr>\n",
       "    <tr>\n",
       "      <th>2</th>\n",
       "      <td>BNK경남은행</td>\n",
       "      <td>마곡</td>\n",
       "      <td>서울특별시 강서구 공항대로 227</td>\n",
       "    </tr>\n",
       "    <tr>\n",
       "      <th>3</th>\n",
       "      <td>BNK경남은행</td>\n",
       "      <td>서울영업부</td>\n",
       "      <td>서울특별시 중구 세종대로9길 42</td>\n",
       "    </tr>\n",
       "    <tr>\n",
       "      <th>4</th>\n",
       "      <td>BNK경남은행</td>\n",
       "      <td>여의도</td>\n",
       "      <td>서울특별시 영등포구 국제금융로2길 36</td>\n",
       "    </tr>\n",
       "    <tr>\n",
       "      <th>...</th>\n",
       "      <td>...</td>\n",
       "      <td>...</td>\n",
       "      <td>...</td>\n",
       "    </tr>\n",
       "    <tr>\n",
       "      <th>1376</th>\n",
       "      <td>한국씨티은행</td>\n",
       "      <td>청담센터</td>\n",
       "      <td>서울특별시 강남구 압구정로</td>\n",
       "    </tr>\n",
       "    <tr>\n",
       "      <th>1377</th>\n",
       "      <td>한국씨티은행</td>\n",
       "      <td>커머셜글로벌기업금융센터</td>\n",
       "      <td>서울특별시 종로구 신문로2가 새문안로</td>\n",
       "    </tr>\n",
       "    <tr>\n",
       "      <th>1378</th>\n",
       "      <td>한국씨티은행</td>\n",
       "      <td>커머셜기업금융1센터</td>\n",
       "      <td>서울특별시 종로구 신문로2가 새문안로</td>\n",
       "    </tr>\n",
       "    <tr>\n",
       "      <th>1379</th>\n",
       "      <td>한국씨티은행</td>\n",
       "      <td>커머셜기업금융2센터</td>\n",
       "      <td>서울특별시 강남구 테헤란로</td>\n",
       "    </tr>\n",
       "    <tr>\n",
       "      <th>1380</th>\n",
       "      <td>한국씨티은행</td>\n",
       "      <td>커머셜디지털기업금융센터</td>\n",
       "      <td>서울특별시 강남구 테헤란로</td>\n",
       "    </tr>\n",
       "  </tbody>\n",
       "</table>\n",
       "<p>1381 rows × 3 columns</p>\n",
       "</div>"
      ],
      "text/plain": [
       "           은행            지점                     주소\n",
       "0     BNK경남은행         가산디지털     서울특별시 금천구 가산디지털 1로\n",
       "1     BNK경남은행            강남          서울특별시 강남구 421\n",
       "2     BNK경남은행            마곡     서울특별시 강서구 공항대로 227\n",
       "3     BNK경남은행         서울영업부     서울특별시 중구 세종대로9길 42\n",
       "4     BNK경남은행           여의도  서울특별시 영등포구 국제금융로2길 36\n",
       "...       ...           ...                    ...\n",
       "1376   한국씨티은행          청담센터         서울특별시 강남구 압구정로\n",
       "1377   한국씨티은행  커머셜글로벌기업금융센터   서울특별시 종로구 신문로2가 새문안로\n",
       "1378   한국씨티은행    커머셜기업금융1센터   서울특별시 종로구 신문로2가 새문안로\n",
       "1379   한국씨티은행    커머셜기업금융2센터         서울특별시 강남구 테헤란로\n",
       "1380   한국씨티은행  커머셜디지털기업금융센터         서울특별시 강남구 테헤란로\n",
       "\n",
       "[1381 rows x 3 columns]"
      ]
     },
     "execution_count": 20,
     "metadata": {},
     "output_type": "execute_result"
    }
   ],
   "source": [
    "df"
   ]
  },
  {
   "cell_type": "code",
   "execution_count": 21,
   "metadata": {},
   "outputs": [],
   "source": [
    "num_remain = df.index[df['은행']=='KB국민은행'].to_list()"
   ]
  },
  {
   "cell_type": "code",
   "execution_count": 22,
   "metadata": {},
   "outputs": [],
   "source": [
    "# 국민은행 행 지우기\n",
    "df.drop(num_remain, axis=0, inplace=True)"
   ]
  },
  {
   "cell_type": "code",
   "execution_count": 23,
   "metadata": {},
   "outputs": [
    {
     "data": {
      "text/html": [
       "<div>\n",
       "<style scoped>\n",
       "    .dataframe tbody tr th:only-of-type {\n",
       "        vertical-align: middle;\n",
       "    }\n",
       "\n",
       "    .dataframe tbody tr th {\n",
       "        vertical-align: top;\n",
       "    }\n",
       "\n",
       "    .dataframe thead th {\n",
       "        text-align: right;\n",
       "    }\n",
       "</style>\n",
       "<table border=\"1\" class=\"dataframe\">\n",
       "  <thead>\n",
       "    <tr style=\"text-align: right;\">\n",
       "      <th></th>\n",
       "      <th>은행</th>\n",
       "      <th>지점</th>\n",
       "      <th>주소</th>\n",
       "    </tr>\n",
       "  </thead>\n",
       "  <tbody>\n",
       "  </tbody>\n",
       "</table>\n",
       "</div>"
      ],
      "text/plain": [
       "Empty DataFrame\n",
       "Columns: [은행, 지점, 주소]\n",
       "Index: []"
      ]
     },
     "execution_count": 23,
     "metadata": {},
     "output_type": "execute_result"
    }
   ],
   "source": [
    "df[df['은행']=='KB국민은행']"
   ]
  },
  {
   "cell_type": "markdown",
   "metadata": {},
   "source": [
    "## 은행 좌표 추출"
   ]
  },
  {
   "cell_type": "code",
   "execution_count": 12,
   "metadata": {},
   "outputs": [],
   "source": [
    "import requests\n",
    "import pandas as pd\n",
    "\n",
    "# 네이버 API 클라이언트 정보\n",
    "client_id = \"3fmd7xia0h\"\n",
    "client_secret = \"uy5gOT87pjBgIeAmXCH2dpXVBKK090HceaprqeKL\"\n",
    "\n",
    "# API 요청 함수 정의\n",
    "def get_coordinates(address):\n",
    "    endpoint = \"https://naveropenapi.apigw.ntruss.com/map-geocode/v2/geocode\"\n",
    "    url = f\"{endpoint}?query={address}\"\n",
    "\n",
    "    # API 요청 헤더\n",
    "    headers = {\n",
    "        \"X-NCP-APIGW-API-KEY-ID\": client_id,\n",
    "        \"X-NCP-APIGW-API-KEY\": client_secret,\n",
    "    }\n",
    "\n",
    "    # API 호출 및 좌표 추출\n",
    "    res = requests.get(url, headers=headers)\n",
    "    if res.status_code == 200:\n",
    "        data = res.json()\n",
    "        if data['status'] == 'OK' and data['meta']['totalCount'] > 0:\n",
    "            x = data['addresses'][0]['x']\n",
    "            y = data['addresses'][0]['y']\n",
    "            return pd.Series([x, y])\n",
    "    return pd.Series([None, None])"
   ]
  },
  {
   "cell_type": "code",
   "execution_count": 25,
   "metadata": {},
   "outputs": [
    {
     "data": {
      "text/html": [
       "<div>\n",
       "<style scoped>\n",
       "    .dataframe tbody tr th:only-of-type {\n",
       "        vertical-align: middle;\n",
       "    }\n",
       "\n",
       "    .dataframe tbody tr th {\n",
       "        vertical-align: top;\n",
       "    }\n",
       "\n",
       "    .dataframe thead th {\n",
       "        text-align: right;\n",
       "    }\n",
       "</style>\n",
       "<table border=\"1\" class=\"dataframe\">\n",
       "  <thead>\n",
       "    <tr style=\"text-align: right;\">\n",
       "      <th></th>\n",
       "      <th>은행</th>\n",
       "      <th>지점</th>\n",
       "      <th>주소</th>\n",
       "      <th>x</th>\n",
       "      <th>y</th>\n",
       "    </tr>\n",
       "  </thead>\n",
       "  <tbody>\n",
       "    <tr>\n",
       "      <th>0</th>\n",
       "      <td>BNK경남은행</td>\n",
       "      <td>가산디지털</td>\n",
       "      <td>서울특별시 금천구 가산디지털 1로</td>\n",
       "      <td>None</td>\n",
       "      <td>None</td>\n",
       "    </tr>\n",
       "    <tr>\n",
       "      <th>1</th>\n",
       "      <td>BNK경남은행</td>\n",
       "      <td>강남</td>\n",
       "      <td>서울특별시 강남구 421</td>\n",
       "      <td>None</td>\n",
       "      <td>None</td>\n",
       "    </tr>\n",
       "    <tr>\n",
       "      <th>2</th>\n",
       "      <td>BNK경남은행</td>\n",
       "      <td>마곡</td>\n",
       "      <td>서울특별시 강서구 공항대로 227</td>\n",
       "      <td>126.8326818</td>\n",
       "      <td>37.5595617</td>\n",
       "    </tr>\n",
       "    <tr>\n",
       "      <th>3</th>\n",
       "      <td>BNK경남은행</td>\n",
       "      <td>서울영업부</td>\n",
       "      <td>서울특별시 중구 세종대로9길 42</td>\n",
       "      <td>126.9738508</td>\n",
       "      <td>37.5616585</td>\n",
       "    </tr>\n",
       "    <tr>\n",
       "      <th>4</th>\n",
       "      <td>BNK경남은행</td>\n",
       "      <td>여의도</td>\n",
       "      <td>서울특별시 영등포구 국제금융로2길 36</td>\n",
       "      <td>126.9237921</td>\n",
       "      <td>37.5236576</td>\n",
       "    </tr>\n",
       "  </tbody>\n",
       "</table>\n",
       "</div>"
      ],
      "text/plain": [
       "        은행     지점                     주소            x           y\n",
       "0  BNK경남은행  가산디지털     서울특별시 금천구 가산디지털 1로         None        None\n",
       "1  BNK경남은행     강남          서울특별시 강남구 421         None        None\n",
       "2  BNK경남은행     마곡     서울특별시 강서구 공항대로 227  126.8326818  37.5595617\n",
       "3  BNK경남은행  서울영업부     서울특별시 중구 세종대로9길 42  126.9738508  37.5616585\n",
       "4  BNK경남은행    여의도  서울특별시 영등포구 국제금융로2길 36  126.9237921  37.5236576"
      ]
     },
     "execution_count": 25,
     "metadata": {},
     "output_type": "execute_result"
    }
   ],
   "source": [
    "# 주소 열에 대해 좌표를 적용하여 x, y 좌표 열 추가\n",
    "df[['x', 'y']] = df['주소'].apply(get_coordinates)\n",
    "\n",
    "# 결과 확인\n",
    "df.head()"
   ]
  },
  {
   "cell_type": "code",
   "execution_count": 29,
   "metadata": {},
   "outputs": [
    {
     "data": {
      "text/plain": [
       "array(['BNK경남은행', 'BNK부산은행', 'IBK기업은행', 'KDB산업은행', 'NH농협은행', 'SC제일은행',\n",
       "       'Sh수협은행', '우리은행', '전북은행', '하나은행', '한국씨티은행'], dtype=object)"
      ]
     },
     "execution_count": 29,
     "metadata": {},
     "output_type": "execute_result"
    }
   ],
   "source": [
    "df[df['x'].isna()]['은행'].unique()"
   ]
  },
  {
   "cell_type": "code",
   "execution_count": 35,
   "metadata": {},
   "outputs": [],
   "source": [
    "df = df[(df['은행']=='NH농협은행')|(df['은행']=='IBK기업은행')|(df['은행']=='KDB산업은행')|(df['은행']=='SC제일은행')|(df['은행']=='Sh수협은행')|(df['은행']=='우리은행')|(df['은행']=='하나은행')]"
   ]
  },
  {
   "cell_type": "code",
   "execution_count": 36,
   "metadata": {},
   "outputs": [
    {
     "name": "stderr",
     "output_type": "stream",
     "text": [
      "C:\\Users\\swc08\\AppData\\Local\\Temp\\ipykernel_23412\\3085771687.py:2: SettingWithCopyWarning: \n",
      "A value is trying to be set on a copy of a slice from a DataFrame\n",
      "\n",
      "See the caveats in the documentation: https://pandas.pydata.org/pandas-docs/stable/user_guide/indexing.html#returning-a-view-versus-a-copy\n",
      "  df.drop('index',axis=1, inplace=True)\n"
     ]
    }
   ],
   "source": [
    "df.reset_index(inplace=True)\n",
    "df.drop('index',axis=1, inplace=True)"
   ]
  },
  {
   "cell_type": "code",
   "execution_count": 14,
   "metadata": {},
   "outputs": [
    {
     "data": {
      "text/html": [
       "<div>\n",
       "<style scoped>\n",
       "    .dataframe tbody tr th:only-of-type {\n",
       "        vertical-align: middle;\n",
       "    }\n",
       "\n",
       "    .dataframe tbody tr th {\n",
       "        vertical-align: top;\n",
       "    }\n",
       "\n",
       "    .dataframe thead th {\n",
       "        text-align: right;\n",
       "    }\n",
       "</style>\n",
       "<table border=\"1\" class=\"dataframe\">\n",
       "  <thead>\n",
       "    <tr style=\"text-align: right;\">\n",
       "      <th></th>\n",
       "      <th>은행</th>\n",
       "      <th>지점</th>\n",
       "      <th>주소</th>\n",
       "      <th>x</th>\n",
       "      <th>y</th>\n",
       "    </tr>\n",
       "  </thead>\n",
       "  <tbody>\n",
       "    <tr>\n",
       "      <th>0</th>\n",
       "      <td>IBK기업은행</td>\n",
       "      <td>LG광화문</td>\n",
       "      <td>서울특별시 종로구 새문안로 58</td>\n",
       "      <td>NaN</td>\n",
       "      <td>NaN</td>\n",
       "    </tr>\n",
       "    <tr>\n",
       "      <th>12</th>\n",
       "      <td>IBK기업은행</td>\n",
       "      <td>강남구청</td>\n",
       "      <td>서울특별시 강남구 429</td>\n",
       "      <td>NaN</td>\n",
       "      <td>NaN</td>\n",
       "    </tr>\n",
       "    <tr>\n",
       "      <th>24</th>\n",
       "      <td>IBK기업은행</td>\n",
       "      <td>공릉역</td>\n",
       "      <td>서울특별시 노원구 1073</td>\n",
       "      <td>NaN</td>\n",
       "      <td>NaN</td>\n",
       "    </tr>\n",
       "    <tr>\n",
       "      <th>36</th>\n",
       "      <td>IBK기업은행</td>\n",
       "      <td>남구로</td>\n",
       "      <td>서울특별시 구로구 126-2</td>\n",
       "      <td>NaN</td>\n",
       "      <td>NaN</td>\n",
       "    </tr>\n",
       "    <tr>\n",
       "      <th>37</th>\n",
       "      <td>IBK기업은행</td>\n",
       "      <td>남대문</td>\n",
       "      <td>서울특별시 중구 세종대로 17</td>\n",
       "      <td>NaN</td>\n",
       "      <td>NaN</td>\n",
       "    </tr>\n",
       "    <tr>\n",
       "      <th>...</th>\n",
       "      <td>...</td>\n",
       "      <td>...</td>\n",
       "      <td>...</td>\n",
       "      <td>...</td>\n",
       "      <td>...</td>\n",
       "    </tr>\n",
       "    <tr>\n",
       "      <th>592</th>\n",
       "      <td>우리은행</td>\n",
       "      <td>목동지점</td>\n",
       "      <td>서울특별시 양천구 159-1</td>\n",
       "      <td>NaN</td>\n",
       "      <td>NaN</td>\n",
       "    </tr>\n",
       "    <tr>\n",
       "      <th>593</th>\n",
       "      <td>우리은행</td>\n",
       "      <td>무역센터금융센터</td>\n",
       "      <td>서울특별시 강남구 511</td>\n",
       "      <td>NaN</td>\n",
       "      <td>NaN</td>\n",
       "    </tr>\n",
       "    <tr>\n",
       "      <th>613</th>\n",
       "      <td>우리은행</td>\n",
       "      <td>삼성동금융센터</td>\n",
       "      <td>서울특별시 강남구 432</td>\n",
       "      <td>NaN</td>\n",
       "      <td>NaN</td>\n",
       "    </tr>\n",
       "    <tr>\n",
       "      <th>620</th>\n",
       "      <td>우리은행</td>\n",
       "      <td>상계동지점</td>\n",
       "      <td>서울특별시 노원구 1373</td>\n",
       "      <td>NaN</td>\n",
       "      <td>NaN</td>\n",
       "    </tr>\n",
       "    <tr>\n",
       "      <th>643</th>\n",
       "      <td>우리은행</td>\n",
       "      <td>서울역금융센터</td>\n",
       "      <td>서울특별시 중구 통일로 10</td>\n",
       "      <td>NaN</td>\n",
       "      <td>NaN</td>\n",
       "    </tr>\n",
       "  </tbody>\n",
       "</table>\n",
       "<p>70 rows × 5 columns</p>\n",
       "</div>"
      ],
      "text/plain": [
       "          은행        지점                 주소   x   y\n",
       "0    IBK기업은행     LG광화문  서울특별시 종로구 새문안로 58 NaN NaN\n",
       "12   IBK기업은행      강남구청      서울특별시 강남구 429 NaN NaN\n",
       "24   IBK기업은행       공릉역     서울특별시 노원구 1073 NaN NaN\n",
       "36   IBK기업은행       남구로    서울특별시 구로구 126-2 NaN NaN\n",
       "37   IBK기업은행       남대문   서울특별시 중구 세종대로 17 NaN NaN\n",
       "..       ...       ...                ...  ..  ..\n",
       "592     우리은행      목동지점    서울특별시 양천구 159-1 NaN NaN\n",
       "593     우리은행  무역센터금융센터      서울특별시 강남구 511 NaN NaN\n",
       "613     우리은행   삼성동금융센터      서울특별시 강남구 432 NaN NaN\n",
       "620     우리은행     상계동지점     서울특별시 노원구 1373 NaN NaN\n",
       "643     우리은행   서울역금융센터    서울특별시 중구 통일로 10 NaN NaN\n",
       "\n",
       "[70 rows x 5 columns]"
      ]
     },
     "execution_count": 14,
     "metadata": {},
     "output_type": "execute_result"
    }
   ],
   "source": [
    "df[df['x'].isna()].head(70)"
   ]
  },
  {
   "cell_type": "code",
   "execution_count": 39,
   "metadata": {},
   "outputs": [],
   "source": [
    "df.to_csv('bank_crol.csv')"
   ]
  },
  {
   "cell_type": "code",
   "execution_count": 35,
   "metadata": {},
   "outputs": [],
   "source": [
    "import pandas as pd\n",
    "df = pd.read_csv('bank_crol.csv', index_col='Unnamed: 0',encoding='cp949')"
   ]
  },
  {
   "cell_type": "code",
   "execution_count": 36,
   "metadata": {},
   "outputs": [
    {
     "data": {
      "text/plain": [
       "array(['IBK기업은행', 'KDB산업은행', 'NH농협은행', 'SC제일은행', 'Sh수협은행', '우리은행', '하나은행'],\n",
       "      dtype=object)"
      ]
     },
     "execution_count": 36,
     "metadata": {},
     "output_type": "execute_result"
    }
   ],
   "source": [
    "df['은행'].unique()"
   ]
  },
  {
   "cell_type": "code",
   "execution_count": 37,
   "metadata": {},
   "outputs": [],
   "source": [
    "bank_1 = pd.read_csv('bank_crol.csv', index_col='Unnamed: 0', encoding='cp949')\n",
    "bank_2 = pd.read_csv('bank_crol_2.csv', index_col='Unnamed: 0')"
   ]
  },
  {
   "cell_type": "code",
   "execution_count": 38,
   "metadata": {},
   "outputs": [],
   "source": [
    "bank_1 = bank_1.loc[:643]"
   ]
  },
  {
   "cell_type": "code",
   "execution_count": 39,
   "metadata": {},
   "outputs": [],
   "source": [
    "bank_2 = bank_2.loc[644:]"
   ]
  },
  {
   "cell_type": "code",
   "execution_count": 40,
   "metadata": {},
   "outputs": [],
   "source": [
    "bank = pd.concat([bank_1, bank_2],axis=0)"
   ]
  },
  {
   "cell_type": "code",
   "execution_count": 41,
   "metadata": {},
   "outputs": [],
   "source": [
    "num = bank.index[bank['x'].isna()].to_list()"
   ]
  },
  {
   "cell_type": "code",
   "execution_count": 42,
   "metadata": {},
   "outputs": [],
   "source": [
    "bank.drop(num, axis=0, inplace=True)"
   ]
  },
  {
   "cell_type": "code",
   "execution_count": 43,
   "metadata": {},
   "outputs": [
    {
     "data": {
      "text/html": [
       "<div>\n",
       "<style scoped>\n",
       "    .dataframe tbody tr th:only-of-type {\n",
       "        vertical-align: middle;\n",
       "    }\n",
       "\n",
       "    .dataframe tbody tr th {\n",
       "        vertical-align: top;\n",
       "    }\n",
       "\n",
       "    .dataframe thead th {\n",
       "        text-align: right;\n",
       "    }\n",
       "</style>\n",
       "<table border=\"1\" class=\"dataframe\">\n",
       "  <thead>\n",
       "    <tr style=\"text-align: right;\">\n",
       "      <th></th>\n",
       "      <th>은행</th>\n",
       "      <th>지점</th>\n",
       "      <th>주소</th>\n",
       "      <th>x</th>\n",
       "      <th>y</th>\n",
       "    </tr>\n",
       "  </thead>\n",
       "  <tbody>\n",
       "  </tbody>\n",
       "</table>\n",
       "</div>"
      ],
      "text/plain": [
       "Empty DataFrame\n",
       "Columns: [은행, 지점, 주소, x, y]\n",
       "Index: []"
      ]
     },
     "execution_count": 43,
     "metadata": {},
     "output_type": "execute_result"
    }
   ],
   "source": [
    "bank[bank['x'].isna()]"
   ]
  },
  {
   "cell_type": "code",
   "execution_count": 44,
   "metadata": {},
   "outputs": [],
   "source": [
    "kookmin = pd.read_csv('kookmin_bank.csv', index_col='Unnamed: 0')"
   ]
  },
  {
   "cell_type": "code",
   "execution_count": 45,
   "metadata": {},
   "outputs": [],
   "source": [
    "bank = pd.concat([bank, kookmin],axis=0)"
   ]
  },
  {
   "cell_type": "code",
   "execution_count": 49,
   "metadata": {},
   "outputs": [],
   "source": [
    "bank.reset_index(inplace=True)"
   ]
  },
  {
   "cell_type": "code",
   "execution_count": 50,
   "metadata": {},
   "outputs": [],
   "source": [
    "bank.drop('index',axis=1,inplace=True)"
   ]
  },
  {
   "cell_type": "code",
   "execution_count": 51,
   "metadata": {},
   "outputs": [],
   "source": [
    "bank.to_csv('bank_crol_1007.csv')"
   ]
  },
  {
   "cell_type": "code",
   "execution_count": 52,
   "metadata": {},
   "outputs": [
    {
     "data": {
      "text/html": [
       "<div>\n",
       "<style scoped>\n",
       "    .dataframe tbody tr th:only-of-type {\n",
       "        vertical-align: middle;\n",
       "    }\n",
       "\n",
       "    .dataframe tbody tr th {\n",
       "        vertical-align: top;\n",
       "    }\n",
       "\n",
       "    .dataframe thead th {\n",
       "        text-align: right;\n",
       "    }\n",
       "</style>\n",
       "<table border=\"1\" class=\"dataframe\">\n",
       "  <thead>\n",
       "    <tr style=\"text-align: right;\">\n",
       "      <th></th>\n",
       "      <th>은행</th>\n",
       "      <th>지점</th>\n",
       "      <th>주소</th>\n",
       "      <th>x</th>\n",
       "      <th>y</th>\n",
       "    </tr>\n",
       "  </thead>\n",
       "  <tbody>\n",
       "    <tr>\n",
       "      <th>0</th>\n",
       "      <td>IBK기업은행</td>\n",
       "      <td>LG광화문</td>\n",
       "      <td>서울특별시 종로구 신문로2가 새문안로 58</td>\n",
       "      <td>126.971586</td>\n",
       "      <td>37.569311</td>\n",
       "    </tr>\n",
       "    <tr>\n",
       "      <th>1</th>\n",
       "      <td>IBK기업은행</td>\n",
       "      <td>MBC</td>\n",
       "      <td>서울특별시 마포구 성암로 267</td>\n",
       "      <td>126.890989</td>\n",
       "      <td>37.581123</td>\n",
       "    </tr>\n",
       "    <tr>\n",
       "      <th>2</th>\n",
       "      <td>IBK기업은행</td>\n",
       "      <td>가락동</td>\n",
       "      <td>서울특별시 송파구 중대로 97</td>\n",
       "      <td>127.119352</td>\n",
       "      <td>37.493175</td>\n",
       "    </tr>\n",
       "    <tr>\n",
       "      <th>3</th>\n",
       "      <td>IBK기업은행</td>\n",
       "      <td>가산IT밸리</td>\n",
       "      <td>서울특별시 금천구 가산디지털2로 53</td>\n",
       "      <td>126.881148</td>\n",
       "      <td>37.472973</td>\n",
       "    </tr>\n",
       "    <tr>\n",
       "      <th>4</th>\n",
       "      <td>IBK기업은행</td>\n",
       "      <td>가산동</td>\n",
       "      <td>서울특별시 금천구 가산디지털2로 184</td>\n",
       "      <td>126.878042</td>\n",
       "      <td>37.484256</td>\n",
       "    </tr>\n",
       "    <tr>\n",
       "      <th>...</th>\n",
       "      <td>...</td>\n",
       "      <td>...</td>\n",
       "      <td>...</td>\n",
       "      <td>...</td>\n",
       "      <td>...</td>\n",
       "    </tr>\n",
       "    <tr>\n",
       "      <th>1310</th>\n",
       "      <td>국민은행</td>\n",
       "      <td>목동PB센터</td>\n",
       "      <td>서울특별시 양천구 목동동로 381,2층(목동)</td>\n",
       "      <td>126.879045</td>\n",
       "      <td>37.535736</td>\n",
       "    </tr>\n",
       "    <tr>\n",
       "      <th>1311</th>\n",
       "      <td>국민은행</td>\n",
       "      <td>잠실롯데PB센터</td>\n",
       "      <td>서울특별시 송파구 올림픽로 240,4층(잠실동,롯데월드)</td>\n",
       "      <td>127.098164</td>\n",
       "      <td>37.511079</td>\n",
       "    </tr>\n",
       "    <tr>\n",
       "      <th>1312</th>\n",
       "      <td>국민은행</td>\n",
       "      <td>스타시티PB센터</td>\n",
       "      <td>서울특별시 광진구 능동로 90,A동2층(자양동)</td>\n",
       "      <td>127.070972</td>\n",
       "      <td>37.538630</td>\n",
       "    </tr>\n",
       "    <tr>\n",
       "      <th>1313</th>\n",
       "      <td>국민은행</td>\n",
       "      <td>강남스타PB센터</td>\n",
       "      <td>서울특별시 강남구 테헤란로 152,21층(역삼동,강남파이낸스센터)</td>\n",
       "      <td>127.036546</td>\n",
       "      <td>37.500026</td>\n",
       "    </tr>\n",
       "    <tr>\n",
       "      <th>1314</th>\n",
       "      <td>국민은행</td>\n",
       "      <td>역삼PB센터</td>\n",
       "      <td>서울 강남구 강남대로 298, 5층 라이프타워 (역삼동,KB)</td>\n",
       "      <td>127.031862</td>\n",
       "      <td>37.490036</td>\n",
       "    </tr>\n",
       "  </tbody>\n",
       "</table>\n",
       "<p>1315 rows × 5 columns</p>\n",
       "</div>"
      ],
      "text/plain": [
       "           은행        지점                                    주소           x  \\\n",
       "0     IBK기업은행     LG광화문               서울특별시 종로구 신문로2가 새문안로 58  126.971586   \n",
       "1     IBK기업은행       MBC                     서울특별시 마포구 성암로 267  126.890989   \n",
       "2     IBK기업은행       가락동                      서울특별시 송파구 중대로 97  127.119352   \n",
       "3     IBK기업은행    가산IT밸리                  서울특별시 금천구 가산디지털2로 53  126.881148   \n",
       "4     IBK기업은행       가산동                 서울특별시 금천구 가산디지털2로 184  126.878042   \n",
       "...       ...       ...                                   ...         ...   \n",
       "1310     국민은행    목동PB센터             서울특별시 양천구 목동동로 381,2층(목동)  126.879045   \n",
       "1311     국민은행  잠실롯데PB센터       서울특별시 송파구 올림픽로 240,4층(잠실동,롯데월드)  127.098164   \n",
       "1312     국민은행  스타시티PB센터            서울특별시 광진구 능동로 90,A동2층(자양동)  127.070972   \n",
       "1313     국민은행  강남스타PB센터  서울특별시 강남구 테헤란로 152,21층(역삼동,강남파이낸스센터)  127.036546   \n",
       "1314     국민은행    역삼PB센터    서울 강남구 강남대로 298, 5층 라이프타워 (역삼동,KB)  127.031862   \n",
       "\n",
       "              y  \n",
       "0     37.569311  \n",
       "1     37.581123  \n",
       "2     37.493175  \n",
       "3     37.472973  \n",
       "4     37.484256  \n",
       "...         ...  \n",
       "1310  37.535736  \n",
       "1311  37.511079  \n",
       "1312  37.538630  \n",
       "1313  37.500026  \n",
       "1314  37.490036  \n",
       "\n",
       "[1315 rows x 5 columns]"
      ]
     },
     "execution_count": 52,
     "metadata": {},
     "output_type": "execute_result"
    }
   ],
   "source": [
    "bank"
   ]
  },
  {
   "cell_type": "code",
   "execution_count": null,
   "metadata": {},
   "outputs": [],
   "source": []
  }
 ],
 "metadata": {
  "kernelspec": {
   "display_name": "BAF_kernel",
   "language": "python",
   "name": "baf"
  },
  "language_info": {
   "codemirror_mode": {
    "name": "ipython",
    "version": 3
   },
   "file_extension": ".py",
   "mimetype": "text/x-python",
   "name": "python",
   "nbconvert_exporter": "python",
   "pygments_lexer": "ipython3",
   "version": "3.12.4"
  }
 },
 "nbformat": 4,
 "nbformat_minor": 2
}
