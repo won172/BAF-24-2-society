{
  "cells": [
    {
      "cell_type": "code",
      "execution_count": 1,
      "metadata": {
        "colab": {
          "base_uri": "https://localhost:8080/"
        },
        "id": "sw5oCmVIiEU4",
        "outputId": "e5db0fb0-7f40-4207-ffb6-4457552110ef"
      },
      "outputs": [
        {
          "output_type": "stream",
          "name": "stdout",
          "text": [
            "Requirement already satisfied: pandas in /usr/local/lib/python3.10/dist-packages (2.2.2)\n",
            "Requirement already satisfied: scikit-learn in /usr/local/lib/python3.10/dist-packages (1.5.2)\n",
            "Requirement already satisfied: lifelines in /usr/local/lib/python3.10/dist-packages (0.30.0)\n",
            "Requirement already satisfied: matplotlib in /usr/local/lib/python3.10/dist-packages (3.8.0)\n",
            "Requirement already satisfied: seaborn in /usr/local/lib/python3.10/dist-packages (0.13.2)\n",
            "Requirement already satisfied: scikit-survival in /usr/local/lib/python3.10/dist-packages (0.23.1)\n",
            "Requirement already satisfied: numpy>=1.22.4 in /usr/local/lib/python3.10/dist-packages (from pandas) (1.26.4)\n",
            "Requirement already satisfied: python-dateutil>=2.8.2 in /usr/local/lib/python3.10/dist-packages (from pandas) (2.8.2)\n",
            "Requirement already satisfied: pytz>=2020.1 in /usr/local/lib/python3.10/dist-packages (from pandas) (2024.2)\n",
            "Requirement already satisfied: tzdata>=2022.7 in /usr/local/lib/python3.10/dist-packages (from pandas) (2024.2)\n",
            "Requirement already satisfied: scipy>=1.6.0 in /usr/local/lib/python3.10/dist-packages (from scikit-learn) (1.13.1)\n",
            "Requirement already satisfied: joblib>=1.2.0 in /usr/local/lib/python3.10/dist-packages (from scikit-learn) (1.4.2)\n",
            "Requirement already satisfied: threadpoolctl>=3.1.0 in /usr/local/lib/python3.10/dist-packages (from scikit-learn) (3.5.0)\n",
            "Requirement already satisfied: autograd>=1.5 in /usr/local/lib/python3.10/dist-packages (from lifelines) (1.7.0)\n",
            "Requirement already satisfied: autograd-gamma>=0.3 in /usr/local/lib/python3.10/dist-packages (from lifelines) (0.5.0)\n",
            "Requirement already satisfied: formulaic>=0.2.2 in /usr/local/lib/python3.10/dist-packages (from lifelines) (1.0.2)\n",
            "Requirement already satisfied: contourpy>=1.0.1 in /usr/local/lib/python3.10/dist-packages (from matplotlib) (1.3.0)\n",
            "Requirement already satisfied: cycler>=0.10 in /usr/local/lib/python3.10/dist-packages (from matplotlib) (0.12.1)\n",
            "Requirement already satisfied: fonttools>=4.22.0 in /usr/local/lib/python3.10/dist-packages (from matplotlib) (4.54.1)\n",
            "Requirement already satisfied: kiwisolver>=1.0.1 in /usr/local/lib/python3.10/dist-packages (from matplotlib) (1.4.7)\n",
            "Requirement already satisfied: packaging>=20.0 in /usr/local/lib/python3.10/dist-packages (from matplotlib) (24.1)\n",
            "Requirement already satisfied: pillow>=6.2.0 in /usr/local/lib/python3.10/dist-packages (from matplotlib) (10.4.0)\n",
            "Requirement already satisfied: pyparsing>=2.3.1 in /usr/local/lib/python3.10/dist-packages (from matplotlib) (3.2.0)\n",
            "Requirement already satisfied: ecos in /usr/local/lib/python3.10/dist-packages (from scikit-survival) (2.0.14)\n",
            "Requirement already satisfied: numexpr in /usr/local/lib/python3.10/dist-packages (from scikit-survival) (2.10.1)\n",
            "Requirement already satisfied: osqp!=0.6.0,!=0.6.1 in /usr/local/lib/python3.10/dist-packages (from scikit-survival) (0.6.7.post3)\n",
            "Requirement already satisfied: interface-meta>=1.2.0 in /usr/local/lib/python3.10/dist-packages (from formulaic>=0.2.2->lifelines) (1.3.0)\n",
            "Requirement already satisfied: typing-extensions>=4.2.0 in /usr/local/lib/python3.10/dist-packages (from formulaic>=0.2.2->lifelines) (4.12.2)\n",
            "Requirement already satisfied: wrapt>=1.0 in /usr/local/lib/python3.10/dist-packages (from formulaic>=0.2.2->lifelines) (1.16.0)\n",
            "Requirement already satisfied: qdldl in /usr/local/lib/python3.10/dist-packages (from osqp!=0.6.0,!=0.6.1->scikit-survival) (0.1.7.post4)\n",
            "Requirement already satisfied: six>=1.5 in /usr/local/lib/python3.10/dist-packages (from python-dateutil>=2.8.2->pandas) (1.16.0)\n"
          ]
        }
      ],
      "source": [
        "# 필요한 라이브러리 설치\n",
        "!pip install pandas scikit-learn lifelines matplotlib seaborn scikit-survival"
      ]
    },
    {
      "cell_type": "code",
      "execution_count": 2,
      "metadata": {
        "colab": {
          "base_uri": "https://localhost:8080/"
        },
        "id": "Yc0owKEDitZz",
        "outputId": "26a3ecbd-a80d-407c-f4f2-d201418363c3"
      },
      "outputs": [
        {
          "output_type": "stream",
          "name": "stdout",
          "text": [
            "Requirement already satisfied: lifelines in /usr/local/lib/python3.10/dist-packages (0.30.0)\n",
            "Requirement already satisfied: numpy>=1.14.0 in /usr/local/lib/python3.10/dist-packages (from lifelines) (1.26.4)\n",
            "Requirement already satisfied: scipy>=1.7.0 in /usr/local/lib/python3.10/dist-packages (from lifelines) (1.13.1)\n",
            "Requirement already satisfied: pandas>=2.1 in /usr/local/lib/python3.10/dist-packages (from lifelines) (2.2.2)\n",
            "Requirement already satisfied: matplotlib>=3.0 in /usr/local/lib/python3.10/dist-packages (from lifelines) (3.8.0)\n",
            "Requirement already satisfied: autograd>=1.5 in /usr/local/lib/python3.10/dist-packages (from lifelines) (1.7.0)\n",
            "Requirement already satisfied: autograd-gamma>=0.3 in /usr/local/lib/python3.10/dist-packages (from lifelines) (0.5.0)\n",
            "Requirement already satisfied: formulaic>=0.2.2 in /usr/local/lib/python3.10/dist-packages (from lifelines) (1.0.2)\n",
            "Requirement already satisfied: interface-meta>=1.2.0 in /usr/local/lib/python3.10/dist-packages (from formulaic>=0.2.2->lifelines) (1.3.0)\n",
            "Requirement already satisfied: typing-extensions>=4.2.0 in /usr/local/lib/python3.10/dist-packages (from formulaic>=0.2.2->lifelines) (4.12.2)\n",
            "Requirement already satisfied: wrapt>=1.0 in /usr/local/lib/python3.10/dist-packages (from formulaic>=0.2.2->lifelines) (1.16.0)\n",
            "Requirement already satisfied: contourpy>=1.0.1 in /usr/local/lib/python3.10/dist-packages (from matplotlib>=3.0->lifelines) (1.3.0)\n",
            "Requirement already satisfied: cycler>=0.10 in /usr/local/lib/python3.10/dist-packages (from matplotlib>=3.0->lifelines) (0.12.1)\n",
            "Requirement already satisfied: fonttools>=4.22.0 in /usr/local/lib/python3.10/dist-packages (from matplotlib>=3.0->lifelines) (4.54.1)\n",
            "Requirement already satisfied: kiwisolver>=1.0.1 in /usr/local/lib/python3.10/dist-packages (from matplotlib>=3.0->lifelines) (1.4.7)\n",
            "Requirement already satisfied: packaging>=20.0 in /usr/local/lib/python3.10/dist-packages (from matplotlib>=3.0->lifelines) (24.1)\n",
            "Requirement already satisfied: pillow>=6.2.0 in /usr/local/lib/python3.10/dist-packages (from matplotlib>=3.0->lifelines) (10.4.0)\n",
            "Requirement already satisfied: pyparsing>=2.3.1 in /usr/local/lib/python3.10/dist-packages (from matplotlib>=3.0->lifelines) (3.2.0)\n",
            "Requirement already satisfied: python-dateutil>=2.7 in /usr/local/lib/python3.10/dist-packages (from matplotlib>=3.0->lifelines) (2.8.2)\n",
            "Requirement already satisfied: pytz>=2020.1 in /usr/local/lib/python3.10/dist-packages (from pandas>=2.1->lifelines) (2024.2)\n",
            "Requirement already satisfied: tzdata>=2022.7 in /usr/local/lib/python3.10/dist-packages (from pandas>=2.1->lifelines) (2024.2)\n",
            "Requirement already satisfied: six>=1.5 in /usr/local/lib/python3.10/dist-packages (from python-dateutil>=2.7->matplotlib>=3.0->lifelines) (1.16.0)\n"
          ]
        }
      ],
      "source": [
        "!pip install lifelines"
      ]
    },
    {
      "cell_type": "code",
      "execution_count": 3,
      "metadata": {
        "id": "UfL5GIBHirvl"
      },
      "outputs": [],
      "source": [
        "# 데이터와 분석에 필요한 라이브러리 임포트\n",
        "import pandas as pd\n",
        "import numpy as np\n",
        "import matplotlib.pyplot as plt\n",
        "import seaborn as sns\n",
        "from lifelines import KaplanMeierFitter, CoxPHFitter\n",
        "from sksurv.ensemble import RandomSurvivalForest\n",
        "from sklearn.preprocessing import StandardScaler, OneHotEncoder\n",
        "from sklearn.compose import ColumnTransformer\n",
        "from sklearn.pipeline import Pipeline"
      ]
    },
    {
      "cell_type": "code",
      "execution_count": 4,
      "metadata": {
        "colab": {
          "base_uri": "https://localhost:8080/"
        },
        "id": "hfNzSE3f7o9x",
        "outputId": "dfaf93fd-170b-4470-ceb0-dc3e5ea4f712"
      },
      "outputs": [
        {
          "output_type": "stream",
          "name": "stdout",
          "text": [
            "Requirement already satisfied: koreanize_matplotlib in /usr/local/lib/python3.10/dist-packages (0.1.1)\n",
            "Requirement already satisfied: matplotlib in /usr/local/lib/python3.10/dist-packages (from koreanize_matplotlib) (3.8.0)\n",
            "Requirement already satisfied: contourpy>=1.0.1 in /usr/local/lib/python3.10/dist-packages (from matplotlib->koreanize_matplotlib) (1.3.0)\n",
            "Requirement already satisfied: cycler>=0.10 in /usr/local/lib/python3.10/dist-packages (from matplotlib->koreanize_matplotlib) (0.12.1)\n",
            "Requirement already satisfied: fonttools>=4.22.0 in /usr/local/lib/python3.10/dist-packages (from matplotlib->koreanize_matplotlib) (4.54.1)\n",
            "Requirement already satisfied: kiwisolver>=1.0.1 in /usr/local/lib/python3.10/dist-packages (from matplotlib->koreanize_matplotlib) (1.4.7)\n",
            "Requirement already satisfied: numpy<2,>=1.21 in /usr/local/lib/python3.10/dist-packages (from matplotlib->koreanize_matplotlib) (1.26.4)\n",
            "Requirement already satisfied: packaging>=20.0 in /usr/local/lib/python3.10/dist-packages (from matplotlib->koreanize_matplotlib) (24.1)\n",
            "Requirement already satisfied: pillow>=6.2.0 in /usr/local/lib/python3.10/dist-packages (from matplotlib->koreanize_matplotlib) (10.4.0)\n",
            "Requirement already satisfied: pyparsing>=2.3.1 in /usr/local/lib/python3.10/dist-packages (from matplotlib->koreanize_matplotlib) (3.2.0)\n",
            "Requirement already satisfied: python-dateutil>=2.7 in /usr/local/lib/python3.10/dist-packages (from matplotlib->koreanize_matplotlib) (2.8.2)\n",
            "Requirement already satisfied: six>=1.5 in /usr/local/lib/python3.10/dist-packages (from python-dateutil>=2.7->matplotlib->koreanize_matplotlib) (1.16.0)\n",
            "Reading package lists... Done\n",
            "Building dependency tree... Done\n",
            "Reading state information... Done\n",
            "fonts-nanum is already the newest version (20200506-1).\n",
            "0 upgraded, 0 newly installed, 0 to remove and 49 not upgraded.\n",
            "/usr/share/fonts: caching, new cache contents: 0 fonts, 1 dirs\n",
            "/usr/share/fonts/truetype: caching, new cache contents: 0 fonts, 3 dirs\n",
            "/usr/share/fonts/truetype/humor-sans: caching, new cache contents: 1 fonts, 0 dirs\n",
            "/usr/share/fonts/truetype/liberation: caching, new cache contents: 16 fonts, 0 dirs\n",
            "/usr/share/fonts/truetype/nanum: caching, new cache contents: 12 fonts, 0 dirs\n",
            "/usr/local/share/fonts: caching, new cache contents: 0 fonts, 0 dirs\n",
            "/root/.local/share/fonts: skipping, no such directory\n",
            "/root/.fonts: skipping, no such directory\n",
            "/usr/share/fonts/truetype: skipping, looped directory detected\n",
            "/usr/share/fonts/truetype/humor-sans: skipping, looped directory detected\n",
            "/usr/share/fonts/truetype/liberation: skipping, looped directory detected\n",
            "/usr/share/fonts/truetype/nanum: skipping, looped directory detected\n",
            "/var/cache/fontconfig: cleaning cache directory\n",
            "/root/.cache/fontconfig: not cleaning non-existent cache directory\n",
            "/root/.fontconfig: not cleaning non-existent cache directory\n",
            "fc-cache: succeeded\n"
          ]
        }
      ],
      "source": [
        "!pip install koreanize_matplotlib\n",
        "import koreanize_matplotlib\n",
        "\n",
        "!sudo apt-get install -y fonts-nanum    # Nanum 폰트 설치\n",
        "!sudo fc-cache -fv                     # 폰트 캐시를 강제로 갱신\n",
        "!rm -rf ~/.cache/matplotlib            # Matplotlib 캐시 삭제\n",
        "\n",
        "import matplotlib.pyplot as plt\n",
        "plt.rc('font', family='NanumBarunGothic') # 'Malgun Gothic' 대신 'NanumBarunGothic' 사용\n",
        "plt.rcParams['axes.unicode_minus'] = False\n"
      ]
    },
    {
      "cell_type": "code",
      "execution_count": 5,
      "metadata": {
        "colab": {
          "base_uri": "https://localhost:8080/"
        },
        "id": "g0VT6aYJ6r7B",
        "outputId": "e90eb7fe-c3d9-49fe-a978-e2d2a3c61fd2"
      },
      "outputs": [
        {
          "output_type": "stream",
          "name": "stdout",
          "text": [
            "Drive already mounted at /content/drive; to attempt to forcibly remount, call drive.mount(\"/content/drive\", force_remount=True).\n"
          ]
        }
      ],
      "source": [
        "from google.colab import drive\n",
        "drive.mount('/content/drive')"
      ]
    },
    {
      "cell_type": "code",
      "execution_count": 8,
      "metadata": {
        "colab": {
          "base_uri": "https://localhost:8080/"
        },
        "id": "bGLImRfB7Abr",
        "outputId": "37161d13-20e8-4218-c5c2-944e548695a2"
      },
      "outputs": [
        {
          "output_type": "execute_result",
          "data": {
            "text/plain": [
              "(      총면적  폐업여부  총 영업일  고가프차 개수_500m  저가프차 개수_500m  중가프차 개수_500m  카페 개수_500m  \\\n",
              " 0   17.36     1     88             0             0             0           0   \n",
              " 1   89.10     0   5381             0             0             0           0   \n",
              " 2  390.88     0   5381             0             0             0           0   \n",
              " 3   53.30     1    700             0             0             0           0   \n",
              " 4    6.60     1    133             0             0             0           0   \n",
              " \n",
              "    음식점 개수_500m  bank_500m 개수  middle_500m 개수  ...  hospital_re_500m 개수  \\\n",
              " 0          286             1               2  ...                    0   \n",
              " 1          185             1               1  ...                    0   \n",
              " 2          670             4               0  ...                    0   \n",
              " 3         1508             1               0  ...                    0   \n",
              " 4          294            11               3  ...                    0   \n",
              " \n",
              "    subway_250m 존재여부  hospital_big_1000m 개수   생활인구 점수  월 임대료 평균 점수  복층여부_1  \\\n",
              " 0                 0                      0 -0.216536    -1.448152   False   \n",
              " 1                 0                      0 -0.174917    -0.076715   False   \n",
              " 2                 1                      0 -0.197076    -0.637874   False   \n",
              " 3                 0                      1  0.531716     0.532188   False   \n",
              " 4                 0                      1 -0.179222     0.164649   False   \n",
              " \n",
              "    카페유형_고가 프랜차이즈  카페유형_저가 프랜차이즈  카페유형_중가 프랜차이즈  계절_겨울  \n",
              " 0          False          False          False   True  \n",
              " 1          False          False          False   True  \n",
              " 2           True          False          False   True  \n",
              " 3          False          False          False   True  \n",
              " 4          False          False          False   True  \n",
              " \n",
              " [5 rows x 22 columns],\n",
              " Index(['총면적', '폐업여부', '총 영업일', '고가프차 개수_500m', '저가프차 개수_500m', '중가프차 개수_500m',\n",
              "        '카페 개수_500m', '음식점 개수_500m', 'bank_500m 개수', 'middle_500m 개수',\n",
              "        'high_800m 개수', 'univ_1000m 개수', 'hospital_re_500m 개수',\n",
              "        'subway_250m 존재여부', 'hospital_big_1000m 개수', '생활인구 점수', '월 임대료 평균 점수',\n",
              "        '복층여부_1', '카페유형_고가 프랜차이즈', '카페유형_저가 프랜차이즈', '카페유형_중가 프랜차이즈', '계절_겨울'],\n",
              "       dtype='object'))"
            ]
          },
          "metadata": {},
          "execution_count": 8
        }
      ],
      "source": [
        "data_path = '/content/drive/MyDrive/baf_society/data_with_dummies_2.csv'\n",
        "data = pd.read_csv(data_path)\n",
        "data.head(), data.columns"
      ]
    },
    {
      "cell_type": "code",
      "source": [
        "# 한글 폰트 설정\n",
        "plt.rcParams['font.family'] = 'NanumBarunGothic'\n",
        "plt.rcParams['axes.unicode_minus'] = False  # 마이너스 기호가 깨지는 것을 방지"
      ],
      "metadata": {
        "id": "zangWeVNE7GH"
      },
      "execution_count": 6,
      "outputs": []
    },
    {
      "cell_type": "code",
      "source": [
        "# 폐업 이벤트 발생 시간 계산 (예시로 '총 영업일'을 사용)\n",
        "events = data[data['폐업여부'] == 1]['총 영업일']\n",
        "\n",
        "# 이벤트 발생 빈도 계산\n",
        "event_counts = events.value_counts().sort_index().cumsum()\n",
        "\n",
        "# 그래프 생성\n",
        "plt.figure(figsize=(10, 6))\n",
        "plt.plot(event_counts.index, event_counts.values, marker='o', linestyle='-')\n",
        "plt.title('시간에 따른 누적 폐업 수')\n",
        "plt.xlabel('운영일수')\n",
        "plt.ylabel('누적 폐업 수')\n",
        "plt.grid(True)\n",
        "plt.show()"
      ],
      "metadata": {
        "colab": {
          "base_uri": "https://localhost:8080/",
          "height": 583
        },
        "id": "waaeHG7bEbOz",
        "outputId": "b3e881fe-779d-4258-c352-650285faad79"
      },
      "execution_count": 9,
      "outputs": [
        {
          "output_type": "display_data",
          "data": {
            "text/plain": [
              "<Figure size 1000x600 with 1 Axes>"
            ],
            "image/png": "[encoded data removed]"
          },
          "metadata": {}
        }
      ]
    },
    {
      "cell_type": "markdown",
      "metadata": {
        "id": "-3-LINuHB1og"
      },
      "source": [
        "### Random Survival Forests\n",
        "- 폐업여부를 단일 종속 변수로 고려"
      ]
    },
    {
      "cell_type": "markdown",
      "metadata": {
        "id": "L13YFbf34d-t"
      },
      "source": [
        "- 단순 RandomForestClassifier 확인\n",
        "\n"
      ]
    },
    {
      "cell_type": "code",
      "execution_count": 10,
      "metadata": {
        "colab": {
          "base_uri": "https://localhost:8080/"
        },
        "id": "buK7iDgL7PMZ",
        "outputId": "a2bf3702-cf67-41c3-d650-e696aabff86c"
      },
      "outputs": [
        {
          "output_type": "execute_result",
          "data": {
            "text/plain": [
              "(0.9299127399650959,\n",
              " '              precision    recall  f1-score   support\\n\\n           0       0.92      0.97      0.94      8429\\n           1       0.95      0.88      0.91      5896\\n\\n    accuracy                           0.93     14325\\n   macro avg       0.93      0.92      0.93     14325\\nweighted avg       0.93      0.93      0.93     14325\\n')"
            ]
          },
          "metadata": {},
          "execution_count": 10
        }
      ],
      "source": [
        "from sklearn.model_selection import train_test_split\n",
        "from sklearn.ensemble import RandomForestClassifier\n",
        "from sklearn.metrics import classification_report, accuracy_score\n",
        "\n",
        "# 타깃 변수 설정\n",
        "y = data['폐업여부']\n",
        "\n",
        "# 특성 데이터 설정\n",
        "X = data.drop('폐업여부', axis=1)\n",
        "\n",
        "# boolean columns to integer\n",
        "X = X.astype(int)\n",
        "\n",
        "# 데이터를 훈련 세트와 테스트 세트로 분할 (훈련 70%, 테스트 30%)\n",
        "X_train, X_test, y_train, y_test = train_test_split(X, y, test_size=0.3, random_state=42)\n",
        "\n",
        "# 랜덤 포레스트 분류기 생성 및 훈련\n",
        "rf_model = RandomForestClassifier(n_estimators=100, random_state=42)\n",
        "rf_model.fit(X_train, y_train)\n",
        "\n",
        "# 테스트 세트의 결과 예측\n",
        "y_pred = rf_model.predict(X_test)\n",
        "\n",
        "# 모델 평가\n",
        "accuracy = accuracy_score(y_test, y_pred)\n",
        "classification_rep = classification_report(y_test, y_pred)\n",
        "\n",
        "accuracy, classification_rep\n"
      ]
    },
    {
      "cell_type": "code",
      "execution_count": 11,
      "metadata": {
        "colab": {
          "base_uri": "https://localhost:8080/",
          "height": 782
        },
        "id": "RTQTq-2L7n7u",
        "outputId": "40383875-a7dd-4795-da20-9979ea6df6ba"
      },
      "outputs": [
        {
          "output_type": "display_data",
          "data": {
            "text/plain": [
              "<Figure size 1000x500 with 1 Axes>"
            ],
            "image/png": "[encoded data removed]"
          },
          "metadata": {}
        },
        {
          "output_type": "display_data",
          "data": {
            "text/plain": [
              "<Figure size 500x300 with 1 Axes>"
            ],
            "image/png": "[encoded data removed]"
          },
          "metadata": {}
        }
      ],
      "source": [
        "# 모델 평가\n",
        "accuracy = accuracy_score(y_test, y_pred)  # 정확도 계산\n",
        "classification_rep = classification_report(y_test, y_pred, output_dict=True)  # 분류 보고서 생성\n",
        "\n",
        "# 데이터 프레임 생성\n",
        "metrics_df = pd.DataFrame({\n",
        "    'Metric': ['precision', 'recall', 'F1 score'],\n",
        "    '운영중 (0)': [classification_rep['0']['precision'], classification_rep['0']['recall'], classification_rep['0']['f1-score']],\n",
        "    '폐업 (1)': [classification_rep['1']['precision'], classification_rep['1']['recall'], classification_rep['1']['f1-score']]\n",
        "})\n",
        "\n",
        "# 막대 그래프로 시각화\n",
        "plt.figure(figsize=(10, 5))\n",
        "sns.barplot(data=metrics_df, x='Metric', y='운영중 (0)', color='blue', label='운영중 (0)')\n",
        "sns.barplot(data=metrics_df, x='Metric', y='폐업 (1)', color='red', label='폐업 (1)')\n",
        "plt.title('각 클래스에 대한 모델 분류 성능')\n",
        "plt.legend()\n",
        "plt.show()\n",
        "\n",
        "# 정확도 시각화\n",
        "plt.figure(figsize=(5, 3))\n",
        "plt.bar('accuracy', accuracy, color='green', alpha=0.7)\n",
        "plt.ylim(0, 1)\n",
        "plt.ylabel('정확도 점수')\n",
        "plt.title('모델 정확도')\n",
        "plt.show()\n"
      ]
    },
    {
      "cell_type": "code",
      "execution_count": 12,
      "metadata": {
        "colab": {
          "base_uri": "https://localhost:8080/",
          "height": 553
        },
        "id": "f7i8EqK47bET",
        "outputId": "e73f2df3-8845-463f-fd58-92be1428daec"
      },
      "outputs": [
        {
          "output_type": "display_data",
          "data": {
            "text/plain": [
              "<Figure size 1200x800 with 1 Axes>"
            ],
            "image/png": "[encoded data removed]"
          },
          "metadata": {}
        }
      ],
      "source": [
        "# plot style\n",
        "sns.set_style(\"whitegrid\")\n",
        "plt.rc('font', family='NanumBarunGothic')\n",
        "\n",
        "# 랜덤 포레스트 모델로부터 특성 중요도 가져오기\n",
        "feature_importances = rf_model.feature_importances_\n",
        "features = X.columns\n",
        "importances_df = pd.DataFrame({'Features': features, 'Importance': feature_importances})\n",
        "\n",
        "# 중요도에 따라 특성 정렬\n",
        "importances_df = importances_df.sort_values(by='Importance', ascending=False)\n",
        "\n",
        "# 중요도 시각화\n",
        "plt.figure(figsize=(12, 8))\n",
        "sns.barplot(x='Importance', y='Features', data=importances_df)\n",
        "plt.title('랜덤 포레스트 모델의 특성 중요도')  # 그래프 제목\n",
        "plt.xlabel('중요도')  # x축 레이블\n",
        "plt.ylabel('특성')  # y축 레이블\n",
        "plt.show()\n"
      ]
    },
    {
      "cell_type": "markdown",
      "metadata": {
        "id": "LUxiwfS2dxb4"
      },
      "source": [
        "## 랜덤 서바이벌 모델로만 예측 가능한가요?"
      ]
    },
    {
      "cell_type": "markdown",
      "metadata": {
        "id": "PG4gEJwb4nKe"
      },
      "source": [
        "- 랜덤 서바이벌 모델 사용"
      ]
    },
    {
      "cell_type": "code",
      "execution_count": 43,
      "metadata": {
        "colab": {
          "base_uri": "https://localhost:8080/",
          "height": 97
        },
        "id": "7Gm73P78rF25",
        "outputId": "d328646b-588f-484b-a4f9-0c20e8546c80"
      },
      "outputs": [
        {
          "output_type": "execute_result",
          "data": {
            "text/plain": [
              "RandomSurvivalForest(max_depth=5, min_samples_leaf=5, min_samples_split=10,\n",
              "                     n_estimators=50, random_state=42)"
            ],
            "text/html": [
              "<style>#sk-container-id-2 {\n",
              "  /* Definition of color scheme common for light and dark mode */\n",
              "  --sklearn-color-text: black;\n",
              "  --sklearn-color-line: gray;\n",
              "  /* Definition of color scheme for unfitted estimators */\n",
              "  --sklearn-color-unfitted-level-0: #fff5e6;\n",
              "  --sklearn-color-unfitted-level-1: #f6e4d2;\n",
              "  --sklearn-color-unfitted-level-2: #ffe0b3;\n",
              "  --sklearn-color-unfitted-level-3: chocolate;\n",
              "  /* Definition of color scheme for fitted estimators */\n",
              "  --sklearn-color-fitted-level-0: #f0f8ff;\n",
              "  --sklearn-color-fitted-level-1: #d4ebff;\n",
              "  --sklearn-color-fitted-level-2: #b3dbfd;\n",
              "  --sklearn-color-fitted-level-3: cornflowerblue;\n",
              "\n",
              "  /* Specific color for light theme */\n",
              "  --sklearn-color-text-on-default-background: var(--sg-text-color, var(--theme-code-foreground, var(--jp-content-font-color1, black)));\n",
              "  --sklearn-color-background: var(--sg-background-color, var(--theme-background, var(--jp-layout-color0, white)));\n",
              "  --sklearn-color-border-box: var(--sg-text-color, var(--theme-code-foreground, var(--jp-content-font-color1, black)));\n",
              "  --sklearn-color-icon: #696969;\n",
              "\n",
              "  @media (prefers-color-scheme: dark) {\n",
              "    /* Redefinition of color scheme for dark theme */\n",
              "    --sklearn-color-text-on-default-background: var(--sg-text-color, var(--theme-code-foreground, var(--jp-content-font-color1, white)));\n",
              "    --sklearn-color-background: var(--sg-background-color, var(--theme-background, var(--jp-layout-color0, #111)));\n",
              "    --sklearn-color-border-box: var(--sg-text-color, var(--theme-code-foreground, var(--jp-content-font-color1, white)));\n",
              "    --sklearn-color-icon: #878787;\n",
              "  }\n",
              "}\n",
              "\n",
              "#sk-container-id-2 {\n",
              "  color: var(--sklearn-color-text);\n",
              "}\n",
              "\n",
              "#sk-container-id-2 pre {\n",
              "  padding: 0;\n",
              "}\n",
              "\n",
              "#sk-container-id-2 input.sk-hidden--visually {\n",
              "  border: 0;\n",
              "  clip: rect(1px 1px 1px 1px);\n",
              "  clip: rect(1px, 1px, 1px, 1px);\n",
              "  height: 1px;\n",
              "  margin: -1px;\n",
              "  overflow: hidden;\n",
              "  padding: 0;\n",
              "  position: absolute;\n",
              "  width: 1px;\n",
              "}\n",
              "\n",
              "#sk-container-id-2 div.sk-dashed-wrapped {\n",
              "  border: 1px dashed var(--sklearn-color-line);\n",
              "  margin: 0 0.4em 0.5em 0.4em;\n",
              "  box-sizing: border-box;\n",
              "  padding-bottom: 0.4em;\n",
              "  background-color: var(--sklearn-color-background);\n",
              "}\n",
              "\n",
              "#sk-container-id-2 div.sk-container {\n",
              "  /* jupyter's `normalize.less` sets `[hidden] { display: none; }`\n",
              "     but bootstrap.min.css set `[hidden] { display: none !important; }`\n",
              "     so we also need the `!important` here to be able to override the\n",
              "     default hidden behavior on the sphinx rendered scikit-learn.org.\n",
              "     See: https://github.com/scikit-learn/scikit-learn/issues/21755 */\n",
              "  display: inline-block !important;\n",
              "  position: relative;\n",
              "}\n",
              "\n",
              "#sk-container-id-2 div.sk-text-repr-fallback {\n",
              "  display: none;\n",
              "}\n",
              "\n",
              "div.sk-parallel-item,\n",
              "div.sk-serial,\n",
              "div.sk-item {\n",
              "  /* draw centered vertical line to link estimators */\n",
              "  background-image: linear-gradient(var(--sklearn-color-text-on-default-background), var(--sklearn-color-text-on-default-background));\n",
              "  background-size: 2px 100%;\n",
              "  background-repeat: no-repeat;\n",
              "  background-position: center center;\n",
              "}\n",
              "\n",
              "/* Parallel-specific style estimator block */\n",
              "\n",
              "#sk-container-id-2 div.sk-parallel-item::after {\n",
              "  content: \"\";\n",
              "  width: 100%;\n",
              "  border-bottom: 2px solid var(--sklearn-color-text-on-default-background);\n",
              "  flex-grow: 1;\n",
              "}\n",
              "\n",
              "#sk-container-id-2 div.sk-parallel {\n",
              "  display: flex;\n",
              "  align-items: stretch;\n",
              "  justify-content: center;\n",
              "  background-color: var(--sklearn-color-background);\n",
              "  position: relative;\n",
              "}\n",
              "\n",
              "#sk-container-id-2 div.sk-parallel-item {\n",
              "  display: flex;\n",
              "  flex-direction: column;\n",
              "}\n",
              "\n",
              "#sk-container-id-2 div.sk-parallel-item:first-child::after {\n",
              "  align-self: flex-end;\n",
              "  width: 50%;\n",
              "}\n",
              "\n",
              "#sk-container-id-2 div.sk-parallel-item:last-child::after {\n",
              "  align-self: flex-start;\n",
              "  width: 50%;\n",
              "}\n",
              "\n",
              "#sk-container-id-2 div.sk-parallel-item:only-child::after {\n",
              "  width: 0;\n",
              "}\n",
              "\n",
              "/* Serial-specific style estimator block */\n",
              "\n",
              "#sk-container-id-2 div.sk-serial {\n",
              "  display: flex;\n",
              "  flex-direction: column;\n",
              "  align-items: center;\n",
              "  background-color: var(--sklearn-color-background);\n",
              "  padding-right: 1em;\n",
              "  padding-left: 1em;\n",
              "}\n",
              "\n",
              "\n",
              "/* Toggleable style: style used for estimator/Pipeline/ColumnTransformer box that is\n",
              "clickable and can be expanded/collapsed.\n",
              "- Pipeline and ColumnTransformer use this feature and define the default style\n",
              "- Estimators will overwrite some part of the style using the `sk-estimator` class\n",
              "*/\n",
              "\n",
              "/* Pipeline and ColumnTransformer style (default) */\n",
              "\n",
              "#sk-container-id-2 div.sk-toggleable {\n",
              "  /* Default theme specific background. It is overwritten whether we have a\n",
              "  specific estimator or a Pipeline/ColumnTransformer */\n",
              "  background-color: var(--sklearn-color-background);\n",
              "}\n",
              "\n",
              "/* Toggleable label */\n",
              "#sk-container-id-2 label.sk-toggleable__label {\n",
              "  cursor: pointer;\n",
              "  display: block;\n",
              "  width: 100%;\n",
              "  margin-bottom: 0;\n",
              "  padding: 0.5em;\n",
              "  box-sizing: border-box;\n",
              "  text-align: center;\n",
              "}\n",
              "\n",
              "#sk-container-id-2 label.sk-toggleable__label-arrow:before {\n",
              "  /* Arrow on the left of the label */\n",
              "  content: \"▸\";\n",
              "  float: left;\n",
              "  margin-right: 0.25em;\n",
              "  color: var(--sklearn-color-icon);\n",
              "}\n",
              "\n",
              "#sk-container-id-2 label.sk-toggleable__label-arrow:hover:before {\n",
              "  color: var(--sklearn-color-text);\n",
              "}\n",
              "\n",
              "/* Toggleable content - dropdown */\n",
              "\n",
              "#sk-container-id-2 div.sk-toggleable__content {\n",
              "  max-height: 0;\n",
              "  max-width: 0;\n",
              "  overflow: hidden;\n",
              "  text-align: left;\n",
              "  /* unfitted */\n",
              "  background-color: var(--sklearn-color-unfitted-level-0);\n",
              "}\n",
              "\n",
              "#sk-container-id-2 div.sk-toggleable__content.fitted {\n",
              "  /* fitted */\n",
              "  background-color: var(--sklearn-color-fitted-level-0);\n",
              "}\n",
              "\n",
              "#sk-container-id-2 div.sk-toggleable__content pre {\n",
              "  margin: 0.2em;\n",
              "  border-radius: 0.25em;\n",
              "  color: var(--sklearn-color-text);\n",
              "  /* unfitted */\n",
              "  background-color: var(--sklearn-color-unfitted-level-0);\n",
              "}\n",
              "\n",
              "#sk-container-id-2 div.sk-toggleable__content.fitted pre {\n",
              "  /* unfitted */\n",
              "  background-color: var(--sklearn-color-fitted-level-0);\n",
              "}\n",
              "\n",
              "#sk-container-id-2 input.sk-toggleable__control:checked~div.sk-toggleable__content {\n",
              "  /* Expand drop-down */\n",
              "  max-height: 200px;\n",
              "  max-width: 100%;\n",
              "  overflow: auto;\n",
              "}\n",
              "\n",
              "#sk-container-id-2 input.sk-toggleable__control:checked~label.sk-toggleable__label-arrow:before {\n",
              "  content: \"▾\";\n",
              "}\n",
              "\n",
              "/* Pipeline/ColumnTransformer-specific style */\n",
              "\n",
              "#sk-container-id-2 div.sk-label input.sk-toggleable__control:checked~label.sk-toggleable__label {\n",
              "  color: var(--sklearn-color-text);\n",
              "  background-color: var(--sklearn-color-unfitted-level-2);\n",
              "}\n",
              "\n",
              "#sk-container-id-2 div.sk-label.fitted input.sk-toggleable__control:checked~label.sk-toggleable__label {\n",
              "  background-color: var(--sklearn-color-fitted-level-2);\n",
              "}\n",
              "\n",
              "/* Estimator-specific style */\n",
              "\n",
              "/* Colorize estimator box */\n",
              "#sk-container-id-2 div.sk-estimator input.sk-toggleable__control:checked~label.sk-toggleable__label {\n",
              "  /* unfitted */\n",
              "  background-color: var(--sklearn-color-unfitted-level-2);\n",
              "}\n",
              "\n",
              "#sk-container-id-2 div.sk-estimator.fitted input.sk-toggleable__control:checked~label.sk-toggleable__label {\n",
              "  /* fitted */\n",
              "  background-color: var(--sklearn-color-fitted-level-2);\n",
              "}\n",
              "\n",
              "#sk-container-id-2 div.sk-label label.sk-toggleable__label,\n",
              "#sk-container-id-2 div.sk-label label {\n",
              "  /* The background is the default theme color */\n",
              "  color: var(--sklearn-color-text-on-default-background);\n",
              "}\n",
              "\n",
              "/* On hover, darken the color of the background */\n",
              "#sk-container-id-2 div.sk-label:hover label.sk-toggleable__label {\n",
              "  color: var(--sklearn-color-text);\n",
              "  background-color: var(--sklearn-color-unfitted-level-2);\n",
              "}\n",
              "\n",
              "/* Label box, darken color on hover, fitted */\n",
              "#sk-container-id-2 div.sk-label.fitted:hover label.sk-toggleable__label.fitted {\n",
              "  color: var(--sklearn-color-text);\n",
              "  background-color: var(--sklearn-color-fitted-level-2);\n",
              "}\n",
              "\n",
              "/* Estimator label */\n",
              "\n",
              "#sk-container-id-2 div.sk-label label {\n",
              "  font-family: monospace;\n",
              "  font-weight: bold;\n",
              "  display: inline-block;\n",
              "  line-height: 1.2em;\n",
              "}\n",
              "\n",
              "#sk-container-id-2 div.sk-label-container {\n",
              "  text-align: center;\n",
              "}\n",
              "\n",
              "/* Estimator-specific */\n",
              "#sk-container-id-2 div.sk-estimator {\n",
              "  font-family: monospace;\n",
              "  border: 1px dotted var(--sklearn-color-border-box);\n",
              "  border-radius: 0.25em;\n",
              "  box-sizing: border-box;\n",
              "  margin-bottom: 0.5em;\n",
              "  /* unfitted */\n",
              "  background-color: var(--sklearn-color-unfitted-level-0);\n",
              "}\n",
              "\n",
              "#sk-container-id-2 div.sk-estimator.fitted {\n",
              "  /* fitted */\n",
              "  background-color: var(--sklearn-color-fitted-level-0);\n",
              "}\n",
              "\n",
              "/* on hover */\n",
              "#sk-container-id-2 div.sk-estimator:hover {\n",
              "  /* unfitted */\n",
              "  background-color: var(--sklearn-color-unfitted-level-2);\n",
              "}\n",
              "\n",
              "#sk-container-id-2 div.sk-estimator.fitted:hover {\n",
              "  /* fitted */\n",
              "  background-color: var(--sklearn-color-fitted-level-2);\n",
              "}\n",
              "\n",
              "/* Specification for estimator info (e.g. \"i\" and \"?\") */\n",
              "\n",
              "/* Common style for \"i\" and \"?\" */\n",
              "\n",
              ".sk-estimator-doc-link,\n",
              "a:link.sk-estimator-doc-link,\n",
              "a:visited.sk-estimator-doc-link {\n",
              "  float: right;\n",
              "  font-size: smaller;\n",
              "  line-height: 1em;\n",
              "  font-family: monospace;\n",
              "  background-color: var(--sklearn-color-background);\n",
              "  border-radius: 1em;\n",
              "  height: 1em;\n",
              "  width: 1em;\n",
              "  text-decoration: none !important;\n",
              "  margin-left: 1ex;\n",
              "  /* unfitted */\n",
              "  border: var(--sklearn-color-unfitted-level-1) 1pt solid;\n",
              "  color: var(--sklearn-color-unfitted-level-1);\n",
              "}\n",
              "\n",
              ".sk-estimator-doc-link.fitted,\n",
              "a:link.sk-estimator-doc-link.fitted,\n",
              "a:visited.sk-estimator-doc-link.fitted {\n",
              "  /* fitted */\n",
              "  border: var(--sklearn-color-fitted-level-1) 1pt solid;\n",
              "  color: var(--sklearn-color-fitted-level-1);\n",
              "}\n",
              "\n",
              "/* On hover */\n",
              "div.sk-estimator:hover .sk-estimator-doc-link:hover,\n",
              ".sk-estimator-doc-link:hover,\n",
              "div.sk-label-container:hover .sk-estimator-doc-link:hover,\n",
              ".sk-estimator-doc-link:hover {\n",
              "  /* unfitted */\n",
              "  background-color: var(--sklearn-color-unfitted-level-3);\n",
              "  color: var(--sklearn-color-background);\n",
              "  text-decoration: none;\n",
              "}\n",
              "\n",
              "div.sk-estimator.fitted:hover .sk-estimator-doc-link.fitted:hover,\n",
              ".sk-estimator-doc-link.fitted:hover,\n",
              "div.sk-label-container:hover .sk-estimator-doc-link.fitted:hover,\n",
              ".sk-estimator-doc-link.fitted:hover {\n",
              "  /* fitted */\n",
              "  background-color: var(--sklearn-color-fitted-level-3);\n",
              "  color: var(--sklearn-color-background);\n",
              "  text-decoration: none;\n",
              "}\n",
              "\n",
              "/* Span, style for the box shown on hovering the info icon */\n",
              ".sk-estimator-doc-link span {\n",
              "  display: none;\n",
              "  z-index: 9999;\n",
              "  position: relative;\n",
              "  font-weight: normal;\n",
              "  right: .2ex;\n",
              "  padding: .5ex;\n",
              "  margin: .5ex;\n",
              "  width: min-content;\n",
              "  min-width: 20ex;\n",
              "  max-width: 50ex;\n",
              "  color: var(--sklearn-color-text);\n",
              "  box-shadow: 2pt 2pt 4pt #999;\n",
              "  /* unfitted */\n",
              "  background: var(--sklearn-color-unfitted-level-0);\n",
              "  border: .5pt solid var(--sklearn-color-unfitted-level-3);\n",
              "}\n",
              "\n",
              ".sk-estimator-doc-link.fitted span {\n",
              "  /* fitted */\n",
              "  background: var(--sklearn-color-fitted-level-0);\n",
              "  border: var(--sklearn-color-fitted-level-3);\n",
              "}\n",
              "\n",
              ".sk-estimator-doc-link:hover span {\n",
              "  display: block;\n",
              "}\n",
              "\n",
              "/* \"?\"-specific style due to the `<a>` HTML tag */\n",
              "\n",
              "#sk-container-id-2 a.estimator_doc_link {\n",
              "  float: right;\n",
              "  font-size: 1rem;\n",
              "  line-height: 1em;\n",
              "  font-family: monospace;\n",
              "  background-color: var(--sklearn-color-background);\n",
              "  border-radius: 1rem;\n",
              "  height: 1rem;\n",
              "  width: 1rem;\n",
              "  text-decoration: none;\n",
              "  /* unfitted */\n",
              "  color: var(--sklearn-color-unfitted-level-1);\n",
              "  border: var(--sklearn-color-unfitted-level-1) 1pt solid;\n",
              "}\n",
              "\n",
              "#sk-container-id-2 a.estimator_doc_link.fitted {\n",
              "  /* fitted */\n",
              "  border: var(--sklearn-color-fitted-level-1) 1pt solid;\n",
              "  color: var(--sklearn-color-fitted-level-1);\n",
              "}\n",
              "\n",
              "/* On hover */\n",
              "#sk-container-id-2 a.estimator_doc_link:hover {\n",
              "  /* unfitted */\n",
              "  background-color: var(--sklearn-color-unfitted-level-3);\n",
              "  color: var(--sklearn-color-background);\n",
              "  text-decoration: none;\n",
              "}\n",
              "\n",
              "#sk-container-id-2 a.estimator_doc_link.fitted:hover {\n",
              "  /* fitted */\n",
              "  background-color: var(--sklearn-color-fitted-level-3);\n",
              "}\n",
              "</style><div id=\"sk-container-id-2\" class=\"sk-top-container\"><div class=\"sk-text-repr-fallback\"><pre>RandomSurvivalForest(max_depth=5, min_samples_leaf=5, min_samples_split=10,\n",
              "                     n_estimators=50, random_state=42)</pre><b>In a Jupyter environment, please rerun this cell to show the HTML representation or trust the notebook. <br />On GitHub, the HTML representation is unable to render, please try loading this page with nbviewer.org.</b></div><div class=\"sk-container\" hidden><div class=\"sk-item\"><div class=\"sk-estimator fitted sk-toggleable\"><input class=\"sk-toggleable__control sk-hidden--visually\" id=\"sk-estimator-id-2\" type=\"checkbox\" checked><label for=\"sk-estimator-id-2\" class=\"sk-toggleable__label fitted sk-toggleable__label-arrow fitted\">&nbsp;RandomSurvivalForest<span class=\"sk-estimator-doc-link fitted\">i<span>Fitted</span></span></label><div class=\"sk-toggleable__content fitted\"><pre>RandomSurvivalForest(max_depth=5, min_samples_leaf=5, min_samples_split=10,\n",
              "                     n_estimators=50, random_state=42)</pre></div> </div></div></div></div>"
            ]
          },
          "metadata": {},
          "execution_count": 43
        }
      ],
      "source": [
        "from sksurv.ensemble import RandomSurvivalForest\n",
        "from sksurv.preprocessing import OneHotEncoder\n",
        "import numpy as np\n",
        "import pandas as pd\n",
        "from sklearn.model_selection import train_test_split\n",
        "\n",
        "# 생존 분석용 데이터 준비 (타겟 변수를 생존 분석 형태로 변환)\n",
        "y_survival = np.array([(bool(v), d) for v, d in zip(data['폐업여부'], data['총 영업일'])],\n",
        "                      dtype=[('event', '?'), ('time', '<f8')])\n",
        "\n",
        "# 특성 데이터 설정 및 원-핫 인코딩 적용\n",
        "encoder = OneHotEncoder()\n",
        "X_encoded = encoder.fit_transform(X)\n",
        "\n",
        "# 데이터를 훈련 세트와 테스트 세트로 분할\n",
        "X_train, X_test, y_train, y_test = train_test_split(X_encoded, y_survival, test_size=0.3, random_state=42)\n",
        "\n",
        "# 랜덤 서바이벌 포레스트 생성 및 학습\n",
        "rsf_model = RandomSurvivalForest(n_estimators=50, max_depth=5, min_samples_split=10, min_samples_leaf=5, random_state=42)\n",
        "rsf_model.fit(X_train, y_train)"
      ]
    },
    {
      "cell_type": "markdown",
      "source": [
        "#### 콩코드 지수 : 예측된 위험과 실제 생존 시간 사이의 일치도 측정\n",
        "- 0~1 사이 값 가지고, 1에 가까울 수록 모델의 예측 성능이 높음을 의미"
      ],
      "metadata": {
        "id": "6PlvQXBR9PJA"
      }
    },
    {
      "cell_type": "code",
      "source": [
        "# C-index 계산\n",
        "c_index = rsf_model.score(X_test, y_test)\n",
        "print(f\"C-index: {c_index:.4f}\")\n"
      ],
      "metadata": {
        "colab": {
          "base_uri": "https://localhost:8080/"
        },
        "id": "kSn1to-Y8UJ2",
        "outputId": "c9bdf8d8-4d36-4276-aa9d-453c07a450c5"
      },
      "execution_count": 14,
      "outputs": [
        {
          "output_type": "stream",
          "name": "stdout",
          "text": [
            "C-index: 0.6650\n"
          ]
        }
      ]
    },
    {
      "cell_type": "code",
      "execution_count": 20,
      "metadata": {
        "colab": {
          "base_uri": "https://localhost:8080/",
          "height": 632
        },
        "id": "43XiHEmi4uyi",
        "outputId": "c35eac39-bb78-46b9-d0b9-cd9a5a2c2943"
      },
      "outputs": [
        {
          "output_type": "display_data",
          "data": {
            "text/plain": [
              "<Figure size 1000x600 with 1 Axes>"
            ],
            "image/png": "[encoded data removed]"
          },
          "metadata": {}
        },
        {
          "output_type": "display_data",
          "data": {
            "text/plain": [
              "<Figure size 600x100 with 1 Axes>"
            ],
            "image/png": "[encoded data removed]"
          },
          "metadata": {}
        }
      ],
      "source": [
        "from sklearn.inspection import permutation_importance\n",
        "import matplotlib.pyplot as plt\n",
        "import numpy as np\n",
        "\n",
        "# 퍼뮤테이션 중요도 계산\n",
        "result = permutation_importance(rsf_model, X_test, y_test, n_repeats=1, random_state=42, n_jobs=-1)\n",
        "\n",
        "# 중요도 및 표준편차 가져오기\n",
        "importances = result.importances_mean\n",
        "std = result.importances_std\n",
        "\n",
        "# 변수 이름 설정\n",
        "feature_names = encoder.feature_names_in_\n",
        "\n",
        "# 중요도 시각화\n",
        "plt.figure(figsize=(10, 6))\n",
        "indices = np.argsort(importances)[::-1]  # 중요도에 따라 내림차순 정렬\n",
        "plt.bar(range(len(importances)), importances[indices], yerr=std[indices], align='center')\n",
        "plt.xticks(range(len(importances)), feature_names[indices], rotation=90)\n",
        "plt.xlabel('Features')\n",
        "plt.ylabel('Importance')\n",
        "plt.title('Feature Importances (Permutation Importance)')\n",
        "plt.tight_layout()\n",
        "plt.show()\n",
        "\n",
        "# C-index 계산 및 시각화\n",
        "c_index = rsf_model.score(X_test, y_test)\n",
        "plt.figure(figsize=(6, 1))\n",
        "plt.text(0.5, 0.5, f'C-index: {c_index:.4f}', horizontalalignment='center', verticalalignment='center',\n",
        "         fontsize=16, bbox=dict(facecolor='lightgrey', alpha=0.5))\n",
        "plt.axis('off')\n",
        "plt.show()\n"
      ]
    },
    {
      "cell_type": "markdown",
      "metadata": {
        "id": "UbSx64CcpVEy"
      },
      "source": [
        "### 네 그럼요\n",
        "- 홍호와 자리에 고가 프랜차이즈 카페를 세울 경우"
      ]
    },
    {
      "cell_type": "code",
      "execution_count": 16,
      "metadata": {
        "colab": {
          "base_uri": "https://localhost:8080/"
        },
        "id": "cpSSOxuidvjc",
        "outputId": "61494384-5e94-4166-ae6a-692e887008bb"
      },
      "outputs": [
        {
          "output_type": "stream",
          "name": "stdout",
          "text": [
            "Prediction for High-priced Franchise:\n",
            " - 폐업 여부 (730일): 폐업\n",
            " - 생존 확률 (365일): 0.35\n",
            " - 생존 확률 (730일): 0.31\n",
            " - 생존 확률 (1000일): 0.30\n",
            " - 생존 확률 (1500일): 0.28\n"
          ]
        }
      ],
      "source": [
        "# 새로운 데이터 준비\n",
        "new_data_high = pd.DataFrame({\n",
        "    '총면적': [57.85],\n",
        "    '고가프차 개수_500m': [6],\n",
        "    '저가프차 개수_500m': [2],\n",
        "    '중가프차 개수_500m': [3],\n",
        "    '카페 개수_500m': [113],\n",
        "    '음식점 개수_500m': [895],\n",
        "    'bank_500m 개수': [7],\n",
        "    'middle_500m 개수': [1],\n",
        "    'high_800m 개수': [0],\n",
        "    'univ_1000m 개수': [1],\n",
        "    'hospital_re_500m 개수': [0],\n",
        "    'subway_250m 존재여부': [0],\n",
        "    'hospital_big_1000m 개수': [1],\n",
        "    '생활인구 점수': [1.732320888],\n",
        "    '월 임대료 평균 점수': [1.522459082],\n",
        "    '복층여부_1': [0],\n",
        "    '카페유형_고가 프랜차이즈': [1],\n",
        "    '카페유형_저가 프랜차이즈': [0],\n",
        "    '카페유형_중가 프랜차이즈': [0],\n",
        "    '계절_겨울': [1]\n",
        "})\n",
        "\n",
        "# 새로운 데이터에 대해 훈련된 인코더를 사용하여 인코딩 수행\n",
        "# 하지만 새로운 데이터를 위한 인코딩 전에 훈련 데이터와 동일한 열을 갖도록 보장\n",
        "new_data_high = new_data_high.reindex(columns=X.columns, fill_value=0)\n",
        "\n",
        "# 새로운 데이터에 대해 훈련된 인코더를 사용하여 인코딩 수행\n",
        "new_data_high_encoded = encoder.transform(new_data_high)\n",
        "\n",
        "# 새로운 데이터에 대해 생존 함수 예측 수행\n",
        "pred_survival_function = rsf_model.predict_survival_function(new_data_high_encoded)\n",
        "\n",
        "# 예측된 폐업 여부 및 총 영업일 출력\n",
        "# 특정 시점에서 생존 확률을 추정 (예: 1년, 2년, 1000일, 1500일 시점)\n",
        "for fn in pred_survival_function:\n",
        "    survival_prob_365 = fn(365)\n",
        "    survival_prob_730 = fn(730)\n",
        "    survival_prob_1000 = fn(1000)\n",
        "    survival_prob_1500 = fn(1500)\n",
        "    predicted_result = {\n",
        "        \"High-priced Franchise\": {\n",
        "            \"폐업 여부 (730일)\": \"폐업\" if survival_prob_730 < 0.5 else \"생존\",\n",
        "            # \"총 영업일 예측 (730일)\": survival_prob_730 * 730,\n",
        "            \"생존 확률 (365일)\": survival_prob_365,\n",
        "            \"생존 확률 (730일)\": survival_prob_730,\n",
        "            \"생존 확률 (1000일)\": survival_prob_1000,\n",
        "            \"생존 확률 (1500일)\": survival_prob_1500\n",
        "        }\n",
        "    }\n",
        "\n",
        "# 예측 결과 출력\n",
        "for key, value in predicted_result.items():\n",
        "    print(f\"Prediction for {key}:\")\n",
        "    print(f\" - 폐업 여부 (730일): {value['폐업 여부 (730일)']}\")\n",
        "    # print(f\" - 총 영업일 예측 (730일): {value['총 영업일 예측 (730일)']:.2f}일\")\n",
        "    print(f\" - 생존 확률 (365일): {value['생존 확률 (365일)']:.2f}\")\n",
        "    print(f\" - 생존 확률 (730일): {value['생존 확률 (730일)']:.2f}\")\n",
        "    print(f\" - 생존 확률 (1000일): {value['생존 확률 (1000일)']:.2f}\")\n",
        "    print(f\" - 생존 확률 (1500일): {value['생존 확률 (1500일)']:.2f}\")\n"
      ]
    },
    {
      "cell_type": "markdown",
      "metadata": {
        "id": "R-zIlSzKpbih"
      },
      "source": [
        "- 홍호와 자리에 저가 프랜차이즈 카페를 차릴경우"
      ]
    },
    {
      "cell_type": "code",
      "execution_count": 13,
      "metadata": {
        "colab": {
          "base_uri": "https://localhost:8080/"
        },
        "id": "PMO41Lb5pPe8",
        "outputId": "74105dc6-5cc3-4b40-e218-4779b0431189"
      },
      "outputs": [
        {
          "output_type": "stream",
          "name": "stdout",
          "text": [
            "Prediction for Low-priced Franchise:\n",
            " - 폐업 여부 (730일): 폐업\n",
            " - 생존 확률 (365일): 0.31\n",
            " - 생존 확률 (730일): 0.27\n",
            " - 생존 확률 (1000일): 0.26\n",
            " - 생존 확률 (1500일): 0.26\n"
          ]
        }
      ],
      "source": [
        "# 새로운 데이터 준비\n",
        "new_data_high = pd.DataFrame({\n",
        "    '총면적': [57.85],\n",
        "    '고가프차 개수_500m': [6],\n",
        "    '저가프차 개수_500m': [2],\n",
        "    '중가프차 개수_500m': [3],\n",
        "    '카페 개수_500m': [113],\n",
        "    '음식점 개수_500m': [895],\n",
        "    'bank_500m 개수': [7],\n",
        "    'middle_500m 개수': [1],\n",
        "    'high_800m 개수': [0],\n",
        "    'univ_1000m 개수': [1],\n",
        "    'hospital_re_500m 개수': [0],\n",
        "    'subway_250m 존재여부': [0],\n",
        "    'hospital_big_1000m 개수': [1],\n",
        "    '생활인구 점수': [1.732320888],\n",
        "    '월 임대료 평균 점수': [1.522459082],\n",
        "    '복층여부_1': [0],\n",
        "    '카페유형_고가 프랜차이즈': [0],\n",
        "    '카페유형_저가 프랜차이즈': [1],\n",
        "    '카페유형_중가 프랜차이즈': [0],\n",
        "    '계절_겨울': [1]\n",
        "})\n",
        "\n",
        "# 새로운 데이터에 대해 훈련된 인코더를 사용하여 인코딩 수행\n",
        "# 하지만 새로운 데이터를 위한 인코딩 전에 훈련 데이터와 동일한 열을 갖도록 보장\n",
        "new_data_high = new_data_high.reindex(columns=X.columns, fill_value=0)\n",
        "\n",
        "# 새로운 데이터에 대해 훈련된 인코더를 사용하여 인코딩 수행\n",
        "new_data_high_encoded = encoder.transform(new_data_high)\n",
        "\n",
        "# 새로운 데이터에 대해 생존 함수 예측 수행\n",
        "pred_survival_function = rsf_model.predict_survival_function(new_data_high_encoded)\n",
        "\n",
        "# 예측된 폐업 여부 및 총 영업일 출력\n",
        "# 특정 시점에서 생존 확률을 추정 (예: 1년, 2년, 1000일, 1500일 시점)\n",
        "for fn in pred_survival_function:\n",
        "    survival_prob_365 = fn(365)\n",
        "    survival_prob_730 = fn(730)\n",
        "    survival_prob_1000 = fn(1000)\n",
        "    survival_prob_1500 = fn(1500)\n",
        "    predicted_result = {\n",
        "        \"Low-priced Franchise\": {\n",
        "            \"폐업 여부 (730일)\": \"폐업\" if survival_prob_730 < 0.5 else \"생존\",\n",
        "            # \"총 영업일 예측 (730일)\": survival_prob_730 * 730,\n",
        "            \"생존 확률 (365일)\": survival_prob_365,\n",
        "            \"생존 확률 (730일)\": survival_prob_730,\n",
        "            \"생존 확률 (1000일)\": survival_prob_1000,\n",
        "            \"생존 확률 (1500일)\": survival_prob_1500\n",
        "        }\n",
        "    }\n",
        "\n",
        "# 예측 결과 출력\n",
        "for key, value in predicted_result.items():\n",
        "    print(f\"Prediction for {key}:\")\n",
        "    print(f\" - 폐업 여부 (730일): {value['폐업 여부 (730일)']}\")\n",
        "    # print(f\" - 총 영업일 예측 (730일): {value['총 영업일 예측 (730일)']:.2f}일\")\n",
        "    print(f\" - 생존 확률 (365일): {value['생존 확률 (365일)']:.2f}\")\n",
        "    print(f\" - 생존 확률 (730일): {value['생존 확률 (730일)']:.2f}\")\n",
        "    print(f\" - 생존 확률 (1000일): {value['생존 확률 (1000일)']:.2f}\")\n",
        "    print(f\" - 생존 확률 (1500일): {value['생존 확률 (1500일)']:.2f}\")\n"
      ]
    },
    {
      "cell_type": "markdown",
      "metadata": {
        "id": "RRn9Gd-OcSSj"
      },
      "source": [
        "- 중가 프랜차이즈 여부"
      ]
    },
    {
      "cell_type": "code",
      "execution_count": 14,
      "metadata": {
        "colab": {
          "base_uri": "https://localhost:8080/"
        },
        "id": "wSsJ7D7yR56F",
        "outputId": "93352382-4637-4b35-be0d-4150f26759a6"
      },
      "outputs": [
        {
          "output_type": "stream",
          "name": "stdout",
          "text": [
            "Prediction for Mid-priced Franchise:\n",
            " - 폐업 여부 (730일): 폐업\n",
            " - 생존 확률 (365일): 0.34\n",
            " - 생존 확률 (730일): 0.28\n",
            " - 생존 확률 (1000일): 0.27\n",
            " - 생존 확률 (1500일): 0.26\n"
          ]
        }
      ],
      "source": [
        "# 새로운 데이터 준비\n",
        "new_data_high = pd.DataFrame({\n",
        "    '총면적': [57.85],\n",
        "    '고가프차 개수_500m': [6],\n",
        "    '저가프차 개수_500m': [2],\n",
        "    '중가프차 개수_500m': [3],\n",
        "    '카페 개수_500m': [113],\n",
        "    '음식점 개수_500m': [895],\n",
        "    'bank_500m 개수': [7],\n",
        "    'middle_500m 개수': [1],\n",
        "    'high_800m 개수': [0],\n",
        "    'univ_1000m 개수': [1],\n",
        "    'hospital_re_500m 개수': [0],\n",
        "    'subway_250m 존재여부': [0],\n",
        "    'hospital_big_1000m 개수': [1],\n",
        "    '생활인구 점수': [1.732320888],\n",
        "    '월 임대료 평균 점수': [1.522459082],\n",
        "    '복층여부_1': [0],\n",
        "    '카페유형_고가 프랜차이즈': [0],\n",
        "    '카페유형_저가 프랜차이즈': [0],\n",
        "    '카페유형_중가 프랜차이즈': [1],\n",
        "    '계절_겨울': [1]\n",
        "})\n",
        "\n",
        "# 새로운 데이터에 대해 훈련된 인코더를 사용하여 인코딩 수행\n",
        "# 하지만 새로운 데이터를 위한 인코딩 전에 훈련 데이터와 동일한 열을 갖도록 보장\n",
        "new_data_high = new_data_high.reindex(columns=X.columns, fill_value=0)\n",
        "\n",
        "# 새로운 데이터에 대해 훈련된 인코더를 사용하여 인코딩 수행\n",
        "new_data_high_encoded = encoder.transform(new_data_high)\n",
        "\n",
        "# 새로운 데이터에 대해 생존 함수 예측 수행\n",
        "pred_survival_function = rsf_model.predict_survival_function(new_data_high_encoded)\n",
        "\n",
        "# 예측된 폐업 여부 및 총 영업일 출력\n",
        "# 특정 시점에서 생존 확률을 추정 (예: 1년, 2년, 1000일, 1500일 시점)\n",
        "for fn in pred_survival_function:\n",
        "    survival_prob_365 = fn(365)\n",
        "    survival_prob_730 = fn(730)\n",
        "    survival_prob_1000 = fn(1000)\n",
        "    survival_prob_1500 = fn(1500)\n",
        "    predicted_result = {\n",
        "        \"Mid-priced Franchise\": {\n",
        "            \"폐업 여부 (730일)\": \"폐업\" if survival_prob_730 < 0.5 else \"생존\",\n",
        "            # \"총 영업일 예측 (730일)\": survival_prob_730 * 730,\n",
        "            \"생존 확률 (365일)\": survival_prob_365,\n",
        "            \"생존 확률 (730일)\": survival_prob_730,\n",
        "            \"생존 확률 (1000일)\": survival_prob_1000,\n",
        "            \"생존 확률 (1500일)\": survival_prob_1500\n",
        "        }\n",
        "    }\n",
        "\n",
        "# 예측 결과 출력\n",
        "for key, value in predicted_result.items():\n",
        "    print(f\"Prediction for {key}:\")\n",
        "    print(f\" - 폐업 여부 (730일): {value['폐업 여부 (730일)']}\")\n",
        "    # print(f\" - 총 영업일 예측 (730일): {value['총 영업일 예측 (730일)']:.2f}일\")\n",
        "    print(f\" - 생존 확률 (365일): {value['생존 확률 (365일)']:.2f}\")\n",
        "    print(f\" - 생존 확률 (730일): {value['생존 확률 (730일)']:.2f}\")\n",
        "    print(f\" - 생존 확률 (1000일): {value['생존 확률 (1000일)']:.2f}\")\n",
        "    print(f\" - 생존 확률 (1500일): {value['생존 확률 (1500일)']:.2f}\")\n"
      ]
    },
    {
      "cell_type": "markdown",
      "source": [
        "- 개인카페"
      ],
      "metadata": {
        "id": "kDfmYDWC50mz"
      }
    },
    {
      "cell_type": "code",
      "source": [
        "# 새로운 데이터 준비 - 개인카페\n",
        "new_data_high = pd.DataFrame({\n",
        "    '총면적': [57.85],\n",
        "    '고가프차 개수_500m': [6],\n",
        "    '저가프차 개수_500m': [2],\n",
        "    '중가프차 개수_500m': [3],\n",
        "    '카페 개수_500m': [113],\n",
        "    '음식점 개수_500m': [895],\n",
        "    'bank_500m 개수': [7],\n",
        "    'middle_500m 개수': [1],\n",
        "    'high_800m 개수': [0],\n",
        "    'univ_1000m 개수': [1],\n",
        "    'hospital_re_500m 개수': [0],\n",
        "    'subway_250m 존재여부': [0],\n",
        "    'hospital_big_1000m 개수': [1],\n",
        "    '생활인구 점수': [1.732320888],\n",
        "    '월 임대료 평균 점수': [1.522459082],\n",
        "    '복층여부_1': [0],\n",
        "    '카페유형_고가 프랜차이즈': [0],\n",
        "    '카페유형_저가 프랜차이즈': [0],\n",
        "    '카페유형_중가 프랜차이즈': [0],\n",
        "    '계절_겨울': [1]\n",
        "})\n",
        "\n",
        "# 새로운 데이터에 대해 훈련된 인코더를 사용하여 인코딩 수행\n",
        "# 하지만 새로운 데이터를 위한 인코딩 전에 훈련 데이터와 동일한 열을 갖도록 보장\n",
        "new_data_high = new_data_high.reindex(columns=X.columns, fill_value=0)\n",
        "\n",
        "# 새로운 데이터에 대해 훈련된 인코더를 사용하여 인코딩 수행\n",
        "new_data_high_encoded = encoder.transform(new_data_high)\n",
        "\n",
        "# 새로운 데이터에 대해 생존 함수 예측 수행\n",
        "pred_survival_function = rsf_model.predict_survival_function(new_data_high_encoded)\n",
        "\n",
        "# 예측된 폐업 여부 및 총 영업일 출력\n",
        "# 특정 시점에서 생존 확률을 추정 (예: 1년, 2년, 1000일, 1500일 시점)\n",
        "for fn in pred_survival_function:\n",
        "    survival_prob_365 = fn(365)\n",
        "    survival_prob_730 = fn(730)\n",
        "    survival_prob_1000 = fn(1000)\n",
        "    survival_prob_1500 = fn(1500)\n",
        "    predicted_result = {\n",
        "        \"non Franchise\": {\n",
        "            \"폐업 여부 (730일)\": \"폐업\" if survival_prob_730 < 0.5 else \"생존\",\n",
        "            # \"총 영업일 예측 (730일)\": survival_prob_730 * 730,\n",
        "            \"생존 확률 (365일)\": survival_prob_365,\n",
        "            \"생존 확률 (730일)\": survival_prob_730,\n",
        "            \"생존 확률 (1000일)\": survival_prob_1000,\n",
        "            \"생존 확률 (1500일)\": survival_prob_1500\n",
        "        }\n",
        "    }\n",
        "\n",
        "# 예측 결과 출력\n",
        "for key, value in predicted_result.items():\n",
        "    print(f\"Prediction for {key}:\")\n",
        "    print(f\" - 폐업 여부 (730일): {value['폐업 여부 (730일)']}\")\n",
        "    # print(f\" - 총 영업일 예측 (730일): {value['총 영업일 예측 (730일)']:.2f}일\")\n",
        "    print(f\" - 생존 확률 (365일): {value['생존 확률 (365일)']:.2f}\")\n",
        "    print(f\" - 생존 확률 (730일): {value['생존 확률 (730일)']:.2f}\")\n",
        "    print(f\" - 생존 확률 (1000일): {value['생존 확률 (1000일)']:.2f}\")\n",
        "    print(f\" - 생존 확률 (1500일): {value['생존 확률 (1500일)']:.2f}\")\n"
      ],
      "metadata": {
        "colab": {
          "base_uri": "https://localhost:8080/"
        },
        "id": "C-1_17vq5VzS",
        "outputId": "0744796f-b66c-4118-e834-775bc5886972"
      },
      "execution_count": 15,
      "outputs": [
        {
          "output_type": "stream",
          "name": "stdout",
          "text": [
            "Prediction for non Franchise:\n",
            " - 폐업 여부 (730일): 폐업\n",
            " - 생존 확률 (365일): 0.33\n",
            " - 생존 확률 (730일): 0.29\n",
            " - 생존 확률 (1000일): 0.27\n",
            " - 생존 확률 (1500일): 0.26\n"
          ]
        }
      ]
    },
    {
      "cell_type": "markdown",
      "source": [
        "### 추가 모델 고려\n",
        "- MultiOutputRegressor"
      ],
      "metadata": {
        "id": "Yx0Ms40aT7eE"
      }
    },
    {
      "cell_type": "code",
      "execution_count": null,
      "metadata": {
        "colab": {
          "base_uri": "https://localhost:8080/"
        },
        "id": "vWZDjkMBBd3F",
        "outputId": "fbf504b1-0a12-4b62-84c0-522021f1be14"
      },
      "outputs": [
        {
          "name": "stdout",
          "output_type": "stream",
          "text": [
            "Accuracy for 폐업여부: 0.7233507853403142\n",
            "MSE for 총 영업일: 1142604.887764745\n",
            "MAPE for 총 영업일: 4.6427629760028415\n"
          ]
        }
      ],
      "source": [
        "from sklearn.model_selection import train_test_split\n",
        "from sklearn.ensemble import RandomForestClassifier, RandomForestRegressor\n",
        "from sklearn.multioutput import MultiOutputRegressor\n",
        "import numpy as np\n",
        "import pandas as pd\n",
        "import matplotlib.pyplot as plt\n",
        "\n",
        "# 데이터 불러오기 및 준비\n",
        "X = data.drop(['폐업여부', '총 영업일'], axis=1)\n",
        "y = data[['폐업여부', '총 영업일']]\n",
        "\n",
        "# 데이터를 훈련 세트와 테스트 세트로 분할\n",
        "X_train, X_test, y_train, y_test = train_test_split(X, y, test_size=0.3, random_state=42)\n",
        "\n",
        "# 다중 출력 모델 생성 및 학습\n",
        "model = MultiOutputRegressor(RandomForestRegressor(random_state=42))\n",
        "model.fit(X_train, y_train)\n",
        "\n",
        "# 예측\n",
        "y_pred = model.predict(X_test)\n",
        "\n",
        "# 성능 평가\n",
        "# 각 종속 변수에 대한 평가 필요, 예를 들어 폐업 여부의 정확도, 총 영업일의 MSE 계산 등\n",
        "from sklearn.metrics import mean_squared_error, accuracy_score, mean_absolute_percentage_error, confusion_matrix\n",
        "\n",
        "# 폐업여부는 정수로 변환 후 평가\n",
        "accuracy = accuracy_score(y_test['폐업여부'], np.round(y_pred[:, 0]))\n",
        "mse = mean_squared_error(y_test['총 영업일'], y_pred[:, 1])\n",
        "mape = mean_absolute_percentage_error(y_test['총 영업일'], y_pred[:, 1])\n",
        "print(\"Accuracy for 폐업여부:\", accuracy)\n",
        "print(\"MSE for 총 영업일:\", mse)\n",
        "print(\"MAPE for 총 영업일:\", mape)"
      ]
    },
    {
      "cell_type": "code",
      "execution_count": null,
      "metadata": {
        "colab": {
          "base_uri": "https://localhost:8080/",
          "height": 867
        },
        "id": "2bPo7echPzlL",
        "outputId": "fe934947-d1ca-4cc1-959d-6483410498ad"
      },
      "outputs": [
        {
          "name": "stdout",
          "output_type": "stream",
          "text": [
            "                  Feature  Importance\n",
            "5             음식점 개수_500m    0.185891\n",
            "0                     총면적    0.162051\n",
            "4              카페 개수_500m    0.128546\n",
            "2            저가프차 개수_500m    0.084181\n",
            "14            월 임대료 평균 점수    0.075622\n",
            "13                생활인구 점수    0.071490\n",
            "6            bank_500m 개수    0.056441\n",
            "3            중가프차 개수_500m    0.040514\n",
            "10    hospital_re_500m 개수    0.033928\n",
            "1            고가프차 개수_500m    0.032825\n",
            "8            high_800m 개수    0.029966\n",
            "7          middle_500m 개수    0.019158\n",
            "12  hospital_big_1000m 개수    0.015790\n",
            "9           univ_1000m 개수    0.015148\n",
            "19                  계절_겨울    0.014520\n",
            "11       subway_250m 존재여부    0.011687\n",
            "17          카페유형_저가 프랜차이즈    0.008077\n",
            "18          카페유형_중가 프랜차이즈    0.007028\n",
            "16          카페유형_고가 프랜차이즈    0.004374\n",
            "15                 복층여부_1    0.002764\n"
          ]
        },
        {
          "data": {
            "image/png": "[encoded data removed]",
            "text/plain": [
              "<Figure size 1000x600 with 1 Axes>"
            ]
          },
          "metadata": {},
          "output_type": "display_data"
        }
      ],
      "source": [
        "# 변수 중요도 확인 및 시각화\n",
        "feature_importances = model.estimators_[0].feature_importances_\n",
        "features = X.columns\n",
        "\n",
        "# 변수 중요도 데이터프레임 생성\n",
        "importance_df = pd.DataFrame({'Feature': features, 'Importance': feature_importances})\n",
        "importance_df = importance_df.sort_values(by='Importance', ascending=False)\n",
        "\n",
        "# 변수 중요도 출력\n",
        "print(importance_df)\n",
        "\n",
        "# 변수 중요도 시각화\n",
        "plt.figure(figsize=(10, 6))\n",
        "plt.barh(importance_df['Feature'], importance_df['Importance'], color='skyblue')\n",
        "plt.xlabel('Importance')\n",
        "plt.ylabel('Feature')\n",
        "plt.title('Feature Importance')\n",
        "plt.gca().invert_yaxis()\n",
        "plt.show()\n"
      ]
    },
    {
      "cell_type": "code",
      "execution_count": null,
      "metadata": {
        "colab": {
          "base_uri": "https://localhost:8080/",
          "height": 563
        },
        "id": "lorKff_BFFOG",
        "outputId": "4bac76be-d5e4-489d-f177-17715b397fe3"
      },
      "outputs": [
        {
          "data": {
            "image/png": "[encoded data removed]",
            "text/plain": [
              "<Figure size 800x600 with 1 Axes>"
            ]
          },
          "metadata": {},
          "output_type": "display_data"
        }
      ],
      "source": [
        "# 혼동행렬 계산 및 시각화\n",
        "conf_matrix = confusion_matrix(y_test['폐업여부'], np.round(y_pred[:, 0]))\n",
        "plt.figure(figsize=(8, 6))\n",
        "sns.heatmap(conf_matrix, annot=True, fmt='d', cmap='Blues', cbar=False)\n",
        "plt.xlabel('Predicted Label')\n",
        "plt.ylabel('True Label')\n",
        "plt.title('Confusion Matrix for 폐업여부')\n",
        "plt.show()\n"
      ]
    },
    {
      "cell_type": "code",
      "execution_count": null,
      "metadata": {
        "id": "9dQD_w-fC85L"
      },
      "outputs": [],
      "source": [
        "# # 정확도 및 MSE 시각화\n",
        "# fig, ax = plt.subplots(1, 2, figsize=(14, 5))\n",
        "# accuracy = 0.7233507853403142\n",
        "# mse = 1142604.887764745\n",
        "\n",
        "# # 정확도 바 차트\n",
        "# ax[0].bar('Accuracy', accuracy, color='blue')\n",
        "# ax[0].set_title('Accuracy for 폐업여부')\n",
        "# ax[0].set_ylim(0, 1)  # Accuracy limit\n",
        "# ax[0].text('Accuracy', accuracy, f'{accuracy:.2f}', ha='center', va='bottom')\n",
        "\n",
        "# # MSE 바 차트\n",
        "# ax[1].bar('MSE', mse, color='red')\n",
        "# ax[1].set_title('MSE for 총 영업일')\n",
        "# ax[1].text('MSE', mse, f'{mse:.2f}', ha='center', va='bottom')\n",
        "\n",
        "# plt.tight_layout()\n",
        "# plt.show()\n",
        "\n"
      ]
    },
    {
      "cell_type": "code",
      "execution_count": null,
      "metadata": {
        "colab": {
          "base_uri": "https://localhost:8080/"
        },
        "id": "W7rv8hCPPmck",
        "outputId": "4dd18976-20c7-436e-a90c-f48fae4f0fe8"
      },
      "outputs": [
        {
          "name": "stdout",
          "output_type": "stream",
          "text": [
            "Prediction for High-priced Franchise:\n",
            " - 폐업 여부: 생존\n",
            " - 총 영업일 예측: 765.08일\n"
          ]
        }
      ],
      "source": [
        "# 새로운 데이터에 대해 모델을 사용하여 예측 수행 - 고가 프렌차이즈 여부\n",
        "  new_data_high = pd.DataFrame({\n",
        "      '총면적': [57.85] ,\n",
        "      '고가프차 개수_500m' : [6],\n",
        "      '저가프차 개수_500m' : [2],\n",
        "      '중가프차 개수_500m' : [3],\n",
        "      '카페 개수_500m' : [113],\n",
        "      '음식점 개수_500m' : [895],\n",
        "      'bank_500m 개수' : [7],\n",
        "      'middle_500m 개수' : [1],\n",
        "      'high_800m 개수' : [0],\n",
        "      'univ_1000m 개수' : [1],\n",
        "      'hospital_re_500m 개수' : [0],\n",
        "      'subway_250m 존재여부' : [0],\n",
        "      'hospital_big_1000m 개수' : [1],\n",
        "      '생활인구 점수' : [1.732320888],\n",
        "      '월 임대료 평균 점수' : [1.522459082],\n",
        "      '복층여부_1' : [0],\n",
        "      '카페유형_고가 프랜차이즈' : [1],\n",
        "      '카페유형_저가 프랜차이즈' : [0],\n",
        "      '카페유형_중가 프랜차이즈' : [0],\n",
        "      '계절_겨울' : [1]\n",
        "  })\n",
        "\n",
        "# 예측 수행\n",
        "pred_high = model.predict(new_data_high)\n",
        "\n",
        "# 예측된 폐업 여부 (0: 생존, 1: 폐업)와 총 영업일 출력\n",
        "predicted_result = {\n",
        "    \"High-priced Franchise\": {\n",
        "        \"폐업 여부\": \"폐업\" if round(pred_high[0][0]) == 1 else \"생존\",\n",
        "        \"총 영업일 예측\": pred_high[0][1]\n",
        "    }\n",
        "}\n",
        "\n",
        "# 예측 결과 출력\n",
        "for key, value in predicted_result.items():\n",
        "    print(f\"Prediction for {key}:\")\n",
        "    print(f\" - 폐업 여부: {value['폐업 여부']}\")\n",
        "    print(f\" - 총 영업일 예측: {value['총 영업일 예측']:.2f}일\")\n"
      ]
    },
    {
      "cell_type": "code",
      "execution_count": null,
      "metadata": {
        "id": "2DtyHqcWS-df"
      },
      "outputs": [],
      "source": [
        "# # 개별 트리의 예측값 수집\n",
        "# individual_predictions = [tree.predict(new_data_high)[0] for tree in model.estimators_[0].estimators_]\n",
        "\n",
        "# # 예측 평균 및 표준편차 계산\n",
        "# mean_prediction = np.mean(individual_predictions)\n",
        "# std_prediction = np.std(individual_predictions)\n",
        "\n",
        "# print(f\"개별 트리 예측의 평균: {mean_prediction:.2f}일\")\n",
        "# print(f\"개별 트리 예측의 표준편차: {std_prediction:.2f}일\")\n",
        "\n",
        "# # 765일 동안 운영될 확률 추정\n",
        "# # 정규 분포를 가정하고 예측값이 평균에서 얼마나 떨어져 있는지 평가\n",
        "# from scipy.stats import norm\n",
        "\n",
        "# probability = norm.cdf(765, loc=mean_prediction, scale=std_prediction)\n",
        "# print(f\"765일 동안 운영될 확률: {probability * 100:.2f}%\")\n"
      ]
    },
    {
      "cell_type": "markdown",
      "metadata": {
        "id": "MuKuzgOGYxqp"
      },
      "source": [
        "- 파라미터 조절 필수, 리소스 과부하옴"
      ]
    },
    {
      "cell_type": "code",
      "execution_count": null,
      "metadata": {
        "id": "Bm8WmhQiVkra"
      },
      "outputs": [],
      "source": [
        "# from sksurv.ensemble import RandomSurvivalForest\n",
        "# from sksurv.preprocessing import OneHotEncoder\n",
        "\n",
        "# # 생존 분석용 데이터 준비 (타겟 변수를 생존 분석 형태로 변환)\n",
        "# y_survival = np.array([(bool(v), d) for v, d in zip(data['폐업여부'], data['총 영업일'])],\n",
        "#                       dtype=[('event', '?'), ('time', '<f8')])\n",
        "\n",
        "# # 특성 데이터 설정 및 원-핫 인코딩 적용\n",
        "# X_encoded = OneHotEncoder().fit_transform(X)\n",
        "\n",
        "# # 데이터를 훈련 세트와 테스트 세트로 분할\n",
        "# X_train, X_test, y_train, y_test = train_test_split(X_encoded, y_survival, test_size=0.3, random_state=42)\n",
        "\n",
        "# # 랜덤 서바이벌 포레스트 생성 및 학습\n",
        "# rsf_model = RandomSurvivalForest(n_estimators=100, random_state=42)\n",
        "# rsf_model.fit(X_train, y_train)\n",
        "\n",
        "# # 새로운 데이터에 대해 생존 확률 예측\n",
        "# pred_survival_prob = rsf_model.predict_survival_function(new_data_high, return_array=True)\n",
        "\n",
        "# # 765일 동안 생존할 확률 확인 (765일 지점에서 생존 확률)\n",
        "# survival_prob_765_days = pred_survival_prob[0][np.where(rsf_model.event_times_ == 765)[0][0]]\n",
        "# print(f\"765일 동안 생존할 확률: {survival_prob_765_days:.2f}\")\n"
      ]
    },
    {
      "cell_type": "code",
      "execution_count": null,
      "metadata": {
        "colab": {
          "base_uri": "https://localhost:8080/",
          "height": 97
        },
        "id": "1XJ5NFQzYv9t",
        "outputId": "0b03ec4d-5775-4abf-f4ec-3c4370614190"
      },
      "outputs": [
        {
          "data": {
            "text/html": [
              "<style>#sk-container-id-4 {\n",
              "  /* Definition of color scheme common for light and dark mode */\n",
              "  --sklearn-color-text: black;\n",
              "  --sklearn-color-line: gray;\n",
              "  /* Definition of color scheme for unfitted estimators */\n",
              "  --sklearn-color-unfitted-level-0: #fff5e6;\n",
              "  --sklearn-color-unfitted-level-1: #f6e4d2;\n",
              "  --sklearn-color-unfitted-level-2: #ffe0b3;\n",
              "  --sklearn-color-unfitted-level-3: chocolate;\n",
              "  /* Definition of color scheme for fitted estimators */\n",
              "  --sklearn-color-fitted-level-0: #f0f8ff;\n",
              "  --sklearn-color-fitted-level-1: #d4ebff;\n",
              "  --sklearn-color-fitted-level-2: #b3dbfd;\n",
              "  --sklearn-color-fitted-level-3: cornflowerblue;\n",
              "\n",
              "  /* Specific color for light theme */\n",
              "  --sklearn-color-text-on-default-background: var(--sg-text-color, var(--theme-code-foreground, var(--jp-content-font-color1, black)));\n",
              "  --sklearn-color-background: var(--sg-background-color, var(--theme-background, var(--jp-layout-color0, white)));\n",
              "  --sklearn-color-border-box: var(--sg-text-color, var(--theme-code-foreground, var(--jp-content-font-color1, black)));\n",
              "  --sklearn-color-icon: #696969;\n",
              "\n",
              "  @media (prefers-color-scheme: dark) {\n",
              "    /* Redefinition of color scheme for dark theme */\n",
              "    --sklearn-color-text-on-default-background: var(--sg-text-color, var(--theme-code-foreground, var(--jp-content-font-color1, white)));\n",
              "    --sklearn-color-background: var(--sg-background-color, var(--theme-background, var(--jp-layout-color0, #111)));\n",
              "    --sklearn-color-border-box: var(--sg-text-color, var(--theme-code-foreground, var(--jp-content-font-color1, white)));\n",
              "    --sklearn-color-icon: #878787;\n",
              "  }\n",
              "}\n",
              "\n",
              "#sk-container-id-4 {\n",
              "  color: var(--sklearn-color-text);\n",
              "}\n",
              "\n",
              "#sk-container-id-4 pre {\n",
              "  padding: 0;\n",
              "}\n",
              "\n",
              "#sk-container-id-4 input.sk-hidden--visually {\n",
              "  border: 0;\n",
              "  clip: rect(1px 1px 1px 1px);\n",
              "  clip: rect(1px, 1px, 1px, 1px);\n",
              "  height: 1px;\n",
              "  margin: -1px;\n",
              "  overflow: hidden;\n",
              "  padding: 0;\n",
              "  position: absolute;\n",
              "  width: 1px;\n",
              "}\n",
              "\n",
              "#sk-container-id-4 div.sk-dashed-wrapped {\n",
              "  border: 1px dashed var(--sklearn-color-line);\n",
              "  margin: 0 0.4em 0.5em 0.4em;\n",
              "  box-sizing: border-box;\n",
              "  padding-bottom: 0.4em;\n",
              "  background-color: var(--sklearn-color-background);\n",
              "}\n",
              "\n",
              "#sk-container-id-4 div.sk-container {\n",
              "  /* jupyter's `normalize.less` sets `[hidden] { display: none; }`\n",
              "     but bootstrap.min.css set `[hidden] { display: none !important; }`\n",
              "     so we also need the `!important` here to be able to override the\n",
              "     default hidden behavior on the sphinx rendered scikit-learn.org.\n",
              "     See: https://github.com/scikit-learn/scikit-learn/issues/21755 */\n",
              "  display: inline-block !important;\n",
              "  position: relative;\n",
              "}\n",
              "\n",
              "#sk-container-id-4 div.sk-text-repr-fallback {\n",
              "  display: none;\n",
              "}\n",
              "\n",
              "div.sk-parallel-item,\n",
              "div.sk-serial,\n",
              "div.sk-item {\n",
              "  /* draw centered vertical line to link estimators */\n",
              "  background-image: linear-gradient(var(--sklearn-color-text-on-default-background), var(--sklearn-color-text-on-default-background));\n",
              "  background-size: 2px 100%;\n",
              "  background-repeat: no-repeat;\n",
              "  background-position: center center;\n",
              "}\n",
              "\n",
              "/* Parallel-specific style estimator block */\n",
              "\n",
              "#sk-container-id-4 div.sk-parallel-item::after {\n",
              "  content: \"\";\n",
              "  width: 100%;\n",
              "  border-bottom: 2px solid var(--sklearn-color-text-on-default-background);\n",
              "  flex-grow: 1;\n",
              "}\n",
              "\n",
              "#sk-container-id-4 div.sk-parallel {\n",
              "  display: flex;\n",
              "  align-items: stretch;\n",
              "  justify-content: center;\n",
              "  background-color: var(--sklearn-color-background);\n",
              "  position: relative;\n",
              "}\n",
              "\n",
              "#sk-container-id-4 div.sk-parallel-item {\n",
              "  display: flex;\n",
              "  flex-direction: column;\n",
              "}\n",
              "\n",
              "#sk-container-id-4 div.sk-parallel-item:first-child::after {\n",
              "  align-self: flex-end;\n",
              "  width: 50%;\n",
              "}\n",
              "\n",
              "#sk-container-id-4 div.sk-parallel-item:last-child::after {\n",
              "  align-self: flex-start;\n",
              "  width: 50%;\n",
              "}\n",
              "\n",
              "#sk-container-id-4 div.sk-parallel-item:only-child::after {\n",
              "  width: 0;\n",
              "}\n",
              "\n",
              "/* Serial-specific style estimator block */\n",
              "\n",
              "#sk-container-id-4 div.sk-serial {\n",
              "  display: flex;\n",
              "  flex-direction: column;\n",
              "  align-items: center;\n",
              "  background-color: var(--sklearn-color-background);\n",
              "  padding-right: 1em;\n",
              "  padding-left: 1em;\n",
              "}\n",
              "\n",
              "\n",
              "/* Toggleable style: style used for estimator/Pipeline/ColumnTransformer box that is\n",
              "clickable and can be expanded/collapsed.\n",
              "- Pipeline and ColumnTransformer use this feature and define the default style\n",
              "- Estimators will overwrite some part of the style using the `sk-estimator` class\n",
              "*/\n",
              "\n",
              "/* Pipeline and ColumnTransformer style (default) */\n",
              "\n",
              "#sk-container-id-4 div.sk-toggleable {\n",
              "  /* Default theme specific background. It is overwritten whether we have a\n",
              "  specific estimator or a Pipeline/ColumnTransformer */\n",
              "  background-color: var(--sklearn-color-background);\n",
              "}\n",
              "\n",
              "/* Toggleable label */\n",
              "#sk-container-id-4 label.sk-toggleable__label {\n",
              "  cursor: pointer;\n",
              "  display: block;\n",
              "  width: 100%;\n",
              "  margin-bottom: 0;\n",
              "  padding: 0.5em;\n",
              "  box-sizing: border-box;\n",
              "  text-align: center;\n",
              "}\n",
              "\n",
              "#sk-container-id-4 label.sk-toggleable__label-arrow:before {\n",
              "  /* Arrow on the left of the label */\n",
              "  content: \"▸\";\n",
              "  float: left;\n",
              "  margin-right: 0.25em;\n",
              "  color: var(--sklearn-color-icon);\n",
              "}\n",
              "\n",
              "#sk-container-id-4 label.sk-toggleable__label-arrow:hover:before {\n",
              "  color: var(--sklearn-color-text);\n",
              "}\n",
              "\n",
              "/* Toggleable content - dropdown */\n",
              "\n",
              "#sk-container-id-4 div.sk-toggleable__content {\n",
              "  max-height: 0;\n",
              "  max-width: 0;\n",
              "  overflow: hidden;\n",
              "  text-align: left;\n",
              "  /* unfitted */\n",
              "  background-color: var(--sklearn-color-unfitted-level-0);\n",
              "}\n",
              "\n",
              "#sk-container-id-4 div.sk-toggleable__content.fitted {\n",
              "  /* fitted */\n",
              "  background-color: var(--sklearn-color-fitted-level-0);\n",
              "}\n",
              "\n",
              "#sk-container-id-4 div.sk-toggleable__content pre {\n",
              "  margin: 0.2em;\n",
              "  border-radius: 0.25em;\n",
              "  color: var(--sklearn-color-text);\n",
              "  /* unfitted */\n",
              "  background-color: var(--sklearn-color-unfitted-level-0);\n",
              "}\n",
              "\n",
              "#sk-container-id-4 div.sk-toggleable__content.fitted pre {\n",
              "  /* unfitted */\n",
              "  background-color: var(--sklearn-color-fitted-level-0);\n",
              "}\n",
              "\n",
              "#sk-container-id-4 input.sk-toggleable__control:checked~div.sk-toggleable__content {\n",
              "  /* Expand drop-down */\n",
              "  max-height: 200px;\n",
              "  max-width: 100%;\n",
              "  overflow: auto;\n",
              "}\n",
              "\n",
              "#sk-container-id-4 input.sk-toggleable__control:checked~label.sk-toggleable__label-arrow:before {\n",
              "  content: \"▾\";\n",
              "}\n",
              "\n",
              "/* Pipeline/ColumnTransformer-specific style */\n",
              "\n",
              "#sk-container-id-4 div.sk-label input.sk-toggleable__control:checked~label.sk-toggleable__label {\n",
              "  color: var(--sklearn-color-text);\n",
              "  background-color: var(--sklearn-color-unfitted-level-2);\n",
              "}\n",
              "\n",
              "#sk-container-id-4 div.sk-label.fitted input.sk-toggleable__control:checked~label.sk-toggleable__label {\n",
              "  background-color: var(--sklearn-color-fitted-level-2);\n",
              "}\n",
              "\n",
              "/* Estimator-specific style */\n",
              "\n",
              "/* Colorize estimator box */\n",
              "#sk-container-id-4 div.sk-estimator input.sk-toggleable__control:checked~label.sk-toggleable__label {\n",
              "  /* unfitted */\n",
              "  background-color: var(--sklearn-color-unfitted-level-2);\n",
              "}\n",
              "\n",
              "#sk-container-id-4 div.sk-estimator.fitted input.sk-toggleable__control:checked~label.sk-toggleable__label {\n",
              "  /* fitted */\n",
              "  background-color: var(--sklearn-color-fitted-level-2);\n",
              "}\n",
              "\n",
              "#sk-container-id-4 div.sk-label label.sk-toggleable__label,\n",
              "#sk-container-id-4 div.sk-label label {\n",
              "  /* The background is the default theme color */\n",
              "  color: var(--sklearn-color-text-on-default-background);\n",
              "}\n",
              "\n",
              "/* On hover, darken the color of the background */\n",
              "#sk-container-id-4 div.sk-label:hover label.sk-toggleable__label {\n",
              "  color: var(--sklearn-color-text);\n",
              "  background-color: var(--sklearn-color-unfitted-level-2);\n",
              "}\n",
              "\n",
              "/* Label box, darken color on hover, fitted */\n",
              "#sk-container-id-4 div.sk-label.fitted:hover label.sk-toggleable__label.fitted {\n",
              "  color: var(--sklearn-color-text);\n",
              "  background-color: var(--sklearn-color-fitted-level-2);\n",
              "}\n",
              "\n",
              "/* Estimator label */\n",
              "\n",
              "#sk-container-id-4 div.sk-label label {\n",
              "  font-family: monospace;\n",
              "  font-weight: bold;\n",
              "  display: inline-block;\n",
              "  line-height: 1.2em;\n",
              "}\n",
              "\n",
              "#sk-container-id-4 div.sk-label-container {\n",
              "  text-align: center;\n",
              "}\n",
              "\n",
              "/* Estimator-specific */\n",
              "#sk-container-id-4 div.sk-estimator {\n",
              "  font-family: monospace;\n",
              "  border: 1px dotted var(--sklearn-color-border-box);\n",
              "  border-radius: 0.25em;\n",
              "  box-sizing: border-box;\n",
              "  margin-bottom: 0.5em;\n",
              "  /* unfitted */\n",
              "  background-color: var(--sklearn-color-unfitted-level-0);\n",
              "}\n",
              "\n",
              "#sk-container-id-4 div.sk-estimator.fitted {\n",
              "  /* fitted */\n",
              "  background-color: var(--sklearn-color-fitted-level-0);\n",
              "}\n",
              "\n",
              "/* on hover */\n",
              "#sk-container-id-4 div.sk-estimator:hover {\n",
              "  /* unfitted */\n",
              "  background-color: var(--sklearn-color-unfitted-level-2);\n",
              "}\n",
              "\n",
              "#sk-container-id-4 div.sk-estimator.fitted:hover {\n",
              "  /* fitted */\n",
              "  background-color: var(--sklearn-color-fitted-level-2);\n",
              "}\n",
              "\n",
              "/* Specification for estimator info (e.g. \"i\" and \"?\") */\n",
              "\n",
              "/* Common style for \"i\" and \"?\" */\n",
              "\n",
              ".sk-estimator-doc-link,\n",
              "a:link.sk-estimator-doc-link,\n",
              "a:visited.sk-estimator-doc-link {\n",
              "  float: right;\n",
              "  font-size: smaller;\n",
              "  line-height: 1em;\n",
              "  font-family: monospace;\n",
              "  background-color: var(--sklearn-color-background);\n",
              "  border-radius: 1em;\n",
              "  height: 1em;\n",
              "  width: 1em;\n",
              "  text-decoration: none !important;\n",
              "  margin-left: 1ex;\n",
              "  /* unfitted */\n",
              "  border: var(--sklearn-color-unfitted-level-1) 1pt solid;\n",
              "  color: var(--sklearn-color-unfitted-level-1);\n",
              "}\n",
              "\n",
              ".sk-estimator-doc-link.fitted,\n",
              "a:link.sk-estimator-doc-link.fitted,\n",
              "a:visited.sk-estimator-doc-link.fitted {\n",
              "  /* fitted */\n",
              "  border: var(--sklearn-color-fitted-level-1) 1pt solid;\n",
              "  color: var(--sklearn-color-fitted-level-1);\n",
              "}\n",
              "\n",
              "/* On hover */\n",
              "div.sk-estimator:hover .sk-estimator-doc-link:hover,\n",
              ".sk-estimator-doc-link:hover,\n",
              "div.sk-label-container:hover .sk-estimator-doc-link:hover,\n",
              ".sk-estimator-doc-link:hover {\n",
              "  /* unfitted */\n",
              "  background-color: var(--sklearn-color-unfitted-level-3);\n",
              "  color: var(--sklearn-color-background);\n",
              "  text-decoration: none;\n",
              "}\n",
              "\n",
              "div.sk-estimator.fitted:hover .sk-estimator-doc-link.fitted:hover,\n",
              ".sk-estimator-doc-link.fitted:hover,\n",
              "div.sk-label-container:hover .sk-estimator-doc-link.fitted:hover,\n",
              ".sk-estimator-doc-link.fitted:hover {\n",
              "  /* fitted */\n",
              "  background-color: var(--sklearn-color-fitted-level-3);\n",
              "  color: var(--sklearn-color-background);\n",
              "  text-decoration: none;\n",
              "}\n",
              "\n",
              "/* Span, style for the box shown on hovering the info icon */\n",
              ".sk-estimator-doc-link span {\n",
              "  display: none;\n",
              "  z-index: 9999;\n",
              "  position: relative;\n",
              "  font-weight: normal;\n",
              "  right: .2ex;\n",
              "  padding: .5ex;\n",
              "  margin: .5ex;\n",
              "  width: min-content;\n",
              "  min-width: 20ex;\n",
              "  max-width: 50ex;\n",
              "  color: var(--sklearn-color-text);\n",
              "  box-shadow: 2pt 2pt 4pt #999;\n",
              "  /* unfitted */\n",
              "  background: var(--sklearn-color-unfitted-level-0);\n",
              "  border: .5pt solid var(--sklearn-color-unfitted-level-3);\n",
              "}\n",
              "\n",
              ".sk-estimator-doc-link.fitted span {\n",
              "  /* fitted */\n",
              "  background: var(--sklearn-color-fitted-level-0);\n",
              "  border: var(--sklearn-color-fitted-level-3);\n",
              "}\n",
              "\n",
              ".sk-estimator-doc-link:hover span {\n",
              "  display: block;\n",
              "}\n",
              "\n",
              "/* \"?\"-specific style due to the `<a>` HTML tag */\n",
              "\n",
              "#sk-container-id-4 a.estimator_doc_link {\n",
              "  float: right;\n",
              "  font-size: 1rem;\n",
              "  line-height: 1em;\n",
              "  font-family: monospace;\n",
              "  background-color: var(--sklearn-color-background);\n",
              "  border-radius: 1rem;\n",
              "  height: 1rem;\n",
              "  width: 1rem;\n",
              "  text-decoration: none;\n",
              "  /* unfitted */\n",
              "  color: var(--sklearn-color-unfitted-level-1);\n",
              "  border: var(--sklearn-color-unfitted-level-1) 1pt solid;\n",
              "}\n",
              "\n",
              "#sk-container-id-4 a.estimator_doc_link.fitted {\n",
              "  /* fitted */\n",
              "  border: var(--sklearn-color-fitted-level-1) 1pt solid;\n",
              "  color: var(--sklearn-color-fitted-level-1);\n",
              "}\n",
              "\n",
              "/* On hover */\n",
              "#sk-container-id-4 a.estimator_doc_link:hover {\n",
              "  /* unfitted */\n",
              "  background-color: var(--sklearn-color-unfitted-level-3);\n",
              "  color: var(--sklearn-color-background);\n",
              "  text-decoration: none;\n",
              "}\n",
              "\n",
              "#sk-container-id-4 a.estimator_doc_link.fitted:hover {\n",
              "  /* fitted */\n",
              "  background-color: var(--sklearn-color-fitted-level-3);\n",
              "}\n",
              "</style><div id=\"sk-container-id-4\" class=\"sk-top-container\"><div class=\"sk-text-repr-fallback\"><pre>RandomSurvivalForest(max_depth=5, min_samples_leaf=5, min_samples_split=10,\n",
              "                     n_estimators=50, random_state=42)</pre><b>In a Jupyter environment, please rerun this cell to show the HTML representation or trust the notebook. <br />On GitHub, the HTML representation is unable to render, please try loading this page with nbviewer.org.</b></div><div class=\"sk-container\" hidden><div class=\"sk-item\"><div class=\"sk-estimator fitted sk-toggleable\"><input class=\"sk-toggleable__control sk-hidden--visually\" id=\"sk-estimator-id-4\" type=\"checkbox\" checked><label for=\"sk-estimator-id-4\" class=\"sk-toggleable__label fitted sk-toggleable__label-arrow fitted\">&nbsp;RandomSurvivalForest<span class=\"sk-estimator-doc-link fitted\">i<span>Fitted</span></span></label><div class=\"sk-toggleable__content fitted\"><pre>RandomSurvivalForest(max_depth=5, min_samples_leaf=5, min_samples_split=10,\n",
              "                     n_estimators=50, random_state=42)</pre></div> </div></div></div></div>"
            ],
            "text/plain": [
              "RandomSurvivalForest(max_depth=5, min_samples_leaf=5, min_samples_split=10,\n",
              "                     n_estimators=50, random_state=42)"
            ]
          },
          "execution_count": 44,
          "metadata": {},
          "output_type": "execute_result"
        }
      ],
      "source": [
        "from sksurv.ensemble import RandomSurvivalForest\n",
        "from sksurv.preprocessing import OneHotEncoder\n",
        "import numpy as np\n",
        "import pandas as pd\n",
        "from sklearn.model_selection import train_test_split\n",
        "\n",
        "# 생존 분석용 데이터 준비 (타겟 변수를 생존 분석 형태로 변환)\n",
        "y_survival = np.array([(bool(v), d) for v, d in zip(data['폐업여부'], data['총 영업일'])],\n",
        "                      dtype=[('event', '?'), ('time', '<f8')])\n",
        "\n",
        "# 특성 데이터 설정 및 원-핫 인코딩 적용\n",
        "X_encoded = OneHotEncoder().fit_transform(X)\n",
        "\n",
        "# 데이터를 훈련 세트와 테스트 세트로 분할\n",
        "X_train, X_test, y_train, y_test = train_test_split(X_encoded, y_survival, test_size=0.3, random_state=42)\n",
        "\n",
        "# 랜덤 서바이벌 포레스트 생성 및 학습\n",
        "rsf_model = RandomSurvivalForest(n_estimators=50, max_depth=5, min_samples_split=10, min_samples_leaf=5, random_state=42)\n",
        "rsf_model.fit(X_train, y_train)"
      ]
    },
    {
      "cell_type": "code",
      "execution_count": null,
      "metadata": {
        "id": "rE6Litk5Zt-6"
      },
      "outputs": [],
      "source": [
        "# # 새로운 데이터 준비 (new_data_high와 동일한 특성 형식이어야 함)\n",
        "# new_data_high_encoded = OneHotEncoder().fit_transform(new_data_high)\n",
        "\n",
        "# # 새로운 데이터에 대해 생존 확률 예측\n",
        "# pred_survival_function = rsf_model.predict_survival_function(new_data_high_encoded)\n",
        "\n",
        "# # 765일 동안 생존할 확률 확인\n",
        "# # 생존 함수에서 765일에 해당하는 생존 확률을 추정\n",
        "# for fn in pred_survival_function:\n",
        "#     survival_prob_765_days = fn(765)\n",
        "#     print(f\"765일 동안 생존할 확률: {survival_prob_765_days:.2f}\")"
      ]
    },
    {
      "cell_type": "code",
      "execution_count": null,
      "metadata": {
        "colab": {
          "base_uri": "https://localhost:8080/"
        },
        "id": "OFWQ6sCsa-4T",
        "outputId": "28503791-d2b7-4d52-fa08-c8519d62cae1"
      },
      "outputs": [
        {
          "name": "stdout",
          "output_type": "stream",
          "text": [
            "716일 동안 생존할 확률: 0.91\n"
          ]
        }
      ],
      "source": [
        "# 새로운 데이터 준비 (new_data_high와 동일한 특성 형식이어야 함)\n",
        "new_data_low_encoded = OneHotEncoder().fit_transform(new_data_high)\n",
        "\n",
        "# 새로운 데이터에 대해 생존 확률 예측\n",
        "pred_survival_function = rsf_model.predict_survival_function(new_data_low_encoded)\n",
        "\n",
        "# 716일 동안 생존할 확률 확인\n",
        "# 생존 함수에서 716일에 해당하는 생존 확률을 추정\n",
        "for fn in pred_survival_function:\n",
        "    survival_prob_716_days = fn(716)\n",
        "    print(f\"716일 동안 생존할 확률: {survival_prob_716_days:.2f}\")"
      ]
    },
    {
      "cell_type": "code",
      "execution_count": null,
      "metadata": {
        "colab": {
          "base_uri": "https://localhost:8080/"
        },
        "id": "ArnRYjKvSM_0",
        "outputId": "d81c3e20-c808-4586-f470-7f1ac24a1ff6"
      },
      "outputs": [
        {
          "name": "stdout",
          "output_type": "stream",
          "text": [
            "Prediction for Mid-priced Franchise:\n",
            " - 폐업 여부: 생존\n",
            " - 총 영업일 예측: 700.48일\n"
          ]
        }
      ],
      "source": [
        "# 새로운 데이터에 대해 모델을 사용하여 예측 수행 - 중가 프렌차이즈 여부\n",
        "new_data_high = pd.DataFrame({\n",
        "    '총면적': [57.85] ,\n",
        "    '고가프차 개수_500m' : [6],\n",
        "    '저가프차 개수_500m' : [2],\n",
        "    '중가프차 개수_500m' : [3],\n",
        "    '카페 개수_500m' : [113],\n",
        "    '음식점 개수_500m' : [895],\n",
        "    'bank_500m 개수' : [7],\n",
        "    'middle_500m 개수' : [1],\n",
        "    'high_800m 개수' : [0],\n",
        "    'univ_1000m 개수' : [1],\n",
        "    'hospital_re_500m 개수' : [0],\n",
        "    'subway_250m 존재여부' : [0],\n",
        "    'hospital_big_1000m 개수' : [1],\n",
        "    '생활인구 점수' : [1.732320888],\n",
        "    '월 임대료 평균 점수' : [1.522459082],\n",
        "    '복층여부_1' : [0],\n",
        "    '카페유형_고가 프랜차이즈' : [0],\n",
        "    '카페유형_저가 프랜차이즈' : [0],\n",
        "    '카페유형_중가 프랜차이즈' : [1],\n",
        "    '계절_겨울' : [1]\n",
        "})\n",
        "\n",
        "# 예측 수행\n",
        "pred_high = model.predict(new_data_high)\n",
        "\n",
        "# 예측된 폐업 여부 (0: 생존, 1: 폐업)와 총 영업일 출력\n",
        "predicted_result = {\n",
        "    \"Mid-priced Franchise\": {\n",
        "        \"폐업 여부\": \"폐업\" if round(pred_high[0][0]) == 1 else \"생존\",\n",
        "        \"총 영업일 예측\": pred_high[0][1]\n",
        "    }\n",
        "}\n",
        "\n",
        "# 예측 결과 출력\n",
        "for key, value in predicted_result.items():\n",
        "    print(f\"Prediction for {key}:\")\n",
        "    print(f\" - 폐업 여부: {value['폐업 여부']}\")\n",
        "    print(f\" - 총 영업일 예측: {value['총 영업일 예측']:.2f}일\")\n"
      ]
    },
    {
      "cell_type": "code",
      "execution_count": null,
      "metadata": {
        "colab": {
          "base_uri": "https://localhost:8080/"
        },
        "id": "CsWAHN4dbTt7",
        "outputId": "1493a64f-6235-4fb3-e895-75194a430425"
      },
      "outputs": [
        {
          "name": "stdout",
          "output_type": "stream",
          "text": [
            "700일 동안 생존할 확률: 0.83\n"
          ]
        }
      ],
      "source": [
        "# 새로운 데이터 준비 (new_data_high와 동일한 특성 형식이어야 함)\n",
        "new_data_mid_encoded = OneHotEncoder().fit_transform(new_data_high)\n",
        "\n",
        "# 새로운 데이터에 대해 생존 확률 예측\n",
        "pred_survival_function = rsf_model.predict_survival_function(new_data_mid_encoded)\n",
        "\n",
        "# 700일 동안 생존할 확률 확인\n",
        "# 생존 함수에서 700일에 해당하는 생존 확률을 추정\n",
        "for fn in pred_survival_function:\n",
        "    survival_prob_700_days = fn(700)\n",
        "    print(f\"700일 동안 생존할 확률: {survival_prob_700_days:.2f}\")"
      ]
    },
    {
      "cell_type": "code",
      "execution_count": null,
      "metadata": {
        "colab": {
          "base_uri": "https://localhost:8080/"
        },
        "id": "lbvrQ2oggJQz",
        "outputId": "e5129ca1-3198-42a4-ffef-416e654e507c"
      },
      "outputs": [
        {
          "name": "stdout",
          "output_type": "stream",
          "text": [
            "1000일 동안 생존할 확률: 0.77\n"
          ]
        }
      ],
      "source": [
        "# 1000일동안 생존할 확률\n",
        "new_data_high_encoded = OneHotEncoder().fit_transform(new_data_high)\n",
        "\n",
        "# 새로운 데이터에 대해 생존 확률 예측\n",
        "pred_survival_function = rsf_model.predict_survival_function(new_data_high_encoded)\n",
        "\n",
        "# 1000일 동안 생존할 확률 확인\n",
        "# 생존 함수에서 1000일에 해당하는 생존 확률을 추정\n",
        "for fn in pred_survival_function:\n",
        "    survival_prob_1000_days = fn(1000)\n",
        "    print(f\"1000일 동안 생존할 확률: {survival_prob_1000_days:.2f}\")"
      ]
    },
    {
      "cell_type": "code",
      "execution_count": null,
      "metadata": {
        "id": "PGhSrlAciAGG"
      },
      "outputs": [],
      "source": [
        "# 새로운 데이터 준비 - 저가 프렌차이즈 여부 (위치 관련 정보 포함)\n",
        "new_data_low = pd.DataFrame({\n",
        "    '총면적': [57.85],\n",
        "    '고가프차 개수_500m': [6],\n",
        "    '저가프차 개수_500m': [2],\n",
        "    '중가프차 개수_500m': [3],\n",
        "    '카페 개수_500m': [113],\n",
        "    '음식점 개수_500m': [895],\n",
        "    'bank_500m 개수': [7],\n",
        "    'middle_500m 개수': [1],\n",
        "    'high_800m 개수': [0],\n",
        "    'univ_1000m 개수': [1],\n",
        "    'hospital_re_500m 개수': [0],\n",
        "    'subway_250m 존재여부': [0],\n",
        "    'hospital_big_1000m 개수': [1],\n",
        "    '생활인구 점수': [1.732320888],\n",
        "    '월 임대료 평균 점수': [1.522459082],\n",
        "    '복층여부_1': [0],\n",
        "    '카페유형_고가 프랜차이즈': [0],\n",
        "    '카페유형_저가 프랜차이즈': [1],\n",
        "    '카페유형_중가 프랜차이즈': [0],\n",
        "    '계절_겨울': [1]\n",
        "})\n",
        "\n",
        "# 새로운 데이터에 대해 원-핫 인코딩 수행\n",
        "new_data_low_encoded = OneHotEncoder().fit_transform(new_data_low)\n",
        "\n",
        "# 생존 함수 예측\n",
        "pred_survival_function_low = rsf_model.predict_survival_function(new_data_low_encoded)\n",
        "\n",
        "# 특정 시점 (예: 1000일)에서의 생존 확률 확인\n",
        "for fn in pred_survival_function_low:\n",
        "    survival_prob_1000_days = fn(1000)\n",
        "    predicted_result_low = {\n",
        "        \"Low-priced Franchise\": {\n",
        "            \"폐업 여부\": \"폐업\" if survival_prob_1000_days < 0.5 else \"생존\",\n",
        "            \"총 영업일 예측\": survival_prob_1000_days * 1000 , # 예측된 생존 확률과 기간을 활용한 예측값\n",
        "            \"생존 확률\": survival_prob_1000_days\n",
        "        }\n",
        "    }\n",
        "\n",
        "# 예측 결과 출력\n",
        "for key, value in predicted_result_low.items():\n",
        "    print(f\"Prediction for {key}:\")\n",
        "    print(f\" - 폐업 여부: {value['폐업 여부']}\")\n",
        "    print(f\" - 총 영업일 예측: {value['총 영업일 예측']:.2f}일\")\n",
        "    print(f\" - 생존 확률: {value['생존 확률']:.2f}\")\n"
      ]
    },
    {
      "cell_type": "markdown",
      "metadata": {
        "id": "Yx6_ja6AEIKs"
      },
      "source": [
        "- 하이퍼파라미터 튜닝"
      ]
    },
    {
      "cell_type": "code",
      "execution_count": null,
      "metadata": {
        "colab": {
          "base_uri": "https://localhost:8080/"
        },
        "id": "Vls0US-REKWo",
        "outputId": "08cea1f2-5820-4319-83ec-2c3a0bbe9461"
      },
      "outputs": [
        {
          "name": "stdout",
          "output_type": "stream",
          "text": [
            "Fitting 2 folds for each of 10 candidates, totalling 20 fits\n",
            "Best Parameters: {'n_estimators': 100, 'min_samples_split': 2, 'min_samples_leaf': 2, 'max_depth': 10, 'bootstrap': True}\n",
            "Best Score: 0.2128065084869485\n"
          ]
        }
      ],
      "source": [
        "from sklearn.model_selection import train_test_split, RandomizedSearchCV\n",
        "from sklearn.ensemble import RandomForestClassifier, RandomForestRegressor\n",
        "from sklearn.multioutput import MultiOutputRegressor\n",
        "\n",
        "# 타깃 변수 설정 (폐업여부와 총 영업일)\n",
        "y = data[['폐업여부', '총 영업일']]\n",
        "\n",
        "# 특성 데이터 설정\n",
        "X = data.drop(['폐업여부', '총 영업일'], axis=1)\n",
        "\n",
        "# 부울린 칼럼을 정수형으로 변환\n",
        "X = X.astype(int)\n",
        "\n",
        "# 데이터를 훈련 세트와 테스트 세트로 분할 (훈련 70%, 테스트 30%)\n",
        "X_train, X_test, y_train, y_test = train_test_split(X, y, test_size=0.3, random_state=42)\n",
        "\n",
        "param_dist = {\n",
        "    'n_estimators': [100, 200, 300],  # 트리 개수 범위 축소\n",
        "    'max_depth': [None, 10, 20],  # 최대 깊이 범위 축소\n",
        "    'min_samples_split': [2, 5],  # 분할 최소 샘플 개수 축소\n",
        "    'min_samples_leaf': [1, 2],  # 리프 최소 샘플 개수 축소\n",
        "    'bootstrap': [True, False]\n",
        "}\n",
        "\n",
        "rf_regressor = RandomForestRegressor(random_state=42)\n",
        "\n",
        "random_search = RandomizedSearchCV(\n",
        "    estimator=rf_regressor,\n",
        "    param_distributions=param_dist,\n",
        "    n_iter=10,  # 시도할 하이퍼파라미터 조합의 개수 감소\n",
        "    cv=2,  # 교차 검증 횟수 감소\n",
        "    verbose=2,\n",
        "    random_state=42,\n",
        "    n_jobs=-1  # 병렬 처리\n",
        ")\n",
        "\n",
        "# 하이퍼파라미터 튜닝 수행 (훈련 데이터에 대해 학습)\n",
        "random_search.fit(X_train, y_train['총 영업일'])\n",
        "\n",
        "# 최적의 파라미터와 점수 출력\n",
        "best_params = random_search.best_params_\n",
        "best_score = random_search.best_score_\n",
        "\n",
        "print(\"Best Parameters:\", best_params)\n",
        "print(\"Best Score:\", best_score)\n"
      ]
    },
    {
      "cell_type": "code",
      "execution_count": null,
      "metadata": {
        "colab": {
          "base_uri": "https://localhost:8080/"
        },
        "id": "3ZWeSEoZQyQ8",
        "outputId": "3c27c387-3f5c-4ce1-9bd7-62ba88f2b234"
      },
      "outputs": [
        {
          "name": "stdout",
          "output_type": "stream",
          "text": [
            "Optimized MSE for 총 영업일: 1169415.2464101384\n"
          ]
        }
      ],
      "source": [
        "# 최적의 파라미터로 모델 다시 학습\n",
        "best_params = random_search.best_params_\n",
        "optimized_rf = RandomForestRegressor(\n",
        "    n_estimators=best_params['n_estimators'],\n",
        "    max_depth=best_params['max_depth'],\n",
        "    min_samples_split=best_params['min_samples_split'],\n",
        "    min_samples_leaf=best_params['min_samples_leaf'],\n",
        "    bootstrap=best_params['bootstrap'],\n",
        "    random_state=42\n",
        ")\n",
        "\n",
        "# 모델 학습\n",
        "optimized_rf.fit(X_train, y_train['총 영업일'])\n",
        "\n",
        "# 테스트 데이터에 대한 예측\n",
        "y_pred_optimized = optimized_rf.predict(X_test)\n",
        "\n",
        "# 성능 평가\n",
        "mse_optimized = mean_squared_error(y_test['총 영업일'], y_pred_optimized)\n",
        "print(\"Optimized MSE for 총 영업일:\", mse_optimized)\n"
      ]
    },
    {
      "cell_type": "code",
      "execution_count": null,
      "metadata": {
        "id": "HpbmthsSQ8Ua"
      },
      "outputs": [],
      "source": []
    },
    {
      "cell_type": "markdown",
      "metadata": {
        "id": "xyfPSgUZTeMc"
      },
      "source": [
        "### Gradient Boosting\n",
        "\n"
      ]
    },
    {
      "cell_type": "code",
      "execution_count": null,
      "metadata": {
        "colab": {
          "base_uri": "https://localhost:8080/"
        },
        "id": "Orujw3qoTf5p",
        "outputId": "5d61ef93-c88c-425f-ec9b-70c53d236491"
      },
      "outputs": [
        {
          "name": "stdout",
          "output_type": "stream",
          "text": [
            "Gradient Boosting Prediction for High-priced Franchise:\n",
            " - 폐업 여부: 생존\n",
            " - 총 영업일 예측: 1092.82일\n"
          ]
        }
      ],
      "source": [
        "from sklearn.ensemble import GradientBoostingRegressor\n",
        "from sklearn.multioutput import MultiOutputRegressor\n",
        "\n",
        "# Gradient Boosting 모델 생성 및 학습\n",
        "gb_model = MultiOutputRegressor(GradientBoostingRegressor(random_state=42))\n",
        "gb_model.fit(X_train, y_train)\n",
        "\n",
        "# 새로운 데이터에 대해 예측 수행\n",
        "pred_high_gb = gb_model.predict(new_data_high)\n",
        "\n",
        "# 예측된 폐업 여부 및 총 영업일 출력 (Gradient Boosting)\n",
        "predicted_result_gb = {\n",
        "    \"High-priced Franchise (Gradient Boosting)\": {\n",
        "        \"폐업 여부\": \"폐업\" if round(pred_high_gb[0][0]) == 1 else \"생존\",\n",
        "        \"총 영업일 예측\": pred_high_gb[0][1]\n",
        "    }\n",
        "}\n",
        "\n",
        "print(\"Gradient Boosting Prediction for High-priced Franchise:\")\n",
        "print(f\" - 폐업 여부: {predicted_result_gb['High-priced Franchise (Gradient Boosting)']['폐업 여부']}\")\n",
        "print(f\" - 총 영업일 예측: {predicted_result_gb['High-priced Franchise (Gradient Boosting)']['총 영업일 예측']:.2f}일\")\n"
      ]
    },
    {
      "cell_type": "markdown",
      "metadata": {
        "id": "fhK1XIerT8WM"
      },
      "source": [
        "### XGBoost"
      ]
    },
    {
      "cell_type": "code",
      "execution_count": null,
      "metadata": {
        "colab": {
          "base_uri": "https://localhost:8080/"
        },
        "id": "OFop0b1eT-cz",
        "outputId": "af0906ac-d1ee-41b3-a721-6671c0a8d2ad"
      },
      "outputs": [
        {
          "name": "stdout",
          "output_type": "stream",
          "text": [
            "Requirement already satisfied: xgboost in /usr/local/lib/python3.10/dist-packages (2.1.2)\n",
            "Requirement already satisfied: numpy in /usr/local/lib/python3.10/dist-packages (from xgboost) (1.26.4)\n",
            "Requirement already satisfied: nvidia-nccl-cu12 in /usr/local/lib/python3.10/dist-packages (from xgboost) (2.23.4)\n",
            "Requirement already satisfied: scipy in /usr/local/lib/python3.10/dist-packages (from xgboost) (1.13.1)\n"
          ]
        }
      ],
      "source": [
        "!pip install xgboost\n"
      ]
    },
    {
      "cell_type": "code",
      "execution_count": null,
      "metadata": {
        "colab": {
          "base_uri": "https://localhost:8080/"
        },
        "id": "QDiwiaYQUAtW",
        "outputId": "6a454ad1-e99b-4cba-a71b-275a0a4768e5"
      },
      "outputs": [
        {
          "name": "stdout",
          "output_type": "stream",
          "text": [
            "XGBoost Prediction for High-priced Franchise:\n",
            " - 폐업 여부: 생존\n",
            " - 총 영업일 예측: 763.61일\n"
          ]
        }
      ],
      "source": [
        "import xgboost as xgb\n",
        "from sklearn.multioutput import MultiOutputRegressor\n",
        "\n",
        "# XGBoost 모델 생성 및 학습\n",
        "xgb_model = MultiOutputRegressor(xgb.XGBRegressor(objective='reg:squarederror', random_state=42))\n",
        "xgb_model.fit(X_train, y_train)\n",
        "\n",
        "# 새로운 데이터에 대해 예측 수행\n",
        "pred_high_xgb = xgb_model.predict(new_data_high)\n",
        "\n",
        "# 예측된 폐업 여부 및 총 영업일 출력 (XGBoost)\n",
        "predicted_result_xgb = {\n",
        "    \"High-priced Franchise (XGBoost)\": {\n",
        "        \"폐업 여부\": \"폐업\" if round(pred_high_xgb[0][0]) == 1 else \"생존\",\n",
        "        \"총 영업일 예측\": pred_high_xgb[0][1]\n",
        "    }\n",
        "}\n",
        "\n",
        "print(\"XGBoost Prediction for High-priced Franchise:\")\n",
        "print(f\" - 폐업 여부: {predicted_result_xgb['High-priced Franchise (XGBoost)']['폐업 여부']}\")\n",
        "print(f\" - 총 영업일 예측: {predicted_result_xgb['High-priced Franchise (XGBoost)']['총 영업일 예측']:.2f}일\")\n"
      ]
    },
    {
      "cell_type": "code",
      "execution_count": null,
      "metadata": {
        "colab": {
          "base_uri": "https://localhost:8080/"
        },
        "id": "gUP5X2PEUKuH",
        "outputId": "5d9d21d3-892f-40bd-b253-b4a8a8e966d1"
      },
      "outputs": [
        {
          "name": "stdout",
          "output_type": "stream",
          "text": [
            "\n",
            "Gradient Boosting Model Performance:\n",
            "Accuracy for 폐업여부: 0.71\n",
            "MSE for 총 영업일: 1198801.76\n",
            "MAPE for 총 영업일: 5.90\n",
            "\n",
            "XGBoost Model Performance:\n",
            "Accuracy for 폐업여부: 0.72\n",
            "MSE for 총 영업일: 1187749.64\n",
            "MAPE for 총 영업일: 4.90\n"
          ]
        }
      ],
      "source": [
        "from sklearn.metrics import mean_squared_error, accuracy_score, mean_absolute_percentage_error\n",
        "\n",
        "# Gradient Boosting 성능 평가\n",
        "y_pred_gb = gb_model.predict(X_test)\n",
        "accuracy_gb = accuracy_score(y_test['폐업여부'], np.round(y_pred_gb[:, 0]))\n",
        "mse_gb = mean_squared_error(y_test['총 영업일'], y_pred_gb[:, 1])\n",
        "mape_gb = mean_absolute_percentage_error(y_test['총 영업일'], y_pred_gb[:, 1])\n",
        "\n",
        "print(\"\\nGradient Boosting Model Performance:\")\n",
        "print(f\"Accuracy for 폐업여부: {accuracy_gb:.2f}\")\n",
        "print(f\"MSE for 총 영업일: {mse_gb:.2f}\")\n",
        "print(f\"MAPE for 총 영업일: {mape_gb:.2f}\")\n",
        "\n",
        "# XGBoost 성능 평가\n",
        "y_pred_xgb = xgb_model.predict(X_test)\n",
        "accuracy_xgb = accuracy_score(y_test['폐업여부'], np.round(y_pred_xgb[:, 0]))\n",
        "mse_xgb = mean_squared_error(y_test['총 영업일'], y_pred_xgb[:, 1])\n",
        "mape_xgb = mean_absolute_percentage_error(y_test['총 영업일'], y_pred_xgb[:, 1])\n",
        "\n",
        "print(\"\\nXGBoost Model Performance:\")\n",
        "print(f\"Accuracy for 폐업여부: {accuracy_xgb:.2f}\")\n",
        "print(f\"MSE for 총 영업일: {mse_xgb:.2f}\")\n",
        "print(f\"MAPE for 총 영업일: {mape_xgb:.2f}\")\n"
      ]
    }
  ],
  "metadata": {
    "colab": {
      "provenance": []
    },
    "kernelspec": {
      "display_name": "Python 3",
      "name": "python3"
    },
    "language_info": {
      "name": "python"
    }
  },
  "nbformat": 4,
  "nbformat_minor": 0
}